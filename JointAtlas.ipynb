{
 "cells": [
  {
   "cell_type": "markdown",
   "id": "5b95a0e5",
   "metadata": {},
   "source": [
    "# Reproducible sourcing and merging of atlases\n",
    "\n",
    "It can be hard to know exactly where atlases came from and how they were processed after being downloaded. This notebook downloads and merges some popular/very nice atlases for connectivity analysis."
   ]
  },
  {
   "cell_type": "code",
   "execution_count": 1,
   "id": "f348fb8a",
   "metadata": {},
   "outputs": [
    {
     "name": "stderr",
     "output_type": "stream",
     "text": [
      "+ for atlasname in CIT168 cerebellum schaefer_map thalamic_atlas\n",
      "+ cd CIT168\n",
      "+ bash -ex prepare_atlas.sh\n",
      "+ wget https://osf.io/download/6qrcb\n",
      "--2023-02-02 16:19:50--  https://osf.io/download/6qrcb\n",
      "Resolving osf.io (osf.io)... 35.190.84.173\n",
      "Connecting to osf.io (osf.io)|35.190.84.173|:443... connected.\n",
      "HTTP request sent, awaiting response... 308 PERMANENT REDIRECT\n",
      "Location: https://osf.io/download/6qrcb/ [following]\n",
      "--2023-02-02 16:19:50--  https://osf.io/download/6qrcb/\n",
      "Reusing existing connection to osf.io:443.\n",
      "HTTP request sent, awaiting response... 302 FOUND\n",
      "Location: https://files.osf.io/v1/resources/jkzwp/providers/osfstorage/5b11f996f1f288000f627962 [following]\n",
      "--2023-02-02 16:19:50--  https://files.osf.io/v1/resources/jkzwp/providers/osfstorage/5b11f996f1f288000f627962\n",
      "Resolving files.osf.io (files.osf.io)... 35.186.214.196\n",
      "Connecting to files.osf.io (files.osf.io)|35.186.214.196|:443... connected.\n",
      "HTTP request sent, awaiting response... 302 Found\n",
      "Location: https://storage.googleapis.com/cos-osf-prod-files-us/5e00265a7bbbdf242356345e0f6615d84791ada54aa9739539096aab3c1e1b41?response-content-disposition=attachment%3B%20filename%3D%22labels.txt%22%3B%20filename%2A%3DUTF-8%27%27labels.txt&GoogleAccessId=files-us%40cos-osf-prod.iam.gserviceaccount.com&Expires=1675372851&Signature=GwC%2Fkx5xMX%2FZhqQPcRtbM%2FkhodxmXuipYLUeHLJoTEMsdc19dHmyo5QaITj5Ko%2FYHNdkUBe9oyqxNtAb9lXxWRf70tOwZ89g3BhnexVXq%2FlTsWCTrKFMQmj8WMchF9RK0ILJ1ghdSGgHmv9aVK7C%2Bc7BOTCWDGbeggvhXryp54Qb3oAfhVUFyNYsA0cf6qShz55VCx58pyC0iGIG8Xdoot8edzSmRARr%2FkwFq%2BaF3J%2BrhjCjrdL%2B6uCFVO7%2B87gRq%2FbrcCNjKMkg1ROfz%2BSXgO4VCErW4Ce2GZd6oQGY6bBV068jUdoKv9U9szwFnbeMmA7%2BWO2jQ1R63tbktr0qeQ%3D%3D [following]\n",
      "--2023-02-02 16:19:51--  https://storage.googleapis.com/cos-osf-prod-files-us/5e00265a7bbbdf242356345e0f6615d84791ada54aa9739539096aab3c1e1b41?response-content-disposition=attachment%3B%20filename%3D%22labels.txt%22%3B%20filename%2A%3DUTF-8%27%27labels.txt&GoogleAccessId=files-us%40cos-osf-prod.iam.gserviceaccount.com&Expires=1675372851&Signature=GwC%2Fkx5xMX%2FZhqQPcRtbM%2FkhodxmXuipYLUeHLJoTEMsdc19dHmyo5QaITj5Ko%2FYHNdkUBe9oyqxNtAb9lXxWRf70tOwZ89g3BhnexVXq%2FlTsWCTrKFMQmj8WMchF9RK0ILJ1ghdSGgHmv9aVK7C%2Bc7BOTCWDGbeggvhXryp54Qb3oAfhVUFyNYsA0cf6qShz55VCx58pyC0iGIG8Xdoot8edzSmRARr%2FkwFq%2BaF3J%2BrhjCjrdL%2B6uCFVO7%2B87gRq%2FbrcCNjKMkg1ROfz%2BSXgO4VCErW4Ce2GZd6oQGY6bBV068jUdoKv9U9szwFnbeMmA7%2BWO2jQ1R63tbktr0qeQ%3D%3D\n",
      "Resolving storage.googleapis.com (storage.googleapis.com)... 142.251.111.128, 142.251.163.128, 142.251.167.128, ...\n",
      "Connecting to storage.googleapis.com (storage.googleapis.com)|142.251.111.128|:443... connected.\n",
      "HTTP request sent, awaiting response... 200 OK\n",
      "Length: 123 [application/octet-stream]\n",
      "Saving to: ‘6qrcb’\n",
      "\n",
      "     0K                                                       100% 58.7M=0s\n",
      "\n",
      "2023-02-02 16:19:51 (58.7 MB/s) - ‘6qrcb’ saved [123/123]\n",
      "\n",
      "+ mv 6qrcb labels.txt\n",
      "+ wget https://osf.io/download/2qswg\n",
      "--2023-02-02 16:19:51--  https://osf.io/download/2qswg\n",
      "Resolving osf.io (osf.io)... 35.190.84.173\n",
      "Connecting to osf.io (osf.io)|35.190.84.173|:443... connected.\n",
      "HTTP request sent, awaiting response... 308 PERMANENT REDIRECT\n",
      "Location: https://osf.io/download/2qswg/ [following]\n",
      "--2023-02-02 16:19:51--  https://osf.io/download/2qswg/\n",
      "Reusing existing connection to osf.io:443.\n",
      "HTTP request sent, awaiting response... 302 FOUND\n",
      "Location: https://files.osf.io/v1/resources/jkzwp/providers/osfstorage/5b11fa0164f25a000e7557f7 [following]\n",
      "--2023-02-02 16:19:51--  https://files.osf.io/v1/resources/jkzwp/providers/osfstorage/5b11fa0164f25a000e7557f7\n",
      "Resolving files.osf.io (files.osf.io)... 35.186.214.196\n",
      "Connecting to files.osf.io (files.osf.io)|35.186.214.196|:443... connected.\n",
      "HTTP request sent, awaiting response... 302 Found\n",
      "Location: https://storage.googleapis.com/cos-osf-prod-files-us/8b43e911c6849c9a57c9153499a324d2e3894531bb31446b6905b4c357693ae0?response-content-disposition=attachment%3B%20filename%3D%22CIT168toMNI152-FSL_det.nii.gz%22%3B%20filename%2A%3DUTF-8%27%27CIT168toMNI152-FSL_det.nii.gz&GoogleAccessId=files-us%40cos-osf-prod.iam.gserviceaccount.com&Expires=1675372852&Signature=CT0EHHDgLOdztPvvijp2UbFLYNaMg9RiIwB6wP8rG90ILx%2Fx0K1Zo6EQOq3ph8HfXQdI43qHEuS7ePqeD0r1Qe7qiqtMCDMYs%2F28KptDXExJ%2BgaoONzY43AJllthdS4f5vQLoouKIyJbP%2FnM%2BrrdAKxWN8W2FqgYshwEWjx8FA3d3SbN4daMh%2F2oUhvjItOOvLj%2FTOc4eXiKxNgXJLqY6G6ssuCdHbJZRXv1jvfvff5yn3sumA3fNrUx651ymJd5VVd170DnZOIF2hvC7MKjFnd5T8eyuYBirb%2FvikozXvi9lIUauczHhgpxUFJNyM%2FM4%2BKJbk9p%2BU%2BOiXSTh7UpVw%3D%3D [following]\n",
      "--2023-02-02 16:19:52--  https://storage.googleapis.com/cos-osf-prod-files-us/8b43e911c6849c9a57c9153499a324d2e3894531bb31446b6905b4c357693ae0?response-content-disposition=attachment%3B%20filename%3D%22CIT168toMNI152-FSL_det.nii.gz%22%3B%20filename%2A%3DUTF-8%27%27CIT168toMNI152-FSL_det.nii.gz&GoogleAccessId=files-us%40cos-osf-prod.iam.gserviceaccount.com&Expires=1675372852&Signature=CT0EHHDgLOdztPvvijp2UbFLYNaMg9RiIwB6wP8rG90ILx%2Fx0K1Zo6EQOq3ph8HfXQdI43qHEuS7ePqeD0r1Qe7qiqtMCDMYs%2F28KptDXExJ%2BgaoONzY43AJllthdS4f5vQLoouKIyJbP%2FnM%2BrrdAKxWN8W2FqgYshwEWjx8FA3d3SbN4daMh%2F2oUhvjItOOvLj%2FTOc4eXiKxNgXJLqY6G6ssuCdHbJZRXv1jvfvff5yn3sumA3fNrUx651ymJd5VVd170DnZOIF2hvC7MKjFnd5T8eyuYBirb%2FvikozXvi9lIUauczHhgpxUFJNyM%2FM4%2BKJbk9p%2BU%2BOiXSTh7UpVw%3D%3D\n",
      "Resolving storage.googleapis.com (storage.googleapis.com)... 172.253.63.128, 142.251.163.128, 142.251.167.128, ...\n",
      "Connecting to storage.googleapis.com (storage.googleapis.com)|172.253.63.128|:443... connected.\n",
      "HTTP request sent, awaiting response... 200 OK\n",
      "Length: 44739 (44K) [application/octet-stream]\n",
      "Saving to: ‘2qswg’\n",
      "\n",
      "     0K .......... .......... .......... .......... ...       100% 2.15M=0.02s\n",
      "\n",
      "2023-02-02 16:19:52 (2.15 MB/s) - ‘2qswg’ saved [44739/44739]\n",
      "\n",
      "+ mv 2qswg tpl-MNI152NLin6Asym_atlas-CIT168_res-01_desc-LAS_dseg.nii.gz\n",
      "+ 3dresample -orient LPI -inset tpl-MNI152NLin6Asym_atlas-CIT168_res-01_desc-LAS_dseg.nii.gz -prefix tpl-MNI152NLin6Asym_atlas-CIT168_res-01_desc-RAS_dseg.nii.gz\n",
      "+ wget https://osf.io/download/vak6p\n",
      "--2023-02-02 16:19:52--  https://osf.io/download/vak6p\n",
      "Resolving osf.io (osf.io)... 35.190.84.173\n",
      "Connecting to osf.io (osf.io)|35.190.84.173|:443... connected.\n",
      "HTTP request sent, awaiting response... 308 PERMANENT REDIRECT\n",
      "Location: https://osf.io/download/vak6p/ [following]\n",
      "--2023-02-02 16:19:52--  https://osf.io/download/vak6p/\n",
      "Reusing existing connection to osf.io:443.\n",
      "HTTP request sent, awaiting response... 302 FOUND\n",
      "Location: https://files.osf.io/v1/resources/jkzwp/providers/osfstorage/5b11fa2ff1f288000e625a7f [following]\n",
      "--2023-02-02 16:19:52--  https://files.osf.io/v1/resources/jkzwp/providers/osfstorage/5b11fa2ff1f288000e625a7f\n",
      "Resolving files.osf.io (files.osf.io)... 35.186.214.196\n",
      "Connecting to files.osf.io (files.osf.io)|35.186.214.196|:443... connected.\n",
      "HTTP request sent, awaiting response... 302 Found\n",
      "Location: https://storage.googleapis.com/cos-osf-prod-files-us/0072d6ea3c05d1e798743e7d1f732fbc9c50ee6969bc5e68c6bdba3472d26242?response-content-disposition=attachment%3B%20filename%3D%22CIT168toMNI152-2009c_det.nii.gz%22%3B%20filename%2A%3DUTF-8%27%27CIT168toMNI152-2009c_det.nii.gz&GoogleAccessId=files-us%40cos-osf-prod.iam.gserviceaccount.com&Expires=1675372854&Signature=EvGd8iEq5AAEkguzxrN2sQ0dLMOwyw%2FVyvewxQcA6H8hop1uQ2QOwkrq6%2BOsW2vEy16aH9LoHVmE1HZo1II7ohJhLpaREQddfijO3zT2qVNY9%2B%2FxawFyn5lP9FJ9B8IgiGaIORUF2ffUAvzobuueeYoaqZGDsiezokwhwnK2JMJF0rQMShYnTb%2BmjU8maNcAaQ0mb0qdMZW3qIJ6UQnoHYyvkkV94MT0F2FmN08wqD3A3nCWVY5ek6m28Lj4I9mLzrsU%2FfMxNHh01VY4VzbbZTZ%2Fvbszk8brlwPjrx6QdDvX9%2BuspIvscSypMPMoCSBif88vqGYOOD6Uk6qKwVtUZA%3D%3D [following]\n",
      "--2023-02-02 16:19:54--  https://storage.googleapis.com/cos-osf-prod-files-us/0072d6ea3c05d1e798743e7d1f732fbc9c50ee6969bc5e68c6bdba3472d26242?response-content-disposition=attachment%3B%20filename%3D%22CIT168toMNI152-2009c_det.nii.gz%22%3B%20filename%2A%3DUTF-8%27%27CIT168toMNI152-2009c_det.nii.gz&GoogleAccessId=files-us%40cos-osf-prod.iam.gserviceaccount.com&Expires=1675372854&Signature=EvGd8iEq5AAEkguzxrN2sQ0dLMOwyw%2FVyvewxQcA6H8hop1uQ2QOwkrq6%2BOsW2vEy16aH9LoHVmE1HZo1II7ohJhLpaREQddfijO3zT2qVNY9%2B%2FxawFyn5lP9FJ9B8IgiGaIORUF2ffUAvzobuueeYoaqZGDsiezokwhwnK2JMJF0rQMShYnTb%2BmjU8maNcAaQ0mb0qdMZW3qIJ6UQnoHYyvkkV94MT0F2FmN08wqD3A3nCWVY5ek6m28Lj4I9mLzrsU%2FfMxNHh01VY4VzbbZTZ%2Fvbszk8brlwPjrx6QdDvX9%2BuspIvscSypMPMoCSBif88vqGYOOD6Uk6qKwVtUZA%3D%3D\n"
     ]
    },
    {
     "name": "stderr",
     "output_type": "stream",
     "text": [
      "Resolving storage.googleapis.com (storage.googleapis.com)... 172.253.122.128, 142.251.163.128, 142.251.167.128, ...\n",
      "Connecting to storage.googleapis.com (storage.googleapis.com)|172.253.122.128|:443... connected.\n",
      "HTTP request sent, awaiting response... 200 OK\n",
      "Length: 51026 (50K) [application/octet-stream]\n",
      "Saving to: ‘vak6p’\n",
      "\n",
      "     0K .......... .......... .......... .......... ......... 100% 1.99M=0.02s\n",
      "\n",
      "2023-02-02 16:19:54 (1.99 MB/s) - ‘vak6p’ saved [51026/51026]\n",
      "\n",
      "+ mv vak6p tpl-MNI152NLin2009cAsym_atlas-CIT168_res-01_desc-RAS_dseg.nii.gz\n",
      "+ python split_up_cit168.py tpl-MNI152NLin6Asym_atlas-CIT168_res-01_desc-RAS_dseg.nii.gz tpl-MNI152NLin6Asym_atlas-CIT168_res-01_desc-LRSplit_dseg\n",
      "+ python split_up_cit168.py tpl-MNI152NLin2009cAsym_atlas-CIT168_res-01_desc-RAS_dseg.nii.gz tpl-MNI152NLin2009cAsym_atlas-CIT168_res-01_desc-LRSplit_dseg\n",
      "+ cp tpl-MNI152NLin2009cAsym_atlas-CIT168_res-01_desc-LRSplit_dseg.tsv atl-CIT168.tsv\n",
      "+ cd ..\n",
      "+ for atlasname in CIT168 cerebellum schaefer_map thalamic_atlas\n",
      "+ cd cerebellum\n",
      "+ bash -ex prepare_atlas.sh\n",
      "+ wget https://github.com/DiedrichsenLab/cerebellar_atlases/raw/master/King_2019/atlas_description.json\n",
      "--2023-02-02 16:19:58--  https://github.com/DiedrichsenLab/cerebellar_atlases/raw/master/King_2019/atlas_description.json\n",
      "Resolving github.com (github.com)... 140.82.112.4\n",
      "Connecting to github.com (github.com)|140.82.112.4|:443... connected.\n",
      "HTTP request sent, awaiting response... 302 Found\n",
      "Location: https://raw.githubusercontent.com/DiedrichsenLab/cerebellar_atlases/master/King_2019/atlas_description.json [following]\n",
      "--2023-02-02 16:19:58--  https://raw.githubusercontent.com/DiedrichsenLab/cerebellar_atlases/master/King_2019/atlas_description.json\n",
      "Resolving raw.githubusercontent.com (raw.githubusercontent.com)... 185.199.108.133, 185.199.111.133, 185.199.109.133, ...\n",
      "Connecting to raw.githubusercontent.com (raw.githubusercontent.com)|185.199.108.133|:443... connected.\n",
      "HTTP request sent, awaiting response... 200 OK\n",
      "Length: 6678 (6.5K) [text/plain]\n",
      "Saving to: ‘atlas_description.json’\n",
      "\n",
      "     0K ......                                                100% 20.6M=0s\n",
      "\n",
      "2023-02-02 16:19:59 (20.6 MB/s) - ‘atlas_description.json’ saved [6678/6678]\n",
      "\n",
      "+ wget https://github.com/DiedrichsenLab/cerebellar_atlases/raw/master/King_2019/atl-MDTB10.tsv\n",
      "--2023-02-02 16:19:59--  https://github.com/DiedrichsenLab/cerebellar_atlases/raw/master/King_2019/atl-MDTB10.tsv\n",
      "Resolving github.com (github.com)... 140.82.112.4\n",
      "Connecting to github.com (github.com)|140.82.112.4|:443... connected.\n",
      "HTTP request sent, awaiting response... 302 Found\n",
      "Location: https://raw.githubusercontent.com/DiedrichsenLab/cerebellar_atlases/master/King_2019/atl-MDTB10.tsv [following]\n",
      "--2023-02-02 16:19:59--  https://raw.githubusercontent.com/DiedrichsenLab/cerebellar_atlases/master/King_2019/atl-MDTB10.tsv\n",
      "Resolving raw.githubusercontent.com (raw.githubusercontent.com)... 185.199.108.133, 185.199.111.133, 185.199.109.133, ...\n",
      "Connecting to raw.githubusercontent.com (raw.githubusercontent.com)|185.199.108.133|:443... connected.\n",
      "HTTP request sent, awaiting response... 200 OK\n",
      "Length: 199 [text/plain]\n",
      "Saving to: ‘atl-MDTB10.tsv’\n",
      "\n",
      "     0K                                                       100% 2.23M=0s\n",
      "\n",
      "2023-02-02 16:19:59 (2.23 MB/s) - ‘atl-MDTB10.tsv’ saved [199/199]\n",
      "\n",
      "+ wget https://github.com/DiedrichsenLab/cerebellar_atlases/raw/master/King_2019/atl-MDTB10_space-MNI_dseg.nii\n",
      "--2023-02-02 16:19:59--  https://github.com/DiedrichsenLab/cerebellar_atlases/raw/master/King_2019/atl-MDTB10_space-MNI_dseg.nii\n",
      "Resolving github.com (github.com)... 140.82.112.4\n",
      "Connecting to github.com (github.com)|140.82.112.4|:443... connected.\n",
      "HTTP request sent, awaiting response... 302 Found\n",
      "Location: https://raw.githubusercontent.com/DiedrichsenLab/cerebellar_atlases/master/King_2019/atl-MDTB10_space-MNI_dseg.nii [following]\n",
      "--2023-02-02 16:20:00--  https://raw.githubusercontent.com/DiedrichsenLab/cerebellar_atlases/master/King_2019/atl-MDTB10_space-MNI_dseg.nii\n",
      "Resolving raw.githubusercontent.com (raw.githubusercontent.com)... 185.199.108.133, 185.199.111.133, 185.199.109.133, ...\n",
      "Connecting to raw.githubusercontent.com (raw.githubusercontent.com)|185.199.108.133|:443... connected.\n",
      "HTTP request sent, awaiting response... 200 OK\n",
      "Length: 1165717 (1.1M) [application/octet-stream]\n",
      "Saving to: ‘atl-MDTB10_space-MNI_dseg.nii’\n",
      "\n",
      "     0K .......... .......... .......... .......... ..........  4%  812K 1s\n",
      "    50K .......... .......... .......... .......... ..........  8% 9.30M 1s\n",
      "   100K .......... .......... .......... .......... .......... 13% 3.28M 1s\n",
      "   150K .......... .......... .......... .......... .......... 17% 28.8M 0s\n",
      "   200K .......... .......... .......... .......... .......... 21% 6.09M 0s\n",
      "   250K .......... .......... .......... .......... .......... 26% 21.1M 0s\n",
      "   300K .......... .......... .......... .......... .......... 30% 18.1M 0s\n",
      "   350K .......... .......... .......... .......... .......... 35% 20.3M 0s\n",
      "   400K .......... .......... .......... .......... .......... 39% 11.8M 0s\n",
      "   450K .......... .......... .......... .......... .......... 43% 84.3M 0s\n",
      "   500K .......... .......... .......... .......... .......... 48% 7.55M 0s\n",
      "   550K .......... .......... .......... .......... .......... 52%  144M 0s\n",
      "   600K .......... .......... .......... .......... .......... 57% 39.9M 0s\n",
      "   650K .......... .......... .......... .......... .......... 61%  160M 0s\n",
      "   700K .......... .......... .......... .......... .......... 65% 14.9M 0s\n",
      "   750K .......... .......... .......... .......... .......... 70% 66.6M 0s\n",
      "   800K .......... .......... .......... .......... .......... 74% 4.38M 0s\n",
      "   850K .......... .......... .......... .......... .......... 79%  178M 0s\n",
      "   900K .......... .......... .......... .......... .......... 83% 31.4M 0s\n",
      "   950K .......... .......... .......... .......... .......... 87%  123M 0s\n",
      "  1000K .......... .......... .......... .......... .......... 92% 5.79M 0s\n",
      "  1050K .......... .......... .......... .......... .......... 96% 26.5M 0s\n",
      "  1100K .......... .......... .......... ........             100% 15.8M=0.1s\n",
      "\n",
      "2023-02-02 16:20:00 (7.83 MB/s) - ‘atl-MDTB10_space-MNI_dseg.nii’ saved [1165717/1165717]\n",
      "\n",
      "+ antsApplyTransforms -d 3 -i atl-MDTB10_space-MNI_dseg.nii -o tpl-MNI152NLin6Asym_atlas-MDTB10_res-01_dseg.nii.gz -r /Users/mcieslak/projects/templateflow/tpl-MNI152NLin6Asym/tpl-MNI152NLin6Asym_res-01_desc-brain_mask.nii.gz --interpolation GenericLabel -v 1\n"
     ]
    },
    {
     "name": "stdout",
     "output_type": "stream",
     "text": [
      "Using double precision for computations.\n",
      "Input scalar image: atl-MDTB10_space-MNI_dseg.nii\n",
      "Reference image: /Users/mcieslak/projects/templateflow/tpl-MNI152NLin6Asym/tpl-MNI152NLin6Asym_res-01_desc-brain_mask.nii.gz\n",
      "=============================================================================\n",
      "The composite transform comprises the following transforms (in order): \n",
      "=============================================================================\n",
      "WARNING: No transforms found, using identify transform\n",
      "Default pixel value: 0\n",
      "Interpolation type: LabelImageGenericInterpolateImageFunction\n",
      "Output warped image: tpl-MNI152NLin6Asym_atlas-MDTB10_res-01_dseg.nii.gz\n"
     ]
    },
    {
     "name": "stderr",
     "output_type": "stream",
     "text": [
      "+ antsApplyTransforms -d 3 -i atl-MDTB10_space-MNI_dseg.nii -o tpl-MNI152NLin2009cAsym_atlas-MDTB10_res-01_dseg.nii.gz -t /Users/mcieslak/projects/templateflow/tpl-MNI152NLin2009cAsym/tpl-MNI152NLin2009cAsym_from-MNI152NLin6Asym_mode-image_xfm.h5 -r /Users/mcieslak/projects/templateflow/tpl-MNI152NLin2009cAsym/tpl-MNI152NLin2009cAsym_res-01_desc-brain_mask.nii.gz --interpolation GenericLabel -v 1\n"
     ]
    },
    {
     "name": "stdout",
     "output_type": "stream",
     "text": [
      "Using double precision for computations.\n",
      "Input scalar image: atl-MDTB10_space-MNI_dseg.nii\n",
      "Reference image: /Users/mcieslak/projects/templateflow/tpl-MNI152NLin2009cAsym/tpl-MNI152NLin2009cAsym_res-01_desc-brain_mask.nii.gz\n",
      "=============================================================================\n",
      "The composite transform comprises the following transforms (in order): \n",
      "  1. /Users/mcieslak/projects/templateflow/tpl-MNI152NLin2009cAsym/tpl-MNI152NLin2009cAsym_from-MNI152NLin6Asym_mode-image_xfm.h5[0] (type = AffineTransform)\n",
      "  2. /Users/mcieslak/projects/templateflow/tpl-MNI152NLin2009cAsym/tpl-MNI152NLin2009cAsym_from-MNI152NLin6Asym_mode-image_xfm.h5[1] (type = DisplacementFieldTransform)\n",
      "=============================================================================\n",
      "Default pixel value: 0\n",
      "Interpolation type: LabelImageGenericInterpolateImageFunction\n",
      "Output warped image: tpl-MNI152NLin2009cAsym_atlas-MDTB10_res-01_dseg.nii.gz\n"
     ]
    },
    {
     "name": "stderr",
     "output_type": "stream",
     "text": [
      "+ cd ..\n",
      "+ for atlasname in CIT168 cerebellum schaefer_map thalamic_atlas\n",
      "+ cd schaefer_map\n",
      "+ bash -ex prepare_atlas.sh\n",
      "+ python schaefer_ordering_mapper.py\n",
      "100%|██████████| 8/8 [00:11<00:00,  1.44s/it]\n",
      "+ for order in 100 200 300 400 500 600 800 1000\n",
      "+ original=Schaefer2018_100Parcels_7Networks_order_FSLMNI152_1mm.nii.gz\n",
      "+ antsApplyTransforms -d 3 -i Schaefer2018_100Parcels_7Networks_order_FSLMNI152_1mm.nii.gz -o tpl-MNI152NLin6Asym_res-01_atlas-Schaefer2018v0143_desc-100ParcelsAllNetworks_dseg.nii.gz -r /Users/mcieslak/projects/templateflow/tpl-MNI152NLin6Asym/tpl-MNI152NLin6Asym_res-01_desc-brain_mask.nii.gz --interpolation GenericLabel -v 1\n"
     ]
    },
    {
     "name": "stdout",
     "output_type": "stream",
     "text": [
      "Using double precision for computations.\n",
      "Input scalar image: Schaefer2018_100Parcels_7Networks_order_FSLMNI152_1mm.nii.gz\n",
      "Reference image: /Users/mcieslak/projects/templateflow/tpl-MNI152NLin6Asym/tpl-MNI152NLin6Asym_res-01_desc-brain_mask.nii.gz\n",
      "=============================================================================\n",
      "The composite transform comprises the following transforms (in order): \n",
      "=============================================================================\n",
      "WARNING: No transforms found, using identify transform\n",
      "Default pixel value: 0\n",
      "Interpolation type: LabelImageGenericInterpolateImageFunction\n",
      "Output warped image: tpl-MNI152NLin6Asym_res-01_atlas-Schaefer2018v0143_desc-100ParcelsAllNetworks_dseg.nii.gz\n"
     ]
    },
    {
     "name": "stderr",
     "output_type": "stream",
     "text": [
      "+ antsApplyTransforms -d 3 -i Schaefer2018_100Parcels_7Networks_order_FSLMNI152_1mm.nii.gz -o tpl-MNI152NLin2009cAsym_res-01_atlas-Schaefer2018v0143_desc-100ParcelsAllNetworks_dseg.nii.gz -t /Users/mcieslak/projects/templateflow/tpl-MNI152NLin2009cAsym/tpl-MNI152NLin2009cAsym_from-MNI152NLin6Asym_mode-image_xfm.h5 -r /Users/mcieslak/projects/templateflow/tpl-MNI152NLin2009cAsym/tpl-MNI152NLin2009cAsym_res-01_desc-brain_mask.nii.gz --interpolation GenericLabel -v 1\n"
     ]
    },
    {
     "name": "stdout",
     "output_type": "stream",
     "text": [
      "Using double precision for computations.\n",
      "Input scalar image: Schaefer2018_100Parcels_7Networks_order_FSLMNI152_1mm.nii.gz\n",
      "Reference image: /Users/mcieslak/projects/templateflow/tpl-MNI152NLin2009cAsym/tpl-MNI152NLin2009cAsym_res-01_desc-brain_mask.nii.gz\n",
      "=============================================================================\n",
      "The composite transform comprises the following transforms (in order): \n",
      "  1. /Users/mcieslak/projects/templateflow/tpl-MNI152NLin2009cAsym/tpl-MNI152NLin2009cAsym_from-MNI152NLin6Asym_mode-image_xfm.h5[0] (type = AffineTransform)\n",
      "  2. /Users/mcieslak/projects/templateflow/tpl-MNI152NLin2009cAsym/tpl-MNI152NLin2009cAsym_from-MNI152NLin6Asym_mode-image_xfm.h5[1] (type = DisplacementFieldTransform)\n",
      "=============================================================================\n",
      "Default pixel value: 0\n",
      "Interpolation type: LabelImageGenericInterpolateImageFunction\n",
      "Output warped image: tpl-MNI152NLin2009cAsym_res-01_atlas-Schaefer2018v0143_desc-100ParcelsAllNetworks_dseg.nii.gz\n"
     ]
    },
    {
     "name": "stderr",
     "output_type": "stream",
     "text": [
      "+ for order in 100 200 300 400 500 600 800 1000\n",
      "+ original=Schaefer2018_200Parcels_7Networks_order_FSLMNI152_1mm.nii.gz\n",
      "+ antsApplyTransforms -d 3 -i Schaefer2018_200Parcels_7Networks_order_FSLMNI152_1mm.nii.gz -o tpl-MNI152NLin6Asym_res-01_atlas-Schaefer2018v0143_desc-200ParcelsAllNetworks_dseg.nii.gz -r /Users/mcieslak/projects/templateflow/tpl-MNI152NLin6Asym/tpl-MNI152NLin6Asym_res-01_desc-brain_mask.nii.gz --interpolation GenericLabel -v 1\n"
     ]
    },
    {
     "name": "stdout",
     "output_type": "stream",
     "text": [
      "Using double precision for computations.\n",
      "Input scalar image: Schaefer2018_200Parcels_7Networks_order_FSLMNI152_1mm.nii.gz\n",
      "Reference image: /Users/mcieslak/projects/templateflow/tpl-MNI152NLin6Asym/tpl-MNI152NLin6Asym_res-01_desc-brain_mask.nii.gz\n",
      "=============================================================================\n",
      "The composite transform comprises the following transforms (in order): \n",
      "=============================================================================\n",
      "WARNING: No transforms found, using identify transform\n",
      "Default pixel value: 0\n",
      "Interpolation type: LabelImageGenericInterpolateImageFunction\n",
      "Output warped image: tpl-MNI152NLin6Asym_res-01_atlas-Schaefer2018v0143_desc-200ParcelsAllNetworks_dseg.nii.gz\n"
     ]
    },
    {
     "name": "stderr",
     "output_type": "stream",
     "text": [
      "+ antsApplyTransforms -d 3 -i Schaefer2018_200Parcels_7Networks_order_FSLMNI152_1mm.nii.gz -o tpl-MNI152NLin2009cAsym_res-01_atlas-Schaefer2018v0143_desc-200ParcelsAllNetworks_dseg.nii.gz -t /Users/mcieslak/projects/templateflow/tpl-MNI152NLin2009cAsym/tpl-MNI152NLin2009cAsym_from-MNI152NLin6Asym_mode-image_xfm.h5 -r /Users/mcieslak/projects/templateflow/tpl-MNI152NLin2009cAsym/tpl-MNI152NLin2009cAsym_res-01_desc-brain_mask.nii.gz --interpolation GenericLabel -v 1\n"
     ]
    },
    {
     "name": "stdout",
     "output_type": "stream",
     "text": [
      "Using double precision for computations.\n",
      "Input scalar image: Schaefer2018_200Parcels_7Networks_order_FSLMNI152_1mm.nii.gz\n",
      "Reference image: /Users/mcieslak/projects/templateflow/tpl-MNI152NLin2009cAsym/tpl-MNI152NLin2009cAsym_res-01_desc-brain_mask.nii.gz\n",
      "=============================================================================\n",
      "The composite transform comprises the following transforms (in order): \n",
      "  1. /Users/mcieslak/projects/templateflow/tpl-MNI152NLin2009cAsym/tpl-MNI152NLin2009cAsym_from-MNI152NLin6Asym_mode-image_xfm.h5[0] (type = AffineTransform)\n",
      "  2. /Users/mcieslak/projects/templateflow/tpl-MNI152NLin2009cAsym/tpl-MNI152NLin2009cAsym_from-MNI152NLin6Asym_mode-image_xfm.h5[1] (type = DisplacementFieldTransform)\n",
      "=============================================================================\n",
      "Default pixel value: 0\n",
      "Interpolation type: LabelImageGenericInterpolateImageFunction\n",
      "Output warped image: tpl-MNI152NLin2009cAsym_res-01_atlas-Schaefer2018v0143_desc-200ParcelsAllNetworks_dseg.nii.gz\n"
     ]
    },
    {
     "name": "stderr",
     "output_type": "stream",
     "text": [
      "+ for order in 100 200 300 400 500 600 800 1000\n",
      "+ original=Schaefer2018_300Parcels_7Networks_order_FSLMNI152_1mm.nii.gz\n",
      "+ antsApplyTransforms -d 3 -i Schaefer2018_300Parcels_7Networks_order_FSLMNI152_1mm.nii.gz -o tpl-MNI152NLin6Asym_res-01_atlas-Schaefer2018v0143_desc-300ParcelsAllNetworks_dseg.nii.gz -r /Users/mcieslak/projects/templateflow/tpl-MNI152NLin6Asym/tpl-MNI152NLin6Asym_res-01_desc-brain_mask.nii.gz --interpolation GenericLabel -v 1\n"
     ]
    },
    {
     "name": "stdout",
     "output_type": "stream",
     "text": [
      "Using double precision for computations.\n",
      "Input scalar image: Schaefer2018_300Parcels_7Networks_order_FSLMNI152_1mm.nii.gz\n",
      "Reference image: /Users/mcieslak/projects/templateflow/tpl-MNI152NLin6Asym/tpl-MNI152NLin6Asym_res-01_desc-brain_mask.nii.gz\n",
      "=============================================================================\n",
      "The composite transform comprises the following transforms (in order): \n",
      "=============================================================================\n",
      "WARNING: No transforms found, using identify transform\n",
      "Default pixel value: 0\n",
      "Interpolation type: LabelImageGenericInterpolateImageFunction\n",
      "Output warped image: tpl-MNI152NLin6Asym_res-01_atlas-Schaefer2018v0143_desc-300ParcelsAllNetworks_dseg.nii.gz\n"
     ]
    },
    {
     "name": "stderr",
     "output_type": "stream",
     "text": [
      "+ antsApplyTransforms -d 3 -i Schaefer2018_300Parcels_7Networks_order_FSLMNI152_1mm.nii.gz -o tpl-MNI152NLin2009cAsym_res-01_atlas-Schaefer2018v0143_desc-300ParcelsAllNetworks_dseg.nii.gz -t /Users/mcieslak/projects/templateflow/tpl-MNI152NLin2009cAsym/tpl-MNI152NLin2009cAsym_from-MNI152NLin6Asym_mode-image_xfm.h5 -r /Users/mcieslak/projects/templateflow/tpl-MNI152NLin2009cAsym/tpl-MNI152NLin2009cAsym_res-01_desc-brain_mask.nii.gz --interpolation GenericLabel -v 1\n"
     ]
    },
    {
     "name": "stdout",
     "output_type": "stream",
     "text": [
      "Using double precision for computations.\n",
      "Input scalar image: Schaefer2018_300Parcels_7Networks_order_FSLMNI152_1mm.nii.gz\n",
      "Reference image: /Users/mcieslak/projects/templateflow/tpl-MNI152NLin2009cAsym/tpl-MNI152NLin2009cAsym_res-01_desc-brain_mask.nii.gz\n",
      "=============================================================================\n",
      "The composite transform comprises the following transforms (in order): \n",
      "  1. /Users/mcieslak/projects/templateflow/tpl-MNI152NLin2009cAsym/tpl-MNI152NLin2009cAsym_from-MNI152NLin6Asym_mode-image_xfm.h5[0] (type = AffineTransform)\n",
      "  2. /Users/mcieslak/projects/templateflow/tpl-MNI152NLin2009cAsym/tpl-MNI152NLin2009cAsym_from-MNI152NLin6Asym_mode-image_xfm.h5[1] (type = DisplacementFieldTransform)\n",
      "=============================================================================\n",
      "Default pixel value: 0\n",
      "Interpolation type: LabelImageGenericInterpolateImageFunction\n",
      "Output warped image: tpl-MNI152NLin2009cAsym_res-01_atlas-Schaefer2018v0143_desc-300ParcelsAllNetworks_dseg.nii.gz\n"
     ]
    },
    {
     "name": "stderr",
     "output_type": "stream",
     "text": [
      "+ for order in 100 200 300 400 500 600 800 1000\n",
      "+ original=Schaefer2018_400Parcels_7Networks_order_FSLMNI152_1mm.nii.gz\n",
      "+ antsApplyTransforms -d 3 -i Schaefer2018_400Parcels_7Networks_order_FSLMNI152_1mm.nii.gz -o tpl-MNI152NLin6Asym_res-01_atlas-Schaefer2018v0143_desc-400ParcelsAllNetworks_dseg.nii.gz -r /Users/mcieslak/projects/templateflow/tpl-MNI152NLin6Asym/tpl-MNI152NLin6Asym_res-01_desc-brain_mask.nii.gz --interpolation GenericLabel -v 1\n"
     ]
    },
    {
     "name": "stdout",
     "output_type": "stream",
     "text": [
      "Using double precision for computations.\n",
      "Input scalar image: Schaefer2018_400Parcels_7Networks_order_FSLMNI152_1mm.nii.gz\n",
      "Reference image: /Users/mcieslak/projects/templateflow/tpl-MNI152NLin6Asym/tpl-MNI152NLin6Asym_res-01_desc-brain_mask.nii.gz\n",
      "=============================================================================\n",
      "The composite transform comprises the following transforms (in order): \n",
      "=============================================================================\n",
      "WARNING: No transforms found, using identify transform\n",
      "Default pixel value: 0\n",
      "Interpolation type: LabelImageGenericInterpolateImageFunction\n",
      "Output warped image: tpl-MNI152NLin6Asym_res-01_atlas-Schaefer2018v0143_desc-400ParcelsAllNetworks_dseg.nii.gz\n"
     ]
    },
    {
     "name": "stderr",
     "output_type": "stream",
     "text": [
      "+ antsApplyTransforms -d 3 -i Schaefer2018_400Parcels_7Networks_order_FSLMNI152_1mm.nii.gz -o tpl-MNI152NLin2009cAsym_res-01_atlas-Schaefer2018v0143_desc-400ParcelsAllNetworks_dseg.nii.gz -t /Users/mcieslak/projects/templateflow/tpl-MNI152NLin2009cAsym/tpl-MNI152NLin2009cAsym_from-MNI152NLin6Asym_mode-image_xfm.h5 -r /Users/mcieslak/projects/templateflow/tpl-MNI152NLin2009cAsym/tpl-MNI152NLin2009cAsym_res-01_desc-brain_mask.nii.gz --interpolation GenericLabel -v 1\n"
     ]
    },
    {
     "name": "stdout",
     "output_type": "stream",
     "text": [
      "Using double precision for computations.\n",
      "Input scalar image: Schaefer2018_400Parcels_7Networks_order_FSLMNI152_1mm.nii.gz\n",
      "Reference image: /Users/mcieslak/projects/templateflow/tpl-MNI152NLin2009cAsym/tpl-MNI152NLin2009cAsym_res-01_desc-brain_mask.nii.gz\n",
      "=============================================================================\n",
      "The composite transform comprises the following transforms (in order): \n",
      "  1. /Users/mcieslak/projects/templateflow/tpl-MNI152NLin2009cAsym/tpl-MNI152NLin2009cAsym_from-MNI152NLin6Asym_mode-image_xfm.h5[0] (type = AffineTransform)\n",
      "  2. /Users/mcieslak/projects/templateflow/tpl-MNI152NLin2009cAsym/tpl-MNI152NLin2009cAsym_from-MNI152NLin6Asym_mode-image_xfm.h5[1] (type = DisplacementFieldTransform)\n",
      "=============================================================================\n",
      "Default pixel value: 0\n",
      "Interpolation type: LabelImageGenericInterpolateImageFunction\n",
      "Output warped image: tpl-MNI152NLin2009cAsym_res-01_atlas-Schaefer2018v0143_desc-400ParcelsAllNetworks_dseg.nii.gz\n"
     ]
    },
    {
     "name": "stderr",
     "output_type": "stream",
     "text": [
      "+ for order in 100 200 300 400 500 600 800 1000\n",
      "+ original=Schaefer2018_500Parcels_7Networks_order_FSLMNI152_1mm.nii.gz\n",
      "+ antsApplyTransforms -d 3 -i Schaefer2018_500Parcels_7Networks_order_FSLMNI152_1mm.nii.gz -o tpl-MNI152NLin6Asym_res-01_atlas-Schaefer2018v0143_desc-500ParcelsAllNetworks_dseg.nii.gz -r /Users/mcieslak/projects/templateflow/tpl-MNI152NLin6Asym/tpl-MNI152NLin6Asym_res-01_desc-brain_mask.nii.gz --interpolation GenericLabel -v 1\n"
     ]
    },
    {
     "name": "stdout",
     "output_type": "stream",
     "text": [
      "Using double precision for computations.\n",
      "Input scalar image: Schaefer2018_500Parcels_7Networks_order_FSLMNI152_1mm.nii.gz\n",
      "Reference image: /Users/mcieslak/projects/templateflow/tpl-MNI152NLin6Asym/tpl-MNI152NLin6Asym_res-01_desc-brain_mask.nii.gz\n",
      "=============================================================================\n",
      "The composite transform comprises the following transforms (in order): \n",
      "=============================================================================\n",
      "WARNING: No transforms found, using identify transform\n",
      "Default pixel value: 0\n",
      "Interpolation type: LabelImageGenericInterpolateImageFunction\n",
      "Output warped image: tpl-MNI152NLin6Asym_res-01_atlas-Schaefer2018v0143_desc-500ParcelsAllNetworks_dseg.nii.gz\n"
     ]
    },
    {
     "name": "stderr",
     "output_type": "stream",
     "text": [
      "+ antsApplyTransforms -d 3 -i Schaefer2018_500Parcels_7Networks_order_FSLMNI152_1mm.nii.gz -o tpl-MNI152NLin2009cAsym_res-01_atlas-Schaefer2018v0143_desc-500ParcelsAllNetworks_dseg.nii.gz -t /Users/mcieslak/projects/templateflow/tpl-MNI152NLin2009cAsym/tpl-MNI152NLin2009cAsym_from-MNI152NLin6Asym_mode-image_xfm.h5 -r /Users/mcieslak/projects/templateflow/tpl-MNI152NLin2009cAsym/tpl-MNI152NLin2009cAsym_res-01_desc-brain_mask.nii.gz --interpolation GenericLabel -v 1\n"
     ]
    },
    {
     "name": "stdout",
     "output_type": "stream",
     "text": [
      "Using double precision for computations.\n",
      "Input scalar image: Schaefer2018_500Parcels_7Networks_order_FSLMNI152_1mm.nii.gz\n",
      "Reference image: /Users/mcieslak/projects/templateflow/tpl-MNI152NLin2009cAsym/tpl-MNI152NLin2009cAsym_res-01_desc-brain_mask.nii.gz\n",
      "=============================================================================\n",
      "The composite transform comprises the following transforms (in order): \n",
      "  1. /Users/mcieslak/projects/templateflow/tpl-MNI152NLin2009cAsym/tpl-MNI152NLin2009cAsym_from-MNI152NLin6Asym_mode-image_xfm.h5[0] (type = AffineTransform)\n",
      "  2. /Users/mcieslak/projects/templateflow/tpl-MNI152NLin2009cAsym/tpl-MNI152NLin2009cAsym_from-MNI152NLin6Asym_mode-image_xfm.h5[1] (type = DisplacementFieldTransform)\n",
      "=============================================================================\n",
      "Default pixel value: 0\n",
      "Interpolation type: LabelImageGenericInterpolateImageFunction\n",
      "Output warped image: tpl-MNI152NLin2009cAsym_res-01_atlas-Schaefer2018v0143_desc-500ParcelsAllNetworks_dseg.nii.gz\n"
     ]
    },
    {
     "name": "stderr",
     "output_type": "stream",
     "text": [
      "+ for order in 100 200 300 400 500 600 800 1000\n",
      "+ original=Schaefer2018_600Parcels_7Networks_order_FSLMNI152_1mm.nii.gz\n",
      "+ antsApplyTransforms -d 3 -i Schaefer2018_600Parcels_7Networks_order_FSLMNI152_1mm.nii.gz -o tpl-MNI152NLin6Asym_res-01_atlas-Schaefer2018v0143_desc-600ParcelsAllNetworks_dseg.nii.gz -r /Users/mcieslak/projects/templateflow/tpl-MNI152NLin6Asym/tpl-MNI152NLin6Asym_res-01_desc-brain_mask.nii.gz --interpolation GenericLabel -v 1\n"
     ]
    },
    {
     "name": "stdout",
     "output_type": "stream",
     "text": [
      "Using double precision for computations.\n",
      "Input scalar image: Schaefer2018_600Parcels_7Networks_order_FSLMNI152_1mm.nii.gz\n",
      "Reference image: /Users/mcieslak/projects/templateflow/tpl-MNI152NLin6Asym/tpl-MNI152NLin6Asym_res-01_desc-brain_mask.nii.gz\n",
      "=============================================================================\n",
      "The composite transform comprises the following transforms (in order): \n",
      "=============================================================================\n",
      "WARNING: No transforms found, using identify transform\n",
      "Default pixel value: 0\n",
      "Interpolation type: LabelImageGenericInterpolateImageFunction\n",
      "Output warped image: tpl-MNI152NLin6Asym_res-01_atlas-Schaefer2018v0143_desc-600ParcelsAllNetworks_dseg.nii.gz\n"
     ]
    },
    {
     "name": "stderr",
     "output_type": "stream",
     "text": [
      "+ antsApplyTransforms -d 3 -i Schaefer2018_600Parcels_7Networks_order_FSLMNI152_1mm.nii.gz -o tpl-MNI152NLin2009cAsym_res-01_atlas-Schaefer2018v0143_desc-600ParcelsAllNetworks_dseg.nii.gz -t /Users/mcieslak/projects/templateflow/tpl-MNI152NLin2009cAsym/tpl-MNI152NLin2009cAsym_from-MNI152NLin6Asym_mode-image_xfm.h5 -r /Users/mcieslak/projects/templateflow/tpl-MNI152NLin2009cAsym/tpl-MNI152NLin2009cAsym_res-01_desc-brain_mask.nii.gz --interpolation GenericLabel -v 1\n"
     ]
    },
    {
     "name": "stdout",
     "output_type": "stream",
     "text": [
      "Using double precision for computations.\n",
      "Input scalar image: Schaefer2018_600Parcels_7Networks_order_FSLMNI152_1mm.nii.gz\n",
      "Reference image: /Users/mcieslak/projects/templateflow/tpl-MNI152NLin2009cAsym/tpl-MNI152NLin2009cAsym_res-01_desc-brain_mask.nii.gz\n",
      "=============================================================================\n",
      "The composite transform comprises the following transforms (in order): \n",
      "  1. /Users/mcieslak/projects/templateflow/tpl-MNI152NLin2009cAsym/tpl-MNI152NLin2009cAsym_from-MNI152NLin6Asym_mode-image_xfm.h5[0] (type = AffineTransform)\n",
      "  2. /Users/mcieslak/projects/templateflow/tpl-MNI152NLin2009cAsym/tpl-MNI152NLin2009cAsym_from-MNI152NLin6Asym_mode-image_xfm.h5[1] (type = DisplacementFieldTransform)\n",
      "=============================================================================\n",
      "Default pixel value: 0\n",
      "Interpolation type: LabelImageGenericInterpolateImageFunction\n",
      "Output warped image: tpl-MNI152NLin2009cAsym_res-01_atlas-Schaefer2018v0143_desc-600ParcelsAllNetworks_dseg.nii.gz\n"
     ]
    },
    {
     "name": "stderr",
     "output_type": "stream",
     "text": [
      "+ for order in 100 200 300 400 500 600 800 1000\n",
      "+ original=Schaefer2018_800Parcels_7Networks_order_FSLMNI152_1mm.nii.gz\n",
      "+ antsApplyTransforms -d 3 -i Schaefer2018_800Parcels_7Networks_order_FSLMNI152_1mm.nii.gz -o tpl-MNI152NLin6Asym_res-01_atlas-Schaefer2018v0143_desc-800ParcelsAllNetworks_dseg.nii.gz -r /Users/mcieslak/projects/templateflow/tpl-MNI152NLin6Asym/tpl-MNI152NLin6Asym_res-01_desc-brain_mask.nii.gz --interpolation GenericLabel -v 1\n"
     ]
    },
    {
     "name": "stdout",
     "output_type": "stream",
     "text": [
      "Using double precision for computations.\n",
      "Input scalar image: Schaefer2018_800Parcels_7Networks_order_FSLMNI152_1mm.nii.gz\n",
      "Reference image: /Users/mcieslak/projects/templateflow/tpl-MNI152NLin6Asym/tpl-MNI152NLin6Asym_res-01_desc-brain_mask.nii.gz\n",
      "=============================================================================\n",
      "The composite transform comprises the following transforms (in order): \n",
      "=============================================================================\n",
      "WARNING: No transforms found, using identify transform\n",
      "Default pixel value: 0\n",
      "Interpolation type: LabelImageGenericInterpolateImageFunction\n",
      "Output warped image: tpl-MNI152NLin6Asym_res-01_atlas-Schaefer2018v0143_desc-800ParcelsAllNetworks_dseg.nii.gz\n"
     ]
    },
    {
     "name": "stderr",
     "output_type": "stream",
     "text": [
      "+ antsApplyTransforms -d 3 -i Schaefer2018_800Parcels_7Networks_order_FSLMNI152_1mm.nii.gz -o tpl-MNI152NLin2009cAsym_res-01_atlas-Schaefer2018v0143_desc-800ParcelsAllNetworks_dseg.nii.gz -t /Users/mcieslak/projects/templateflow/tpl-MNI152NLin2009cAsym/tpl-MNI152NLin2009cAsym_from-MNI152NLin6Asym_mode-image_xfm.h5 -r /Users/mcieslak/projects/templateflow/tpl-MNI152NLin2009cAsym/tpl-MNI152NLin2009cAsym_res-01_desc-brain_mask.nii.gz --interpolation GenericLabel -v 1\n"
     ]
    },
    {
     "name": "stdout",
     "output_type": "stream",
     "text": [
      "Using double precision for computations.\n",
      "Input scalar image: Schaefer2018_800Parcels_7Networks_order_FSLMNI152_1mm.nii.gz\n",
      "Reference image: /Users/mcieslak/projects/templateflow/tpl-MNI152NLin2009cAsym/tpl-MNI152NLin2009cAsym_res-01_desc-brain_mask.nii.gz\n",
      "=============================================================================\n",
      "The composite transform comprises the following transforms (in order): \n",
      "  1. /Users/mcieslak/projects/templateflow/tpl-MNI152NLin2009cAsym/tpl-MNI152NLin2009cAsym_from-MNI152NLin6Asym_mode-image_xfm.h5[0] (type = AffineTransform)\n",
      "  2. /Users/mcieslak/projects/templateflow/tpl-MNI152NLin2009cAsym/tpl-MNI152NLin2009cAsym_from-MNI152NLin6Asym_mode-image_xfm.h5[1] (type = DisplacementFieldTransform)\n",
      "=============================================================================\n",
      "Default pixel value: 0\n",
      "Interpolation type: LabelImageGenericInterpolateImageFunction\n",
      "Output warped image: tpl-MNI152NLin2009cAsym_res-01_atlas-Schaefer2018v0143_desc-800ParcelsAllNetworks_dseg.nii.gz\n"
     ]
    },
    {
     "name": "stderr",
     "output_type": "stream",
     "text": [
      "+ for order in 100 200 300 400 500 600 800 1000\n",
      "+ original=Schaefer2018_1000Parcels_7Networks_order_FSLMNI152_1mm.nii.gz\n",
      "+ antsApplyTransforms -d 3 -i Schaefer2018_1000Parcels_7Networks_order_FSLMNI152_1mm.nii.gz -o tpl-MNI152NLin6Asym_res-01_atlas-Schaefer2018v0143_desc-1000ParcelsAllNetworks_dseg.nii.gz -r /Users/mcieslak/projects/templateflow/tpl-MNI152NLin6Asym/tpl-MNI152NLin6Asym_res-01_desc-brain_mask.nii.gz --interpolation GenericLabel -v 1\n"
     ]
    },
    {
     "name": "stdout",
     "output_type": "stream",
     "text": [
      "Using double precision for computations.\n",
      "Input scalar image: Schaefer2018_1000Parcels_7Networks_order_FSLMNI152_1mm.nii.gz\n",
      "Reference image: /Users/mcieslak/projects/templateflow/tpl-MNI152NLin6Asym/tpl-MNI152NLin6Asym_res-01_desc-brain_mask.nii.gz\n",
      "=============================================================================\n",
      "The composite transform comprises the following transforms (in order): \n",
      "=============================================================================\n",
      "WARNING: No transforms found, using identify transform\n",
      "Default pixel value: 0\n",
      "Interpolation type: LabelImageGenericInterpolateImageFunction\n",
      "Output warped image: tpl-MNI152NLin6Asym_res-01_atlas-Schaefer2018v0143_desc-1000ParcelsAllNetworks_dseg.nii.gz\n"
     ]
    },
    {
     "name": "stderr",
     "output_type": "stream",
     "text": [
      "+ antsApplyTransforms -d 3 -i Schaefer2018_1000Parcels_7Networks_order_FSLMNI152_1mm.nii.gz -o tpl-MNI152NLin2009cAsym_res-01_atlas-Schaefer2018v0143_desc-1000ParcelsAllNetworks_dseg.nii.gz -t /Users/mcieslak/projects/templateflow/tpl-MNI152NLin2009cAsym/tpl-MNI152NLin2009cAsym_from-MNI152NLin6Asym_mode-image_xfm.h5 -r /Users/mcieslak/projects/templateflow/tpl-MNI152NLin2009cAsym/tpl-MNI152NLin2009cAsym_res-01_desc-brain_mask.nii.gz --interpolation GenericLabel -v 1\n"
     ]
    },
    {
     "name": "stdout",
     "output_type": "stream",
     "text": [
      "Using double precision for computations.\n",
      "Input scalar image: Schaefer2018_1000Parcels_7Networks_order_FSLMNI152_1mm.nii.gz\n",
      "Reference image: /Users/mcieslak/projects/templateflow/tpl-MNI152NLin2009cAsym/tpl-MNI152NLin2009cAsym_res-01_desc-brain_mask.nii.gz\n",
      "=============================================================================\n",
      "The composite transform comprises the following transforms (in order): \n",
      "  1. /Users/mcieslak/projects/templateflow/tpl-MNI152NLin2009cAsym/tpl-MNI152NLin2009cAsym_from-MNI152NLin6Asym_mode-image_xfm.h5[0] (type = AffineTransform)\n",
      "  2. /Users/mcieslak/projects/templateflow/tpl-MNI152NLin2009cAsym/tpl-MNI152NLin2009cAsym_from-MNI152NLin6Asym_mode-image_xfm.h5[1] (type = DisplacementFieldTransform)\n",
      "=============================================================================\n",
      "Default pixel value: 0\n",
      "Interpolation type: LabelImageGenericInterpolateImageFunction\n",
      "Output warped image: tpl-MNI152NLin2009cAsym_res-01_atlas-Schaefer2018v0143_desc-1000ParcelsAllNetworks_dseg.nii.gz\n"
     ]
    },
    {
     "name": "stderr",
     "output_type": "stream",
     "text": [
      "+ cd ..\n",
      "+ for atlasname in CIT168 cerebellum schaefer_map thalamic_atlas\n",
      "+ cd thalamic_atlas\n",
      "+ bash -ex prepare_atlas.sh\n",
      "+ wget https://zenodo.org/record/1405484/files/Thalamus_Nuclei-HCP-MaxProb.nii.gz\n",
      "--2023-02-02 16:23:45--  https://zenodo.org/record/1405484/files/Thalamus_Nuclei-HCP-MaxProb.nii.gz\n",
      "Resolving zenodo.org (zenodo.org)... 188.185.124.72\n",
      "Connecting to zenodo.org (zenodo.org)|188.185.124.72|:443... connected.\n",
      "HTTP request sent, awaiting response... 200 OK\n",
      "Length: 14805 (14K) [application/octet-stream]\n",
      "Saving to: ‘Thalamus_Nuclei-HCP-MaxProb.nii.gz’\n",
      "\n",
      "     0K .......... ....                                       100% 46.6M=0s\n",
      "\n",
      "2023-02-02 16:23:46 (46.6 MB/s) - ‘Thalamus_Nuclei-HCP-MaxProb.nii.gz’ saved [14805/14805]\n",
      "\n",
      "+ wget https://zenodo.org/record/1405484/files/Thalamic_Nuclei-ColorLUT.txt\n",
      "--2023-02-02 16:23:46--  https://zenodo.org/record/1405484/files/Thalamic_Nuclei-ColorLUT.txt\n",
      "Resolving zenodo.org (zenodo.org)... 188.185.124.72\n",
      "Connecting to zenodo.org (zenodo.org)|188.185.124.72|:443... connected.\n",
      "HTTP request sent, awaiting response... 200 OK\n",
      "Length: 1336 (1.3K) [text/plain]\n",
      "Saving to: ‘Thalamic_Nuclei-ColorLUT.txt’\n",
      "\n",
      "     0K .                                                     100%  319M=0s\n",
      "\n",
      "2023-02-02 16:23:48 (319 MB/s) - ‘Thalamic_Nuclei-ColorLUT.txt’ saved [1336/1336]\n",
      "\n",
      "+ antsApplyTransforms -d 3 -i Thalamus_Nuclei-HCP-MaxProb.nii.gz -o tpl-MNI152NLin6Asym_atlas-hcpthalamic_res-01_dseg.nii.gz -t ../transforms/tpl-MNI152NLin6Asym_from-MNI152NLin2009aSym_mode-image_xfm.h5 -r /Users/mcieslak/projects/templateflow/tpl-MNI152NLin6Asym/tpl-MNI152NLin6Asym_res-01_desc-brain_mask.nii.gz --interpolation GenericLabel -v 1\n"
     ]
    },
    {
     "name": "stdout",
     "output_type": "stream",
     "text": [
      "Using double precision for computations.\n",
      "Input scalar image: Thalamus_Nuclei-HCP-MaxProb.nii.gz\n",
      "Reference image: /Users/mcieslak/projects/templateflow/tpl-MNI152NLin6Asym/tpl-MNI152NLin6Asym_res-01_desc-brain_mask.nii.gz\n",
      "=============================================================================\n",
      "The composite transform comprises the following transforms (in order): \n",
      "  1. ../transforms/tpl-MNI152NLin6Asym_from-MNI152NLin2009aSym_mode-image_xfm.h5[0] (type = AffineTransform)\n",
      "  2. ../transforms/tpl-MNI152NLin6Asym_from-MNI152NLin2009aSym_mode-image_xfm.h5[1] (type = DisplacementFieldTransform)\n",
      "=============================================================================\n",
      "Default pixel value: 0\n",
      "Interpolation type: LabelImageGenericInterpolateImageFunction\n",
      "Output warped image: tpl-MNI152NLin6Asym_atlas-hcpthalamic_res-01_dseg.nii.gz\n"
     ]
    },
    {
     "name": "stderr",
     "output_type": "stream",
     "text": [
      "+ antsApplyTransforms -d 3 -i Thalamus_Nuclei-HCP-MaxProb.nii.gz -o tpl-MNI152NLin2009cAsym_atlas-hcpthalamic_res-01_dseg.nii.gz -t ../transforms/tpl-MNI152NLin2009cAsym_from-MNI152NLin2009aSym_mode-image_xfm.h5 -r /Users/mcieslak/projects/templateflow/tpl-MNI152NLin2009cAsym/tpl-MNI152NLin2009cAsym_res-01_desc-brain_mask.nii.gz --interpolation GenericLabel -v 1\n"
     ]
    },
    {
     "name": "stdout",
     "output_type": "stream",
     "text": [
      "Using double precision for computations.\n",
      "Input scalar image: Thalamus_Nuclei-HCP-MaxProb.nii.gz\n",
      "Reference image: /Users/mcieslak/projects/templateflow/tpl-MNI152NLin2009cAsym/tpl-MNI152NLin2009cAsym_res-01_desc-brain_mask.nii.gz\n",
      "=============================================================================\n",
      "The composite transform comprises the following transforms (in order): \n",
      "  1. ../transforms/tpl-MNI152NLin2009cAsym_from-MNI152NLin2009aSym_mode-image_xfm.h5[0] (type = AffineTransform)\n",
      "  2. ../transforms/tpl-MNI152NLin2009cAsym_from-MNI152NLin2009aSym_mode-image_xfm.h5[1] (type = DisplacementFieldTransform)\n",
      "=============================================================================\n",
      "Default pixel value: 0\n",
      "Interpolation type: LabelImageGenericInterpolateImageFunction\n",
      "Output warped image: tpl-MNI152NLin2009cAsym_atlas-hcpthalamic_res-01_dseg.nii.gz\n"
     ]
    },
    {
     "name": "stderr",
     "output_type": "stream",
     "text": [
      "+ python make_labels_tsv.py\n",
      "+ cd ..\n"
     ]
    }
   ],
   "source": [
    "%%bash\n",
    "\n",
    "set -eux\n",
    "\n",
    "for atlasname in CIT168 cerebellum Schaefer thalamus\n",
    "do\n",
    "  cd ${atlasname}\n",
    "  bash -ex prepare_atlas.sh\n",
    "  cd ..\n",
    "done"
   ]
  },
  {
   "cell_type": "markdown",
   "id": "8cbf2678",
   "metadata": {},
   "source": [
    "This has downloaded and standardized the atlases"
   ]
  },
  {
   "cell_type": "code",
   "execution_count": 2,
   "id": "e5ecd0b0",
   "metadata": {},
   "outputs": [],
   "source": [
    "import os\n",
    "import nibabel as nb\n",
    "tsvs = {\n",
    "    \"cerebellum\": \"cerebellum/atl-MDTB10.tsv\",\n",
    "    \"subcortical\": \"CIT168/atl-CIT168.tsv\",\n",
    "    \"thalamic\": \"thalamus/atl-hcpthalamic.tsv\"\n",
    "}\n",
    "\n",
    "tfhome = os.getenv(\"TEMPLATEFLOW_HOME\")\n",
    "\n",
    "nlin6_ref = tfhome + \"/tpl-MNI152NLin6Asym/tpl-MNI152NLin6Asym_res-01_desc-brain_mask.nii.gz\"\n",
    "nlin6_ref_img = nb.load(nlin6_ref)\n",
    "nlin6 = {\n",
    "    \"cerebellum\": \"cerebellum/tpl-MNI152NLin6Asym_atlas-MDTB10_res-01_dseg.nii.gz\",\n",
    "    \"subcortical\": \"CIT168/tpl-MNI152NLin6Asym_atlas-CIT168_res-01_desc-LRSplit_dseg.nii.gz\",\n",
    "    \"thalamic\": \"thalamus/tpl-MNI152NLin6Asym_atlas-hcpthalamic_res-01_dseg.nii.gz\"\n",
    "}\n",
    "\n",
    "nlin09c_ref = tfhome + \"/tpl-MNI152NLin2009cAsym/tpl-MNI152NLin2009cAsym_res-01_desc-brain_mask.nii.gz\"\n",
    "nlin09c_ref_img = nb.load(nlin09c_ref)\n",
    "nlin09c = {\n",
    "    \"cerebellum\": \"cerebellum/tpl-MNI152NLin2009cAsym_atlas-MDTB10_res-01_dseg.nii.gz\",\n",
    "    \"subcortical\": \"CIT168/tpl-MNI152NLin2009cAsym_atlas-CIT168_res-01_desc-LRSplit_dseg.nii.gz\",\n",
    "    \"thalamic\": \"thalamus/tpl-MNI152NLin2009cAsym_atlas-hcpthalamic_res-01_dseg.nii.gz\"\n",
    "}"
   ]
  },
  {
   "cell_type": "code",
   "execution_count": 3,
   "id": "cfbfc2df",
   "metadata": {},
   "outputs": [
    {
     "name": "stdout",
     "output_type": "stream",
     "text": [
      "checking files:\n",
      "\n",
      "  /Users/mcieslak/projects/templateflow/tpl-MNI152NLin6Asym/tpl-MNI152NLin6Asym_res-01_desc-brain_mask.nii.gz\n",
      "  cerebellum/tpl-MNI152NLin6Asym_atlas-MDTB10_res-01_dseg.nii.gz\n",
      "  CIT168/tpl-MNI152NLin6Asym_atlas-CIT168_res-01_desc-LRSplit_dseg.nii.gz\n",
      "  thalamic_atlas/tpl-MNI152NLin6Asym_atlas-hcpthalamic_res-01_dseg.nii.gz\n",
      "\n",
      "comparing grids:\n",
      "(182, 218, 182) == (182, 218, 182)\n",
      "(182, 218, 182) == (182, 218, 182)\n",
      "(182, 218, 182) == (182, 218, 182)\n",
      "All grids match orientation and shape!!\n",
      "checking files:\n",
      "\n",
      "  /Users/mcieslak/projects/templateflow/tpl-MNI152NLin2009cAsym/tpl-MNI152NLin2009cAsym_res-01_desc-brain_mask.nii.gz\n",
      "  cerebellum/tpl-MNI152NLin2009cAsym_atlas-MDTB10_res-01_dseg.nii.gz\n",
      "  CIT168/tpl-MNI152NLin2009cAsym_atlas-CIT168_res-01_desc-LRSplit_dseg.nii.gz\n",
      "  thalamic_atlas/tpl-MNI152NLin2009cAsym_atlas-hcpthalamic_res-01_dseg.nii.gz\n",
      "\n",
      "comparing grids:\n",
      "(193, 229, 193) == (193, 229, 193)\n",
      "(193, 229, 193) == (193, 229, 193)\n",
      "(193, 229, 193) == (193, 229, 193)\n",
      "All grids match orientation and shape!!\n"
     ]
    }
   ],
   "source": [
    "from glob import glob\n",
    "import nibabel as nb\n",
    "import numpy as np\n",
    "\n",
    "def check_grids(atlas_files):\n",
    "    print(\"checking files:\")\n",
    "    print(\"\\n  \" + \"\\n  \".join(atlas_files))\n",
    "\n",
    "    print(\"\\ncomparing grids:\")\n",
    "    ref_img = nb.load(atlas_files.pop())\n",
    "\n",
    "    for try_file in atlas_files:\n",
    "        try_img = nb.load(try_file)\n",
    "        if not np.allclose(try_img.affine, ref_img.affine):\n",
    "            raise Exception('incompatible affines:', try_img, try_img.affine, ref_img.affine)\n",
    "        if not try_img.shape == ref_img.shape:\n",
    "            raise Exception('incompatible shapes:', try_img, try_img.shape, ref_img.shape)\n",
    "        print(try_img.shape, \"==\", ref_img.shape)\n",
    "    print(\"All grids match orientation and shape!!\")\n",
    "\n",
    "check_grids([nlin6_ref] + list(nlin6.values()))\n",
    "check_grids([nlin09c_ref] + list(nlin09c.values()))"
   ]
  },
  {
   "cell_type": "markdown",
   "id": "060258b1",
   "metadata": {},
   "source": [
    "Let's look at what one of these entries looks like:"
   ]
  },
  {
   "cell_type": "code",
   "execution_count": 4,
   "id": "3e9f54e4",
   "metadata": {
    "scrolled": true
   },
   "outputs": [],
   "source": [
    "import numpy as np\n",
    "import pandas as pd\n",
    "\n",
    "\n",
    "def roi_data(nii_file):\n",
    "    return nb.load(nii_file).get_fdata().astype(np.uint32)\n",
    "\n",
    "\n",
    "def get_region_data(tsv_file):\n",
    "    df = pd.read_csv(tsv_file, sep=\"\\t\")\n",
    "    return df['index'].tolist(), df['name'].tolist()\n",
    "\n",
    "\n",
    "def tsv_to_config(tsv_file):\n",
    "    config = {}\n",
    "    config['node_ids'], config['node_names'] = get_region_data(tsv_file)\n",
    "    return config\n",
    "\n",
    "\n",
    "def verify_atlas(atlas_config, atlas_data):\n",
    "    data_regions = np.unique(atlas_data)\n",
    "    data_regions = data_regions[data_regions > 0].tolist()\n",
    "    for node_id, node_name in zip(atlas_config['node_ids'], atlas_config['node_names']):\n",
    "        if node_id not in data_regions:\n",
    "            raise Exception(\"%d: %s not in atlas data\" % (node_id, node_name))\n",
    "\n",
    "    missing_regions = set(atlas_config['node_ids']).difference(data_regions)\n",
    "    if  missing_regions:\n",
    "        raise Exception(\"%s present in data but not in labels\" % str(missing_regions))\n",
    "\n",
    "for atlas in ['cerebellum', 'thalamic', 'subcortical']:\n",
    "\n",
    "    # Check nlin6\n",
    "    verify_atlas(tsv_to_config(tsvs[atlas]), roi_data(nlin6[atlas]))\n",
    "\n",
    "    # Check 2009c\n",
    "    verify_atlas(tsv_to_config(tsvs[atlas]), roi_data(nlin09c[atlas]))"
   ]
  },
  {
   "cell_type": "markdown",
   "id": "3ceb2075",
   "metadata": {},
   "source": [
    "The TSVs and the niftis all check out."
   ]
  },
  {
   "cell_type": "markdown",
   "id": "2608b3dd",
   "metadata": {},
   "source": [
    "## Combining the atlases\n",
    "\n",
    "We need to add the cerebellum, thalamus and subcortical regions into a single atlas. Below are some functions that help us add one atlas into another. We'll add these three together and then add them to all the other atlases that don't have any subcortical regions"
   ]
  },
  {
   "cell_type": "code",
   "execution_count": 5,
   "id": "59ded996",
   "metadata": {},
   "outputs": [],
   "source": [
    "from copy import deepcopy\n",
    "from scipy.stats import mode\n",
    "\n",
    "def match_partitions(data1, data2):\n",
    "    \"\"\"Match the regions in data1 to the regions in data2\"\"\"\n",
    "\n",
    "    data1_ids = np.unique(data1)\n",
    "    data1_ids = data1_ids[data1_ids > 0].tolist()\n",
    "    data2_ids = np.unique(data2)\n",
    "    data2_ids = data2_ids[data2_ids > 0].tolist()\n",
    "\n",
    "    mapping = {}\n",
    "    for data1_id in data1_ids:\n",
    "        region_mask = data1 == data1_id\n",
    "        mapping[data1_id], = mode(data2[region_mask]).mode\n",
    "\n",
    "\n",
    "    return mapping\n",
    "\n",
    "def remap_values(original_data, mapping):\n",
    "    remapped = np.zeros_like(original_data)\n",
    "    for old_value, new_value in mapping.items():\n",
    "        remapped[original_data==old_value] = new_value\n",
    "    return remapped\n"
   ]
  },
  {
   "cell_type": "markdown",
   "id": "322473cb",
   "metadata": {},
   "source": [
    "Testing this code, let's use the cit168 atlas as the base and make sure these functions do what we think they do"
   ]
  },
  {
   "cell_type": "code",
   "execution_count": 6,
   "id": "c9f49d08",
   "metadata": {},
   "outputs": [
    {
     "name": "stdout",
     "output_type": "stream",
     "text": [
      "atlas mapping:\n",
      "(1, 1)  (2, 2)  (3, 3)  (4, 4)  (5, 5)  (6, 6)  (7, 7)  (8, 8)  (9, 9)  (12, 10)  (13, 11)  (14, 12)  (15, 13)  (16, 14)  (101, 15)  (102, 16)  (103, 17)  (104, 18)  (105, 19)  (106, 20)  (107, 21)  (108, 22)  (109, 23)  (112, 24)  (113, 25)  (114, 26)  (115, 27)  (116, 28)\n",
      "matched labels:\n",
      "(1, 1)  (2, 2)  (3, 3)  (4, 4)  (5, 5)  (6, 6)  (7, 7)  (8, 8)  (9, 9)  (12, 10)  (13, 11)  (14, 12)  (15, 13)  (16, 14)  (101, 15)  (102, 16)  (103, 17)  (104, 18)  (105, 19)  (106, 20)  (107, 21)  (108, 22)  (109, 23)  (112, 24)  (113, 25)  (114, 26)  (115, 27)  (116, 28)\n"
     ]
    }
   ],
   "source": [
    "# This simulates re-numbering the CIT168 altas\n",
    "cit_labels, cit_names = get_region_data(tsvs['subcortical'])\n",
    "new_atlas_mapping = {old_value: new_value for old_value, new_value in\n",
    "                    zip(cit_labels,\n",
    "                        np.argsort(cit_labels)+1)}\n",
    "\n",
    "print(\"atlas mapping:\")\n",
    "print(*sorted(new_atlas_mapping.items()), sep='  ')\n",
    "\n",
    "hemi_cit_data = nb.load(nlin6['subcortical']).get_fdata().astype(np.uint32)\n",
    "remapped_atlas = remap_values(hemi_cit_data, new_atlas_mapping)\n",
    "print(\"matched labels:\" )\n",
    "print(*sorted(match_partitions(hemi_cit_data, remapped_atlas).items()), sep='  ')"
   ]
  },
  {
   "cell_type": "markdown",
   "id": "afe27977",
   "metadata": {},
   "source": [
    "It works!! Now we can start adding these atlases to one another.\n",
    "\n"
   ]
  },
  {
   "cell_type": "code",
   "execution_count": 7,
   "id": "45bcbae6",
   "metadata": {},
   "outputs": [],
   "source": [
    "def add_atlas_to_another(atlas1_config, atlas1_data,\n",
    "                         atlas2_config, atlas2_data):\n",
    "    \"\"\"\n",
    "    Add atlas2 into atlas1. Ensure the labels are updated\n",
    "    so there is no overlap\n",
    "    \"\"\"\n",
    "\n",
    "    # Verify inputs\n",
    "    verify_atlas(atlas1_config, atlas1_data)\n",
    "    verify_atlas(atlas2_config, atlas2_data)\n",
    "    atlas2_data = atlas2_data.copy()\n",
    "\n",
    "    # What is the largest number in atlas1? This will be the minimum\n",
    "    # value in the new ids for atlas2 after it's been added to atlas1\n",
    "    merged_atlas_min = np.max(atlas1_data) + 1\n",
    "    atlas2_id_mapping = dict(\n",
    "        zip(atlas2_config['node_ids'],\n",
    "            np.argsort(atlas2_config['node_ids']) + merged_atlas_min))\n",
    "    atlas2_merged_ids = [atlas2_id_mapping[node_id] for node_id in\n",
    "                         atlas2_config['node_ids']]\n",
    "\n",
    "    # Make sure that any voxels that are labeled in the base image\n",
    "    # are NOT overwritten by the new atlas data\n",
    "    atlas2_data[atlas1_data > 0] = 0\n",
    "\n",
    "    # Ensure that we have not clobbered any regions by doing so\n",
    "    verify_atlas(atlas2_config, atlas2_data)\n",
    "\n",
    "    # Change their node ids so they don't conflict with the base\n",
    "    remapped_atlas2 = remap_values(atlas2_data, atlas2_id_mapping)\n",
    "\n",
    "    merged_image_data = atlas1_data + remapped_atlas2\n",
    "    merged_image_labels = atlas1_config['node_names'] + \\\n",
    "                          atlas2_config['node_names']\n",
    "    merged_image_ids = atlas1_config['node_ids'] + atlas2_merged_ids\n",
    "    merged_atlas_config = {\"node_names\": merged_image_labels,\n",
    "                           \"node_ids\": merged_image_ids}\n",
    "    verify_atlas(merged_atlas_config, merged_image_data)\n",
    "    return merged_atlas_config, merged_image_data\n",
    "\n",
    "\n",
    "def expand_df(df):\n",
    "    spl = df['name'].str.split(\"_\", n=1, expand=True)\n",
    "    df['label'] = spl[1]\n",
    "    df['network_id'] = np.nan\n",
    "    df['network_label'] = np.nan\n",
    "    df['atlas_name'] = spl[0]\n",
    "    df.drop(\"name\", axis=1, inplace=True)\n",
    "    return df\n",
    "\n",
    "\n"
   ]
  },
  {
   "cell_type": "markdown",
   "id": "ccef3365",
   "metadata": {},
   "source": [
    "### Creating the full subcortical atlas\n",
    "\n",
    "Here we merge the three subcortical atlases"
   ]
  },
  {
   "cell_type": "code",
   "execution_count": 8,
   "id": "71d307f1",
   "metadata": {},
   "outputs": [],
   "source": [
    "cit_hemi_config = tsv_to_config(tsvs['subcortical'])\n",
    "cit_hemi_data_nlin6 = roi_data(nlin6['subcortical'])\n",
    "cit_hemi_data_09c = roi_data(nlin09c['subcortical'])\n",
    "\n",
    "thalamus_config = tsv_to_config(tsvs['thalamic'])\n",
    "thalamus_config['node_names'] = [\"ThalamusHCP_\" + name for name in thalamus_config['node_names']]\n",
    "thalamus_data_nlin6 = roi_data(nlin6['thalamic'])\n",
    "thalamus_data_09c = roi_data(nlin09c['thalamic'])\n",
    "\n",
    "cb_config = tsv_to_config(tsvs['cerebellum'])\n",
    "cb_config['node_names'] = [\"Cerebellum_Cerebellar_\"+name for name in cb_config['node_names']]\n",
    "cb_data_nlin6 = roi_data(nlin6['cerebellum'])\n",
    "cb_data_09c = roi_data(nlin09c['cerebellum'])\n",
    "\n",
    "# Do NLin6\n",
    "thalamus_and_cit_config_nlin6, thalamus_and_cit_data_nlin6 = add_atlas_to_another(\n",
    "    cit_hemi_config, cit_hemi_data_nlin6,\n",
    "    thalamus_config, thalamus_data_nlin6,\n",
    ")\n",
    "\n",
    "full_subcortical_config_nlin6, full_subcortical_data_nlin6 = add_atlas_to_another(\n",
    "    thalamus_and_cit_config_nlin6, thalamus_and_cit_data_nlin6,\n",
    "    cb_config, cb_data_nlin6\n",
    ")\n",
    "\n",
    "subcortical_nlin6 = nb.Nifti1Image(full_subcortical_data_nlin6,\n",
    "                                   nlin6_ref_img.affine,\n",
    "                                   header=nlin6_ref_img.header)\n",
    "subcortical_nlin6.to_filename(\"tpl-MNI152NLin6Asym_atlas-SubcorticalMerged_res-01_dseg.nii.gz\")\n",
    "nlin6_df = pd.DataFrame(\n",
    "    {\"index\": full_subcortical_config_nlin6['node_ids'],\n",
    "     \"name\": full_subcortical_config_nlin6['node_names']})\n",
    "expand_df(nlin6_df).to_csv(\n",
    "    \"tpl-MNI152NLin6Asym_atlas-SubcorticalMerged_res-01_dseg.tsv\", sep=\"\\t\", index=False)"
   ]
  },
  {
   "cell_type": "code",
   "execution_count": 9,
   "id": "3d250dca",
   "metadata": {},
   "outputs": [],
   "source": [
    "# Do 09c\n",
    "thalamus_and_cit_config_09c, thalamus_and_cit_data_09c = add_atlas_to_another(\n",
    "    cit_hemi_config, cit_hemi_data_09c,\n",
    "    thalamus_config, thalamus_data_09c,\n",
    ")\n",
    "\n",
    "full_subcortical_config_09c, full_subcortical_data_09c = add_atlas_to_another(\n",
    "    thalamus_and_cit_config_09c, thalamus_and_cit_data_09c,\n",
    "    cb_config, cb_data_09c\n",
    ")\n",
    "\n",
    "subcortical_09c = nb.Nifti1Image(full_subcortical_data_09c,\n",
    "                                 nlin09c_ref_img.affine,\n",
    "                                 header=nlin09c_ref_img.header)\n",
    "subcortical_09c.to_filename(\"tpl-MNI152NLin2009cAsym_atlas-SubcorticalMerged_res-01_dseg.nii.gz\")\n",
    "nlin09c_df = pd.DataFrame(\n",
    "    {\"index\": full_subcortical_config_09c['node_ids'],\n",
    "     \"name\": full_subcortical_config_09c['node_names']})\n",
    "expand_df(nlin09c_df).to_csv(\n",
    "    \"tpl-MNI152NLin2009cAsym_atlas-SubcorticalMerged_res-01_dseg.tsv\", sep=\"\\t\", index=False)"
   ]
  },
  {
   "cell_type": "markdown",
   "id": "4b46489a",
   "metadata": {},
   "source": [
    "## Making the json files for the atlases\n",
    "\n",
    "We also want to have descriptive sidecars for the images and tsvs."
   ]
  },
  {
   "cell_type": "code",
   "execution_count": 10,
   "id": "159c1018",
   "metadata": {},
   "outputs": [],
   "source": [
    "import json\n",
    "\n",
    "cb_sidecar = {\n",
    "    \"Authors\": [\n",
    "        \"King, M.\",\n",
    "        \"Hernandez-Castillo, C.R.\",\n",
    "        \"Poldrack, R.R.\",\n",
    "        \"Ivry, R.\",\n",
    "        \"Diedrichsen, J.\"\n",
    "    ],\n",
    "    \"License\": \"Creative Commons license CC BY-ND (Attribution - No derivatives)\",\n",
    "    \"Curators\": [\n",
    "        \"Diedrichsen J\"\n",
    "    ],\n",
    "    \"Name\": \"Multi-domain task battery (MDTB) cerebellar parcellation\",\n",
    "    \"Description\": (\n",
    "        \"King et al. (2019) provided an extensive characterization of the functional organization \" \\\n",
    "        \"of the cerebellum of 24 healthy, young participants. The contast are for for 47 task conditions, \" \\\n",
    "        \"accounted for the activity caused by left hand, right hand, and eye movements. All contrast maps \" \\\n",
    "        \"are relative to the mean activitiy across all tasks. The parcellation into 10 regions is defined \" \\\n",
    "        \"from the task-evoked activity across all tasks.\"\n",
    "    ),\n",
    "    \"ReferencesAndLinks\": [\n",
    "        \"https://github.com/DiedrichsenLab/cerebellar_atlases\",\n",
    "        \"King, M., Hernandez-Castillo, C.R., Poldrack, R.R., Ivry, R., and Diedrichsen, J. (2019). Functional Boundaries in the Human Cerebellum revealed by a Multi-Domain Task Battery. Nat. Neurosci.\"\n",
    "    ]\n",
    "}\n",
    "\n",
    "thalamic_sidecar = {\n",
    "    \"Authors\": [\n",
    "        \"E. Najdenovska\",\n",
    "        \"Y. Aléman-Gómez\",\n",
    "        \"G. Battistella\",\n",
    "        \"M. Descoteaux\",\n",
    "        \"P. Hagmann\",\n",
    "        \"S. Jacquemont\",\n",
    "        \"P. Maeder\",\n",
    "        \"J.P. Thiran\",\n",
    "        \"E. Fornari\",\n",
    "        \"M. Bach Cuadra\"\n",
    "    ],\n",
    "    \"License\": \"Creative Commons Attribution Share Alike 4.0 International \"\n",
    "               \"https://creativecommons.org/licenses/by-sa/4.0/legalcode\",\n",
    "    \"Name\": \"HCP Thalamic Parcellation\",\n",
    "    \"Description\": (\n",
    "        \"Regions are based on a probabilistic atlas of anatomical subparts of the thalamus built \"\n",
    "        \"upon a relatively large dataset where the individual thalamic parcellation was done by \"\n",
    "        \"employing a recently proposed automatic diffusion-based clustering method. NOTE: \"\n",
    "    ),\n",
    "    \"ReferencesAndLinks\": [\n",
    "        \"doi: 10.1038/sdata.2018.270\",\n",
    "        \"https://zenodo.org/record/1405484/files/Thalamus_Nuclei-HCP-MaxProb.nii.gz\",\n",
    "        \"https://zenodo.org/record/1405484/files/Thalamic_Nuclei-ColorLUT.txt\",\n",
    "        \"Najdenovska, E., Alemán-Gómez, Y., Battistella, G. et al. In-vivo probabilistic atlas of human thalamic nuclei based on diffusion-weighted magnetic resonance imaging. Sci Data 5, 180270 (2018). https://doi.org/10.1038/sdata.2018.270\"\n",
    "    ]\n",
    "}\n",
    "\n",
    "subcortical_sidecar = {\n",
    "    \"Authors\": [\n",
    "        \"W.M. Pauli\",\n",
    "        \"A.N. Nili\",\n",
    "        \"J.M. Tyszka\"\n",
    "    ],\n",
    "    \"Curators\": [\n",
    "        \"W.M. Pauli\",\n",
    "        \"A.N. Nili\",\n",
    "        \"J.M. Tyszka\",\n",
    "        \"M. Okamoto\"\n",
    "    ],\n",
    "    \"License\": \"MIT: https://github.com/jmtyszka/CIT168-SubCorticalAtlas/blob/master/LICENSE.md\",\n",
    "    \"Name\": \"CIT168\",\n",
    "    \"Description\": (\n",
    "        \"Parcellations based on high spatial resolution, three-dimensional templates, using high-accuracy \"\n",
    "        \"diffeomorphic registration of T1- and T2- weighted structural images from 168 typical adults \"\n",
    "        \"between 22 and 35 years old. NOTE: Atlases originally assigned the same label to structures in \"\n",
    "        \"each hemisphere. Here we have split the regions into hemispheres. Additionally, the SNC, PBP and VTA \"\n",
    "        \"regions have been merged into a single structure.\"\n",
    "    ),\n",
    "    \"ReferencesAndLinks\": [\n",
    "        \"https://neurovault.org/collections/3145/\",\n",
    "        \"https://osf.io/jkzwp/wiki/home/\",\n",
    "        \"https://github.com/jmtyszka/CIT168-SubCorticalAtlas\",\n",
    "        \"Pauli, W., Nili, A. & Tyszka, J. A high-resolution probabilistic in vivo atlas of human subcortical brain nuclei. Sci Data 5, 180063 (2018). https://doi.org/10.1038\"\n",
    "    ]\n",
    "}\n",
    "\n",
    "merged_sidecar = {\n",
    "    \"Authors\": [\n",
    "        \"M. Cieslak\",\n",
    "        \"T. Salo\",\n",
    "        \"E. Feczko\",\n",
    "        \"T.D. Satterthwaite\"\n",
    "    ],\n",
    "    \"License\": \"Creative Commons license CC BY-ND (Attribution - No derivatives)\",\n",
    "    \"BIDSVersion\": \"1.1.0\",\n",
    "    \"Curators\": [\n",
    "        \"M. Cieslak\", \"T. Salo\", \"E. Feczko\", \"T.D. Satterthwaite\"\n",
    "    ],\n",
    "    \"Name\": \"Non-Cortical Atlases in Template Space NCATS\",\n",
    "    \"LongDesc\": \"A set of non-cortical atlases that have been merged together in template space.\",\n",
    "    \"ReferencesAndLinks\": [\n",
    "        \"https://github.com/PennLINC/AtlasPack\"\n",
    "    ],\n",
    "    \"RegionNames\": {\n",
    "        \"Pu\": \"Putamen\",\n",
    "        \"Ca\": \"Caudate Nucleus\",\n",
    "        \"NAC\": \"Nucleus Acumbens\",\n",
    "        \"EXA\": \"Extended Amygdala\",\n",
    "        \"GPi\": \"Globus Pallidus, Internal\",\n",
    "        \"GPe\": \"Globus Pallidus, External\",\n",
    "        \"VeP\": \"Ventral Pallidum\",\n",
    "        \"SNc\": \"Substantia Nigra, Pars Compacta\",\n",
    "        \"SNr\": \"Substantia Nigra, Pars Reticulata\",\n",
    "        \"STH\": \"Subthalamic Nucleus\",\n",
    "        \"HN\": \"Hypothalamus\",\n",
    "        \"PBP\": \"Parabrachial Pigmented Nucleus\",\n",
    "        \"VTA\": \"Ventral Tegmental Area\",\n",
    "        \"RN\": \"Red Nucleus\",\n",
    "        \"HN\": \"Habenular Nuclei\",\n",
    "        \"MN\": \"Mammilary Nucleus\",\n",
    "    },\n",
    "    \"Resolution\": {\n",
    "        \"01\": \"1mm, isotropic\"\n",
    "    },\n",
    "    # These match up with the `atlas_name` column\n",
    "    \"SourceAtlases\": {\n",
    "        \"CIT168Subcortical\": subcortical_sidecar,\n",
    "        \"Cerebellum\": cb_sidecar,\n",
    "        \"ThalamusHCP\": thalamic_sidecar\n",
    "    }\n",
    "}\n",
    "\n",
    "with open(\"atlas-SubcorticalMerged_dseg.json\", \"w\") as atl_json:\n",
    "    json.dump(merged_sidecar, atl_json, indent=4)\n"
   ]
  }
 ],
 "metadata": {
  "kernelspec": {
   "display_name": "base",
   "language": "python",
   "name": "python3"
  },
  "language_info": {
   "codemirror_mode": {
    "name": "ipython",
    "version": 3
   },
   "file_extension": ".py",
   "mimetype": "text/x-python",
   "name": "python",
   "nbconvert_exporter": "python",
   "pygments_lexer": "ipython3",
   "version": "3.8.5"
  },
  "vscode": {
   "interpreter": {
    "hash": "3d597f4c481aa0f25dceb95d2a0067e73c0966dcbd003d741d821a7208527ecf"
   }
  }
 },
 "nbformat": 4,
 "nbformat_minor": 5
}
