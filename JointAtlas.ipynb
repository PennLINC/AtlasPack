{
 "cells": [
  {
   "cell_type": "markdown",
   "id": "5b95a0e5",
   "metadata": {},
   "source": [
    "# Create combined subcortical atlas\n",
    "\n",
    "It can be hard to know exactly where atlases came from and how they were processed after being downloaded.\n",
    "This notebook downloads and merges some popular/very nice subcortical atlases for connectivity analysis."
   ]
  },
  {
   "cell_type": "code",
   "execution_count": 1,
   "id": "f348fb8a",
   "metadata": {},
   "outputs": [
    {
     "name": "stderr",
     "output_type": "stream",
     "text": [
      "+ for atlasname in CIT168 cerebellum Schaefer thalamus hippocampus_and_amygdala\n",
      "+ cd CIT168\n",
      "+ bash -ex prepare_atlas.sh\n",
      "+ wget https://osf.io/download/6qrcb\n",
      "--2023-10-30 20:40:54--  https://osf.io/download/6qrcb\n",
      "Resolving osf.io (osf.io)... 35.190.84.173\n",
      "Connecting to osf.io (osf.io)|35.190.84.173|:443... connected.\n",
      "HTTP request sent, awaiting response... 308 PERMANENT REDIRECT\n",
      "Location: https://osf.io/download/6qrcb/ [following]\n",
      "--2023-10-30 20:40:54--  https://osf.io/download/6qrcb/\n",
      "Reusing existing connection to osf.io:443.\n",
      "HTTP request sent, awaiting response... 302 FOUND\n",
      "Location: https://files.osf.io/v1/resources/jkzwp/providers/osfstorage/5b11f996f1f288000f627962 [following]\n",
      "--2023-10-30 20:40:54--  https://files.osf.io/v1/resources/jkzwp/providers/osfstorage/5b11f996f1f288000f627962\n",
      "Resolving files.osf.io (files.osf.io)... 35.186.214.196\n",
      "Connecting to files.osf.io (files.osf.io)|35.186.214.196|:443... connected.\n",
      "HTTP request sent, awaiting response... 302 Found\n",
      "Location: https://storage.googleapis.com/cos-osf-prod-files-us/5e00265a7bbbdf242356345e0f6615d84791ada54aa9739539096aab3c1e1b41?response-content-disposition=attachment%3B%20filename%3D%22labels.txt%22%3B%20filename%2A%3DUTF-8%27%27labels.txt&GoogleAccessId=files-us%40cos-osf-prod.iam.gserviceaccount.com&Expires=1698712915&Signature=pu4Qtny9W7IcSBCrmcI0fP%2BAU%2FSQadzl%2BbnNcx7jriya3Hk8hStgz5VUlKfAPqAfwdXb6W4Kfp%2FvGxtpob3axr%2BWk268kHsjGrJuzW8oWLB%2BXGpE5ozkGhk%2BK%2BtUkjaSpdHlP0aOa4hB9ZUOaKgdH2PTTLwhfcSxtzB2Ob9X9KjT1NEAR3m9YSHkfw%2BchhveegtD7fE12bnsoHPijZOr2wyaTU%2BlumdteZwBdRzAoOluuhmzMBpPf76GzFh%2FV%2FKIGcOIhO6NX%2BbpDSizPymKyVl3u6CEzrSk8QLWijX4Y8zZeNPODXLJqtLdAct93mLK7fSHFB0ywTo8z6wHxwYqVA%3D%3D [following]\n",
      "--2023-10-30 20:40:55--  https://storage.googleapis.com/cos-osf-prod-files-us/5e00265a7bbbdf242356345e0f6615d84791ada54aa9739539096aab3c1e1b41?response-content-disposition=attachment%3B%20filename%3D%22labels.txt%22%3B%20filename%2A%3DUTF-8%27%27labels.txt&GoogleAccessId=files-us%40cos-osf-prod.iam.gserviceaccount.com&Expires=1698712915&Signature=pu4Qtny9W7IcSBCrmcI0fP%2BAU%2FSQadzl%2BbnNcx7jriya3Hk8hStgz5VUlKfAPqAfwdXb6W4Kfp%2FvGxtpob3axr%2BWk268kHsjGrJuzW8oWLB%2BXGpE5ozkGhk%2BK%2BtUkjaSpdHlP0aOa4hB9ZUOaKgdH2PTTLwhfcSxtzB2Ob9X9KjT1NEAR3m9YSHkfw%2BchhveegtD7fE12bnsoHPijZOr2wyaTU%2BlumdteZwBdRzAoOluuhmzMBpPf76GzFh%2FV%2FKIGcOIhO6NX%2BbpDSizPymKyVl3u6CEzrSk8QLWijX4Y8zZeNPODXLJqtLdAct93mLK7fSHFB0ywTo8z6wHxwYqVA%3D%3D\n",
      "Resolving storage.googleapis.com (storage.googleapis.com)... 2607:f8b0:4006:822::201b, 2607:f8b0:4006:823::201b, 2607:f8b0:4006:80e::201b, ...\n",
      "Connecting to storage.googleapis.com (storage.googleapis.com)|2607:f8b0:4006:822::201b|:443... connected.\n",
      "HTTP request sent, awaiting response... 200 OK\n",
      "Length: 123 [application/octet-stream]\n",
      "Saving to: ‘6qrcb’\n",
      "\n",
      "     0K                                                       100% 14.7M=0s\n",
      "\n",
      "2023-10-30 20:40:55 (14.7 MB/s) - ‘6qrcb’ saved [123/123]\n",
      "\n",
      "+ mv 6qrcb labels.txt\n",
      "+ wget https://osf.io/download/2qswg\n",
      "--2023-10-30 20:40:55--  https://osf.io/download/2qswg\n",
      "Resolving osf.io (osf.io)... 35.190.84.173\n",
      "Connecting to osf.io (osf.io)|35.190.84.173|:443... connected.\n",
      "HTTP request sent, awaiting response... 308 PERMANENT REDIRECT\n",
      "Location: https://osf.io/download/2qswg/ [following]\n",
      "--2023-10-30 20:40:55--  https://osf.io/download/2qswg/\n",
      "Reusing existing connection to osf.io:443.\n",
      "HTTP request sent, awaiting response... 302 FOUND\n",
      "Location: https://files.osf.io/v1/resources/jkzwp/providers/osfstorage/5b11fa0164f25a000e7557f7 [following]\n",
      "--2023-10-30 20:40:56--  https://files.osf.io/v1/resources/jkzwp/providers/osfstorage/5b11fa0164f25a000e7557f7\n",
      "Resolving files.osf.io (files.osf.io)... 35.186.214.196\n",
      "Connecting to files.osf.io (files.osf.io)|35.186.214.196|:443... connected.\n",
      "HTTP request sent, awaiting response... 302 Found\n",
      "Location: https://storage.googleapis.com/cos-osf-prod-files-us/8b43e911c6849c9a57c9153499a324d2e3894531bb31446b6905b4c357693ae0?response-content-disposition=attachment%3B%20filename%3D%22CIT168toMNI152-FSL_det.nii.gz%22%3B%20filename%2A%3DUTF-8%27%27CIT168toMNI152-FSL_det.nii.gz&GoogleAccessId=files-us%40cos-osf-prod.iam.gserviceaccount.com&Expires=1698712917&Signature=OlktsvW7wOKjXrFikLhCPUDf6dDIyI%2B4cICuSPGGr92aiZYk2ZX%2BvS0KbqWb2RXHnwTGzs7sJSomFAXH21d74D1ihWnP6KNlo9v%2Fcx6h8e8n8zDpsjV3BMc%2B6xD6jjLCE0eIdD0oQ9QPwM4Kt8a3psgQO7ISFmf4P0%2B%2BFKyWYI%2FTbgPvJNfatin1PizU9H3xN9schK7GrAeTU5GPwqNm37cDGAVNl%2FGKScGJsZmiPBPnCARSy6DoXgOJ9B4vA0%2F3HCfQPtWy%2BzTiaK0tBVzGT7O94z954n16PEo7PcsKXpm5wke4jBnaGvSNil1GFKZp%2F76YbgEwVwYKnPL40twiFg%3D%3D [following]\n",
      "--2023-10-30 20:40:57--  https://storage.googleapis.com/cos-osf-prod-files-us/8b43e911c6849c9a57c9153499a324d2e3894531bb31446b6905b4c357693ae0?response-content-disposition=attachment%3B%20filename%3D%22CIT168toMNI152-FSL_det.nii.gz%22%3B%20filename%2A%3DUTF-8%27%27CIT168toMNI152-FSL_det.nii.gz&GoogleAccessId=files-us%40cos-osf-prod.iam.gserviceaccount.com&Expires=1698712917&Signature=OlktsvW7wOKjXrFikLhCPUDf6dDIyI%2B4cICuSPGGr92aiZYk2ZX%2BvS0KbqWb2RXHnwTGzs7sJSomFAXH21d74D1ihWnP6KNlo9v%2Fcx6h8e8n8zDpsjV3BMc%2B6xD6jjLCE0eIdD0oQ9QPwM4Kt8a3psgQO7ISFmf4P0%2B%2BFKyWYI%2FTbgPvJNfatin1PizU9H3xN9schK7GrAeTU5GPwqNm37cDGAVNl%2FGKScGJsZmiPBPnCARSy6DoXgOJ9B4vA0%2F3HCfQPtWy%2BzTiaK0tBVzGT7O94z954n16PEo7PcsKXpm5wke4jBnaGvSNil1GFKZp%2F76YbgEwVwYKnPL40twiFg%3D%3D\n",
      "Resolving storage.googleapis.com (storage.googleapis.com)... 2607:f8b0:4006:822::201b, 2607:f8b0:4006:823::201b, 2607:f8b0:4006:80e::201b, ...\n",
      "Connecting to storage.googleapis.com (storage.googleapis.com)|2607:f8b0:4006:822::201b|:443... connected.\n",
      "HTTP request sent, awaiting response... 200 OK\n",
      "Length: 44739 (44K) [application/octet-stream]\n",
      "Saving to: ‘2qswg’\n",
      "\n",
      "     0K .......... .......... .......... .......... ...       100% 2.84M=0.02s\n",
      "\n",
      "2023-10-30 20:40:57 (2.84 MB/s) - ‘2qswg’ saved [44739/44739]\n",
      "\n",
      "+ mv 2qswg tpl-MNI152NLin6Asym_atlas-CIT168_res-01_desc-LAS_dseg.nii.gz\n",
      "+ 3dresample -orient LPI -inset tpl-MNI152NLin6Asym_atlas-CIT168_res-01_desc-LAS_dseg.nii.gz -prefix tpl-MNI152NLin6Asym_atlas-CIT168_res-01_desc-RAS_dseg.nii.gz\n",
      "+ wget https://osf.io/download/vak6p\n",
      "--2023-10-30 20:40:57--  https://osf.io/download/vak6p\n",
      "Resolving osf.io (osf.io)... 35.190.84.173\n",
      "Connecting to osf.io (osf.io)|35.190.84.173|:443... connected.\n",
      "HTTP request sent, awaiting response... 308 PERMANENT REDIRECT\n",
      "Location: https://osf.io/download/vak6p/ [following]\n",
      "--2023-10-30 20:40:58--  https://osf.io/download/vak6p/\n",
      "Reusing existing connection to osf.io:443.\n",
      "HTTP request sent, awaiting response... 302 FOUND\n",
      "Location: https://files.osf.io/v1/resources/jkzwp/providers/osfstorage/5b11fa2ff1f288000e625a7f [following]\n",
      "--2023-10-30 20:40:58--  https://files.osf.io/v1/resources/jkzwp/providers/osfstorage/5b11fa2ff1f288000e625a7f\n",
      "Resolving files.osf.io (files.osf.io)... 35.186.214.196\n",
      "Connecting to files.osf.io (files.osf.io)|35.186.214.196|:443... connected.\n",
      "HTTP request sent, awaiting response... 302 Found\n",
      "Location: https://storage.googleapis.com/cos-osf-prod-files-us/0072d6ea3c05d1e798743e7d1f732fbc9c50ee6969bc5e68c6bdba3472d26242?response-content-disposition=attachment%3B%20filename%3D%22CIT168toMNI152-2009c_det.nii.gz%22%3B%20filename%2A%3DUTF-8%27%27CIT168toMNI152-2009c_det.nii.gz&GoogleAccessId=files-us%40cos-osf-prod.iam.gserviceaccount.com&Expires=1698712920&Signature=S7lEIKlsV0P6QuiObqGHu8Iu3JmBfhOi2l9u9otOVwgWn2MY4KRhtjvcKHRy166BW6FUv%2FL8SscJiYM5C8xAk9x7yJfW%2BTwwS8EV8eAhSE6d%2Fa9QpbKcMyIjHwQ8zYM%2BimBGKcJPq7cwob2Yp7ldPaSFIZhuwluzm2VOrYLmtKUdhsM2RF5%2FThxWhZlNgCp3Fjy289ELjoQMcPv1M3W8Br8WrMlgDNp4M%2B8KXYqQj23a%2BHPaCexAbq4lGi4LzC56%2BV5qaBwqzEYJTguqobUVgTDvDuMdmniQkkgATXLJrrePumynWd9%2BuKN6iglUTcOa3CEhry4kphc0IdAPkASj7g%3D%3D [following]\n",
      "--2023-10-30 20:41:00--  https://storage.googleapis.com/cos-osf-prod-files-us/0072d6ea3c05d1e798743e7d1f732fbc9c50ee6969bc5e68c6bdba3472d26242?response-content-disposition=attachment%3B%20filename%3D%22CIT168toMNI152-2009c_det.nii.gz%22%3B%20filename%2A%3DUTF-8%27%27CIT168toMNI152-2009c_det.nii.gz&GoogleAccessId=files-us%40cos-osf-prod.iam.gserviceaccount.com&Expires=1698712920&Signature=S7lEIKlsV0P6QuiObqGHu8Iu3JmBfhOi2l9u9otOVwgWn2MY4KRhtjvcKHRy166BW6FUv%2FL8SscJiYM5C8xAk9x7yJfW%2BTwwS8EV8eAhSE6d%2Fa9QpbKcMyIjHwQ8zYM%2BimBGKcJPq7cwob2Yp7ldPaSFIZhuwluzm2VOrYLmtKUdhsM2RF5%2FThxWhZlNgCp3Fjy289ELjoQMcPv1M3W8Br8WrMlgDNp4M%2B8KXYqQj23a%2BHPaCexAbq4lGi4LzC56%2BV5qaBwqzEYJTguqobUVgTDvDuMdmniQkkgATXLJrrePumynWd9%2BuKN6iglUTcOa3CEhry4kphc0IdAPkASj7g%3D%3D\n"
     ]
    },
    {
     "name": "stderr",
     "output_type": "stream",
     "text": [
      "Resolving storage.googleapis.com (storage.googleapis.com)... 2607:f8b0:4006:822::201b, 2607:f8b0:4006:823::201b, 2607:f8b0:4006:80e::201b, ...\n",
      "Connecting to storage.googleapis.com (storage.googleapis.com)|2607:f8b0:4006:822::201b|:443... connected.\n",
      "HTTP request sent, awaiting response... 200 OK\n",
      "Length: 51026 (50K) [application/octet-stream]\n",
      "Saving to: ‘vak6p’\n",
      "\n",
      "     0K .......... .......... .......... .......... ......... 100% 3.19M=0.02s\n",
      "\n",
      "2023-10-30 20:41:00 (3.19 MB/s) - ‘vak6p’ saved [51026/51026]\n",
      "\n",
      "+ mv vak6p tpl-MNI152NLin2009cAsym_atlas-CIT168_res-01_desc-RAS_dseg.nii.gz\n",
      "+ python split_up_cit168.py tpl-MNI152NLin6Asym_atlas-CIT168_res-01_desc-RAS_dseg.nii.gz tpl-MNI152NLin6Asym_atlas-CIT168_res-01_desc-LRSplit_dseg\n",
      "+ python split_up_cit168.py tpl-MNI152NLin2009cAsym_atlas-CIT168_res-01_desc-RAS_dseg.nii.gz tpl-MNI152NLin2009cAsym_atlas-CIT168_res-01_desc-LRSplit_dseg\n",
      "+ cp tpl-MNI152NLin2009cAsym_atlas-CIT168_res-01_desc-LRSplit_dseg.tsv atl-CIT168.tsv\n",
      "+ cd ..\n",
      "+ for atlasname in CIT168 cerebellum Schaefer thalamus hippocampus_and_amygdala\n",
      "+ cd cerebellum\n",
      "+ bash -ex prepare_atlas.sh\n",
      "+ wget https://github.com/DiedrichsenLab/cerebellar_atlases/raw/master/King_2019/atlas_description.json\n",
      "--2023-10-30 20:41:03--  https://github.com/DiedrichsenLab/cerebellar_atlases/raw/master/King_2019/atlas_description.json\n",
      "Resolving github.com (github.com)... 140.82.112.3\n",
      "Connecting to github.com (github.com)|140.82.112.3|:443... connected.\n",
      "HTTP request sent, awaiting response... 302 Found\n",
      "Location: https://raw.githubusercontent.com/DiedrichsenLab/cerebellar_atlases/master/King_2019/atlas_description.json [following]\n",
      "--2023-10-30 20:41:03--  https://raw.githubusercontent.com/DiedrichsenLab/cerebellar_atlases/master/King_2019/atlas_description.json\n",
      "Resolving raw.githubusercontent.com (raw.githubusercontent.com)... 2606:50c0:8002::154, 2606:50c0:8000::154, 2606:50c0:8003::154, ...\n",
      "Connecting to raw.githubusercontent.com (raw.githubusercontent.com)|2606:50c0:8002::154|:443... connected.\n",
      "HTTP request sent, awaiting response... 200 OK\n",
      "Length: 6678 (6.5K) [text/plain]\n",
      "Saving to: ‘atlas_description.json’\n",
      "\n",
      "     0K ......                                                100% 9.83M=0.001s\n",
      "\n",
      "2023-10-30 20:41:03 (9.83 MB/s) - ‘atlas_description.json’ saved [6678/6678]\n",
      "\n",
      "+ wget https://github.com/DiedrichsenLab/cerebellar_atlases/raw/master/King_2019/atl-MDTB10.tsv\n",
      "--2023-10-30 20:41:03--  https://github.com/DiedrichsenLab/cerebellar_atlases/raw/master/King_2019/atl-MDTB10.tsv\n",
      "Resolving github.com (github.com)... 140.82.112.3\n",
      "Connecting to github.com (github.com)|140.82.112.3|:443... connected.\n",
      "HTTP request sent, awaiting response... 302 Found\n",
      "Location: https://raw.githubusercontent.com/DiedrichsenLab/cerebellar_atlases/master/King_2019/atl-MDTB10.tsv [following]\n",
      "--2023-10-30 20:41:04--  https://raw.githubusercontent.com/DiedrichsenLab/cerebellar_atlases/master/King_2019/atl-MDTB10.tsv\n",
      "Resolving raw.githubusercontent.com (raw.githubusercontent.com)... 2606:50c0:8002::154, 2606:50c0:8000::154, 2606:50c0:8003::154, ...\n",
      "Connecting to raw.githubusercontent.com (raw.githubusercontent.com)|2606:50c0:8002::154|:443... connected.\n",
      "HTTP request sent, awaiting response... 200 OK\n",
      "Length: 199 [text/plain]\n",
      "Saving to: ‘atl-MDTB10.tsv’\n",
      "\n",
      "     0K                                                       100% 2.75M=0s\n",
      "\n",
      "2023-10-30 20:41:04 (2.75 MB/s) - ‘atl-MDTB10.tsv’ saved [199/199]\n",
      "\n",
      "+ wget https://github.com/DiedrichsenLab/cerebellar_atlases/raw/master/King_2019/atl-MDTB10_space-MNI_dseg.nii\n",
      "--2023-10-30 20:41:04--  https://github.com/DiedrichsenLab/cerebellar_atlases/raw/master/King_2019/atl-MDTB10_space-MNI_dseg.nii\n",
      "Resolving github.com (github.com)... 140.82.112.3\n",
      "Connecting to github.com (github.com)|140.82.112.3|:443... connected.\n",
      "HTTP request sent, awaiting response... 302 Found\n",
      "Location: https://raw.githubusercontent.com/DiedrichsenLab/cerebellar_atlases/master/King_2019/atl-MDTB10_space-MNI_dseg.nii [following]\n",
      "--2023-10-30 20:41:04--  https://raw.githubusercontent.com/DiedrichsenLab/cerebellar_atlases/master/King_2019/atl-MDTB10_space-MNI_dseg.nii\n",
      "Resolving raw.githubusercontent.com (raw.githubusercontent.com)... 2606:50c0:8002::154, 2606:50c0:8000::154, 2606:50c0:8003::154, ...\n",
      "Connecting to raw.githubusercontent.com (raw.githubusercontent.com)|2606:50c0:8002::154|:443... connected.\n",
      "HTTP request sent, awaiting response... 200 OK\n",
      "Length: 1165717 (1.1M) [application/octet-stream]\n",
      "Saving to: ‘atl-MDTB10_space-MNI_dseg.nii’\n",
      "\n",
      "     0K .......... .......... .......... .......... ..........  4% 6.49M 0s\n",
      "    50K .......... .......... .......... .......... ..........  8% 6.16M 0s\n",
      "   100K .......... .......... .......... .......... .......... 13% 7.95M 0s\n",
      "   150K .......... .......... .......... .......... .......... 17% 16.0M 0s\n",
      "   200K .......... .......... .......... .......... .......... 21% 20.7M 0s\n",
      "   250K .......... .......... .......... .......... .......... 26% 12.9M 0s\n",
      "   300K .......... .......... .......... .......... .......... 30% 43.7M 0s\n",
      "   350K .......... .......... .......... .......... .......... 35% 49.6M 0s\n",
      "   400K .......... .......... .......... .......... .......... 39% 10.9M 0s\n",
      "   450K .......... .......... .......... .......... .......... 43% 37.9M 0s\n",
      "   500K .......... .......... .......... .......... .......... 48% 41.9M 0s\n",
      "   550K .......... .......... .......... .......... .......... 52% 57.4M 0s\n",
      "   600K .......... .......... .......... .......... .......... 57% 16.5M 0s\n",
      "   650K .......... .......... .......... .......... .......... 61% 14.9M 0s\n",
      "   700K .......... .......... .......... .......... .......... 65%  188M 0s\n",
      "   750K .......... .......... .......... .......... .......... 70% 40.9M 0s\n",
      "   800K .......... .......... .......... .......... .......... 74% 39.1M 0s\n",
      "   850K .......... .......... .......... .......... .......... 79% 35.7M 0s\n",
      "   900K .......... .......... .......... .......... .......... 83% 60.2M 0s\n",
      "   950K .......... .......... .......... .......... .......... 87% 34.3M 0s\n",
      "  1000K .......... .......... .......... .......... .......... 92% 21.0M 0s\n",
      "  1050K .......... .......... .......... .......... .......... 96% 47.9M 0s\n",
      "  1100K .......... .......... .......... ........             100% 6.20M=0.06s\n",
      "\n",
      "2023-10-30 20:41:04 (17.8 MB/s) - ‘atl-MDTB10_space-MNI_dseg.nii’ saved [1165717/1165717]\n",
      "\n",
      "+ antsApplyTransforms -d 3 -i atl-MDTB10_space-MNI_dseg.nii -o tpl-MNI152NLin6Asym_atlas-MDTB10_res-01_dseg.nii.gz -r /Users/mcieslak/projects/templateflow/tpl-MNI152NLin6Asym/tpl-MNI152NLin6Asym_res-01_desc-brain_mask.nii.gz --interpolation GenericLabel -v 1\n"
     ]
    },
    {
     "name": "stdout",
     "output_type": "stream",
     "text": [
      "Using double precision for computations.\n",
      "Input scalar image: atl-MDTB10_space-MNI_dseg.nii\n",
      "Reference image: /Users/mcieslak/projects/templateflow/tpl-MNI152NLin6Asym/tpl-MNI152NLin6Asym_res-01_desc-brain_mask.nii.gz\n",
      "=============================================================================\n",
      "The composite transform comprises the following transforms (in order): \n",
      "=============================================================================\n",
      "WARNING: No transforms found, using identify transform\n",
      "Default pixel value: 0\n",
      "Interpolation type: LabelImageGenericInterpolateImageFunction\n",
      "Output warped image: tpl-MNI152NLin6Asym_atlas-MDTB10_res-01_dseg.nii.gz\n"
     ]
    },
    {
     "name": "stderr",
     "output_type": "stream",
     "text": [
      "+ antsApplyTransforms -d 3 -i atl-MDTB10_space-MNI_dseg.nii -o tpl-MNI152NLin2009cAsym_atlas-MDTB10_res-01_dseg.nii.gz -t /Users/mcieslak/projects/templateflow/tpl-MNI152NLin2009cAsym/tpl-MNI152NLin2009cAsym_from-MNI152NLin6Asym_mode-image_xfm.h5 -r /Users/mcieslak/projects/templateflow/tpl-MNI152NLin2009cAsym/tpl-MNI152NLin2009cAsym_res-01_desc-brain_mask.nii.gz --interpolation GenericLabel -v 1\n"
     ]
    },
    {
     "name": "stdout",
     "output_type": "stream",
     "text": [
      "Using double precision for computations.\n",
      "Input scalar image: atl-MDTB10_space-MNI_dseg.nii\n",
      "Reference image: /Users/mcieslak/projects/templateflow/tpl-MNI152NLin2009cAsym/tpl-MNI152NLin2009cAsym_res-01_desc-brain_mask.nii.gz\n",
      "=============================================================================\n",
      "The composite transform comprises the following transforms (in order): \n",
      "  1. /Users/mcieslak/projects/templateflow/tpl-MNI152NLin2009cAsym/tpl-MNI152NLin2009cAsym_from-MNI152NLin6Asym_mode-image_xfm.h5[0] (type = AffineTransform)\n",
      "  2. /Users/mcieslak/projects/templateflow/tpl-MNI152NLin2009cAsym/tpl-MNI152NLin2009cAsym_from-MNI152NLin6Asym_mode-image_xfm.h5[1] (type = DisplacementFieldTransform)\n",
      "=============================================================================\n",
      "Default pixel value: 0\n",
      "Interpolation type: LabelImageGenericInterpolateImageFunction\n",
      "Output warped image: tpl-MNI152NLin2009cAsym_atlas-MDTB10_res-01_dseg.nii.gz\n"
     ]
    },
    {
     "name": "stderr",
     "output_type": "stream",
     "text": [
      "+ sed -i '' s/name/label/ atl-MDTB10.tsv\n",
      "+ cd ..\n",
      "+ for atlasname in CIT168 cerebellum Schaefer thalamus hippocampus_and_amygdala\n",
      "+ cd Schaefer\n",
      "+ bash -ex prepare_atlas.sh\n",
      "+ python schaefer_ordering_mapper.py\n",
      "100%|██████████| 10/10 [00:13<00:00,  1.33s/it]\n",
      "+ for order in 100 200 300 400 500 600 700 800 900 1000\n",
      "+ original=Schaefer2018_100Parcels_7Networks_order_FSLMNI152_1mm.nii.gz\n",
      "+ antsApplyTransforms -d 3 -i Schaefer2018_100Parcels_7Networks_order_FSLMNI152_1mm.nii.gz -o tpl-MNI152NLin6Asym_atlas-Schaefer2018v0143_res-01_desc-100ParcelsAllNetworks_dseg.nii.gz -r /Users/mcieslak/projects/templateflow/tpl-MNI152NLin6Asym/tpl-MNI152NLin6Asym_res-01_desc-brain_mask.nii.gz --interpolation GenericLabel -v 1\n"
     ]
    },
    {
     "name": "stdout",
     "output_type": "stream",
     "text": [
      "Using double precision for computations.\n",
      "Input scalar image: Schaefer2018_100Parcels_7Networks_order_FSLMNI152_1mm.nii.gz\n",
      "Reference image: /Users/mcieslak/projects/templateflow/tpl-MNI152NLin6Asym/tpl-MNI152NLin6Asym_res-01_desc-brain_mask.nii.gz\n",
      "=============================================================================\n",
      "The composite transform comprises the following transforms (in order): \n",
      "=============================================================================\n",
      "WARNING: No transforms found, using identify transform\n",
      "Default pixel value: 0\n",
      "Interpolation type: LabelImageGenericInterpolateImageFunction\n",
      "Output warped image: tpl-MNI152NLin6Asym_atlas-Schaefer2018v0143_res-01_desc-100ParcelsAllNetworks_dseg.nii.gz\n"
     ]
    },
    {
     "name": "stderr",
     "output_type": "stream",
     "text": [
      "+ antsApplyTransforms -d 3 -i Schaefer2018_100Parcels_7Networks_order_FSLMNI152_1mm.nii.gz -o tpl-MNI152NLin2009cAsym_atlas-Schaefer2018v0143_res-01_desc-100ParcelsAllNetworks_dseg.nii.gz -t /Users/mcieslak/projects/templateflow/tpl-MNI152NLin2009cAsym/tpl-MNI152NLin2009cAsym_from-MNI152NLin6Asym_mode-image_xfm.h5 -r /Users/mcieslak/projects/templateflow/tpl-MNI152NLin2009cAsym/tpl-MNI152NLin2009cAsym_res-01_desc-brain_mask.nii.gz --interpolation GenericLabel -v 1\n"
     ]
    },
    {
     "name": "stdout",
     "output_type": "stream",
     "text": [
      "Using double precision for computations.\n",
      "Input scalar image: Schaefer2018_100Parcels_7Networks_order_FSLMNI152_1mm.nii.gz\n",
      "Reference image: /Users/mcieslak/projects/templateflow/tpl-MNI152NLin2009cAsym/tpl-MNI152NLin2009cAsym_res-01_desc-brain_mask.nii.gz\n",
      "=============================================================================\n",
      "The composite transform comprises the following transforms (in order): \n",
      "  1. /Users/mcieslak/projects/templateflow/tpl-MNI152NLin2009cAsym/tpl-MNI152NLin2009cAsym_from-MNI152NLin6Asym_mode-image_xfm.h5[0] (type = AffineTransform)\n",
      "  2. /Users/mcieslak/projects/templateflow/tpl-MNI152NLin2009cAsym/tpl-MNI152NLin2009cAsym_from-MNI152NLin6Asym_mode-image_xfm.h5[1] (type = DisplacementFieldTransform)\n",
      "=============================================================================\n",
      "Default pixel value: 0\n",
      "Interpolation type: LabelImageGenericInterpolateImageFunction\n",
      "Output warped image: tpl-MNI152NLin2009cAsym_atlas-Schaefer2018v0143_res-01_desc-100ParcelsAllNetworks_dseg.nii.gz\n"
     ]
    },
    {
     "name": "stderr",
     "output_type": "stream",
     "text": [
      "+ for order in 100 200 300 400 500 600 700 800 900 1000\n",
      "+ original=Schaefer2018_200Parcels_7Networks_order_FSLMNI152_1mm.nii.gz\n",
      "+ antsApplyTransforms -d 3 -i Schaefer2018_200Parcels_7Networks_order_FSLMNI152_1mm.nii.gz -o tpl-MNI152NLin6Asym_atlas-Schaefer2018v0143_res-01_desc-200ParcelsAllNetworks_dseg.nii.gz -r /Users/mcieslak/projects/templateflow/tpl-MNI152NLin6Asym/tpl-MNI152NLin6Asym_res-01_desc-brain_mask.nii.gz --interpolation GenericLabel -v 1\n"
     ]
    },
    {
     "name": "stdout",
     "output_type": "stream",
     "text": [
      "Using double precision for computations.\n",
      "Input scalar image: Schaefer2018_200Parcels_7Networks_order_FSLMNI152_1mm.nii.gz\n",
      "Reference image: /Users/mcieslak/projects/templateflow/tpl-MNI152NLin6Asym/tpl-MNI152NLin6Asym_res-01_desc-brain_mask.nii.gz\n",
      "=============================================================================\n",
      "The composite transform comprises the following transforms (in order): \n",
      "=============================================================================\n",
      "WARNING: No transforms found, using identify transform\n",
      "Default pixel value: 0\n",
      "Interpolation type: LabelImageGenericInterpolateImageFunction\n",
      "Output warped image: tpl-MNI152NLin6Asym_atlas-Schaefer2018v0143_res-01_desc-200ParcelsAllNetworks_dseg.nii.gz\n"
     ]
    },
    {
     "name": "stderr",
     "output_type": "stream",
     "text": [
      "+ antsApplyTransforms -d 3 -i Schaefer2018_200Parcels_7Networks_order_FSLMNI152_1mm.nii.gz -o tpl-MNI152NLin2009cAsym_atlas-Schaefer2018v0143_res-01_desc-200ParcelsAllNetworks_dseg.nii.gz -t /Users/mcieslak/projects/templateflow/tpl-MNI152NLin2009cAsym/tpl-MNI152NLin2009cAsym_from-MNI152NLin6Asym_mode-image_xfm.h5 -r /Users/mcieslak/projects/templateflow/tpl-MNI152NLin2009cAsym/tpl-MNI152NLin2009cAsym_res-01_desc-brain_mask.nii.gz --interpolation GenericLabel -v 1\n"
     ]
    },
    {
     "name": "stdout",
     "output_type": "stream",
     "text": [
      "Using double precision for computations.\n",
      "Input scalar image: Schaefer2018_200Parcels_7Networks_order_FSLMNI152_1mm.nii.gz\n",
      "Reference image: /Users/mcieslak/projects/templateflow/tpl-MNI152NLin2009cAsym/tpl-MNI152NLin2009cAsym_res-01_desc-brain_mask.nii.gz\n",
      "=============================================================================\n",
      "The composite transform comprises the following transforms (in order): \n",
      "  1. /Users/mcieslak/projects/templateflow/tpl-MNI152NLin2009cAsym/tpl-MNI152NLin2009cAsym_from-MNI152NLin6Asym_mode-image_xfm.h5[0] (type = AffineTransform)\n",
      "  2. /Users/mcieslak/projects/templateflow/tpl-MNI152NLin2009cAsym/tpl-MNI152NLin2009cAsym_from-MNI152NLin6Asym_mode-image_xfm.h5[1] (type = DisplacementFieldTransform)\n",
      "=============================================================================\n",
      "Default pixel value: 0\n",
      "Interpolation type: LabelImageGenericInterpolateImageFunction\n",
      "Output warped image: tpl-MNI152NLin2009cAsym_atlas-Schaefer2018v0143_res-01_desc-200ParcelsAllNetworks_dseg.nii.gz\n"
     ]
    },
    {
     "name": "stderr",
     "output_type": "stream",
     "text": [
      "+ for order in 100 200 300 400 500 600 700 800 900 1000\n",
      "+ original=Schaefer2018_300Parcels_7Networks_order_FSLMNI152_1mm.nii.gz\n",
      "+ antsApplyTransforms -d 3 -i Schaefer2018_300Parcels_7Networks_order_FSLMNI152_1mm.nii.gz -o tpl-MNI152NLin6Asym_atlas-Schaefer2018v0143_res-01_desc-300ParcelsAllNetworks_dseg.nii.gz -r /Users/mcieslak/projects/templateflow/tpl-MNI152NLin6Asym/tpl-MNI152NLin6Asym_res-01_desc-brain_mask.nii.gz --interpolation GenericLabel -v 1\n"
     ]
    },
    {
     "name": "stdout",
     "output_type": "stream",
     "text": [
      "Using double precision for computations.\n",
      "Input scalar image: Schaefer2018_300Parcels_7Networks_order_FSLMNI152_1mm.nii.gz\n",
      "Reference image: /Users/mcieslak/projects/templateflow/tpl-MNI152NLin6Asym/tpl-MNI152NLin6Asym_res-01_desc-brain_mask.nii.gz\n",
      "=============================================================================\n",
      "The composite transform comprises the following transforms (in order): \n",
      "=============================================================================\n",
      "WARNING: No transforms found, using identify transform\n",
      "Default pixel value: 0\n",
      "Interpolation type: LabelImageGenericInterpolateImageFunction\n",
      "Output warped image: tpl-MNI152NLin6Asym_atlas-Schaefer2018v0143_res-01_desc-300ParcelsAllNetworks_dseg.nii.gz\n"
     ]
    },
    {
     "name": "stderr",
     "output_type": "stream",
     "text": [
      "+ antsApplyTransforms -d 3 -i Schaefer2018_300Parcels_7Networks_order_FSLMNI152_1mm.nii.gz -o tpl-MNI152NLin2009cAsym_atlas-Schaefer2018v0143_res-01_desc-300ParcelsAllNetworks_dseg.nii.gz -t /Users/mcieslak/projects/templateflow/tpl-MNI152NLin2009cAsym/tpl-MNI152NLin2009cAsym_from-MNI152NLin6Asym_mode-image_xfm.h5 -r /Users/mcieslak/projects/templateflow/tpl-MNI152NLin2009cAsym/tpl-MNI152NLin2009cAsym_res-01_desc-brain_mask.nii.gz --interpolation GenericLabel -v 1\n"
     ]
    },
    {
     "name": "stdout",
     "output_type": "stream",
     "text": [
      "Using double precision for computations.\n",
      "Input scalar image: Schaefer2018_300Parcels_7Networks_order_FSLMNI152_1mm.nii.gz\n",
      "Reference image: /Users/mcieslak/projects/templateflow/tpl-MNI152NLin2009cAsym/tpl-MNI152NLin2009cAsym_res-01_desc-brain_mask.nii.gz\n",
      "=============================================================================\n",
      "The composite transform comprises the following transforms (in order): \n",
      "  1. /Users/mcieslak/projects/templateflow/tpl-MNI152NLin2009cAsym/tpl-MNI152NLin2009cAsym_from-MNI152NLin6Asym_mode-image_xfm.h5[0] (type = AffineTransform)\n",
      "  2. /Users/mcieslak/projects/templateflow/tpl-MNI152NLin2009cAsym/tpl-MNI152NLin2009cAsym_from-MNI152NLin6Asym_mode-image_xfm.h5[1] (type = DisplacementFieldTransform)\n",
      "=============================================================================\n",
      "Default pixel value: 0\n",
      "Interpolation type: LabelImageGenericInterpolateImageFunction\n",
      "Output warped image: tpl-MNI152NLin2009cAsym_atlas-Schaefer2018v0143_res-01_desc-300ParcelsAllNetworks_dseg.nii.gz\n"
     ]
    },
    {
     "name": "stderr",
     "output_type": "stream",
     "text": [
      "+ for order in 100 200 300 400 500 600 700 800 900 1000\n",
      "+ original=Schaefer2018_400Parcels_7Networks_order_FSLMNI152_1mm.nii.gz\n",
      "+ antsApplyTransforms -d 3 -i Schaefer2018_400Parcels_7Networks_order_FSLMNI152_1mm.nii.gz -o tpl-MNI152NLin6Asym_atlas-Schaefer2018v0143_res-01_desc-400ParcelsAllNetworks_dseg.nii.gz -r /Users/mcieslak/projects/templateflow/tpl-MNI152NLin6Asym/tpl-MNI152NLin6Asym_res-01_desc-brain_mask.nii.gz --interpolation GenericLabel -v 1\n"
     ]
    },
    {
     "name": "stdout",
     "output_type": "stream",
     "text": [
      "Using double precision for computations.\n",
      "Input scalar image: Schaefer2018_400Parcels_7Networks_order_FSLMNI152_1mm.nii.gz\n",
      "Reference image: /Users/mcieslak/projects/templateflow/tpl-MNI152NLin6Asym/tpl-MNI152NLin6Asym_res-01_desc-brain_mask.nii.gz\n",
      "=============================================================================\n",
      "The composite transform comprises the following transforms (in order): \n",
      "=============================================================================\n",
      "WARNING: No transforms found, using identify transform\n",
      "Default pixel value: 0\n",
      "Interpolation type: LabelImageGenericInterpolateImageFunction\n",
      "Output warped image: tpl-MNI152NLin6Asym_atlas-Schaefer2018v0143_res-01_desc-400ParcelsAllNetworks_dseg.nii.gz\n"
     ]
    },
    {
     "name": "stderr",
     "output_type": "stream",
     "text": [
      "+ antsApplyTransforms -d 3 -i Schaefer2018_400Parcels_7Networks_order_FSLMNI152_1mm.nii.gz -o tpl-MNI152NLin2009cAsym_atlas-Schaefer2018v0143_res-01_desc-400ParcelsAllNetworks_dseg.nii.gz -t /Users/mcieslak/projects/templateflow/tpl-MNI152NLin2009cAsym/tpl-MNI152NLin2009cAsym_from-MNI152NLin6Asym_mode-image_xfm.h5 -r /Users/mcieslak/projects/templateflow/tpl-MNI152NLin2009cAsym/tpl-MNI152NLin2009cAsym_res-01_desc-brain_mask.nii.gz --interpolation GenericLabel -v 1\n"
     ]
    },
    {
     "name": "stdout",
     "output_type": "stream",
     "text": [
      "Using double precision for computations.\n",
      "Input scalar image: Schaefer2018_400Parcels_7Networks_order_FSLMNI152_1mm.nii.gz\n",
      "Reference image: /Users/mcieslak/projects/templateflow/tpl-MNI152NLin2009cAsym/tpl-MNI152NLin2009cAsym_res-01_desc-brain_mask.nii.gz\n",
      "=============================================================================\n",
      "The composite transform comprises the following transforms (in order): \n",
      "  1. /Users/mcieslak/projects/templateflow/tpl-MNI152NLin2009cAsym/tpl-MNI152NLin2009cAsym_from-MNI152NLin6Asym_mode-image_xfm.h5[0] (type = AffineTransform)\n",
      "  2. /Users/mcieslak/projects/templateflow/tpl-MNI152NLin2009cAsym/tpl-MNI152NLin2009cAsym_from-MNI152NLin6Asym_mode-image_xfm.h5[1] (type = DisplacementFieldTransform)\n",
      "=============================================================================\n",
      "Default pixel value: 0\n",
      "Interpolation type: LabelImageGenericInterpolateImageFunction\n",
      "Output warped image: tpl-MNI152NLin2009cAsym_atlas-Schaefer2018v0143_res-01_desc-400ParcelsAllNetworks_dseg.nii.gz\n"
     ]
    },
    {
     "name": "stderr",
     "output_type": "stream",
     "text": [
      "+ for order in 100 200 300 400 500 600 700 800 900 1000\n",
      "+ original=Schaefer2018_500Parcels_7Networks_order_FSLMNI152_1mm.nii.gz\n",
      "+ antsApplyTransforms -d 3 -i Schaefer2018_500Parcels_7Networks_order_FSLMNI152_1mm.nii.gz -o tpl-MNI152NLin6Asym_atlas-Schaefer2018v0143_res-01_desc-500ParcelsAllNetworks_dseg.nii.gz -r /Users/mcieslak/projects/templateflow/tpl-MNI152NLin6Asym/tpl-MNI152NLin6Asym_res-01_desc-brain_mask.nii.gz --interpolation GenericLabel -v 1\n"
     ]
    },
    {
     "name": "stdout",
     "output_type": "stream",
     "text": [
      "Using double precision for computations.\n",
      "Input scalar image: Schaefer2018_500Parcels_7Networks_order_FSLMNI152_1mm.nii.gz\n",
      "Reference image: /Users/mcieslak/projects/templateflow/tpl-MNI152NLin6Asym/tpl-MNI152NLin6Asym_res-01_desc-brain_mask.nii.gz\n",
      "=============================================================================\n",
      "The composite transform comprises the following transforms (in order): \n",
      "=============================================================================\n",
      "WARNING: No transforms found, using identify transform\n",
      "Default pixel value: 0\n",
      "Interpolation type: LabelImageGenericInterpolateImageFunction\n",
      "Output warped image: tpl-MNI152NLin6Asym_atlas-Schaefer2018v0143_res-01_desc-500ParcelsAllNetworks_dseg.nii.gz\n"
     ]
    },
    {
     "name": "stderr",
     "output_type": "stream",
     "text": [
      "+ antsApplyTransforms -d 3 -i Schaefer2018_500Parcels_7Networks_order_FSLMNI152_1mm.nii.gz -o tpl-MNI152NLin2009cAsym_atlas-Schaefer2018v0143_res-01_desc-500ParcelsAllNetworks_dseg.nii.gz -t /Users/mcieslak/projects/templateflow/tpl-MNI152NLin2009cAsym/tpl-MNI152NLin2009cAsym_from-MNI152NLin6Asym_mode-image_xfm.h5 -r /Users/mcieslak/projects/templateflow/tpl-MNI152NLin2009cAsym/tpl-MNI152NLin2009cAsym_res-01_desc-brain_mask.nii.gz --interpolation GenericLabel -v 1\n"
     ]
    },
    {
     "name": "stdout",
     "output_type": "stream",
     "text": [
      "Using double precision for computations.\n",
      "Input scalar image: Schaefer2018_500Parcels_7Networks_order_FSLMNI152_1mm.nii.gz\n",
      "Reference image: /Users/mcieslak/projects/templateflow/tpl-MNI152NLin2009cAsym/tpl-MNI152NLin2009cAsym_res-01_desc-brain_mask.nii.gz\n",
      "=============================================================================\n",
      "The composite transform comprises the following transforms (in order): \n",
      "  1. /Users/mcieslak/projects/templateflow/tpl-MNI152NLin2009cAsym/tpl-MNI152NLin2009cAsym_from-MNI152NLin6Asym_mode-image_xfm.h5[0] (type = AffineTransform)\n",
      "  2. /Users/mcieslak/projects/templateflow/tpl-MNI152NLin2009cAsym/tpl-MNI152NLin2009cAsym_from-MNI152NLin6Asym_mode-image_xfm.h5[1] (type = DisplacementFieldTransform)\n",
      "=============================================================================\n",
      "Default pixel value: 0\n",
      "Interpolation type: LabelImageGenericInterpolateImageFunction\n",
      "Output warped image: tpl-MNI152NLin2009cAsym_atlas-Schaefer2018v0143_res-01_desc-500ParcelsAllNetworks_dseg.nii.gz\n"
     ]
    },
    {
     "name": "stderr",
     "output_type": "stream",
     "text": [
      "+ for order in 100 200 300 400 500 600 700 800 900 1000\n",
      "+ original=Schaefer2018_600Parcels_7Networks_order_FSLMNI152_1mm.nii.gz\n",
      "+ antsApplyTransforms -d 3 -i Schaefer2018_600Parcels_7Networks_order_FSLMNI152_1mm.nii.gz -o tpl-MNI152NLin6Asym_atlas-Schaefer2018v0143_res-01_desc-600ParcelsAllNetworks_dseg.nii.gz -r /Users/mcieslak/projects/templateflow/tpl-MNI152NLin6Asym/tpl-MNI152NLin6Asym_res-01_desc-brain_mask.nii.gz --interpolation GenericLabel -v 1\n"
     ]
    },
    {
     "name": "stdout",
     "output_type": "stream",
     "text": [
      "Using double precision for computations.\n",
      "Input scalar image: Schaefer2018_600Parcels_7Networks_order_FSLMNI152_1mm.nii.gz\n",
      "Reference image: /Users/mcieslak/projects/templateflow/tpl-MNI152NLin6Asym/tpl-MNI152NLin6Asym_res-01_desc-brain_mask.nii.gz\n",
      "=============================================================================\n",
      "The composite transform comprises the following transforms (in order): \n",
      "=============================================================================\n",
      "WARNING: No transforms found, using identify transform\n",
      "Default pixel value: 0\n",
      "Interpolation type: LabelImageGenericInterpolateImageFunction\n",
      "Output warped image: tpl-MNI152NLin6Asym_atlas-Schaefer2018v0143_res-01_desc-600ParcelsAllNetworks_dseg.nii.gz\n"
     ]
    },
    {
     "name": "stderr",
     "output_type": "stream",
     "text": [
      "+ antsApplyTransforms -d 3 -i Schaefer2018_600Parcels_7Networks_order_FSLMNI152_1mm.nii.gz -o tpl-MNI152NLin2009cAsym_atlas-Schaefer2018v0143_res-01_desc-600ParcelsAllNetworks_dseg.nii.gz -t /Users/mcieslak/projects/templateflow/tpl-MNI152NLin2009cAsym/tpl-MNI152NLin2009cAsym_from-MNI152NLin6Asym_mode-image_xfm.h5 -r /Users/mcieslak/projects/templateflow/tpl-MNI152NLin2009cAsym/tpl-MNI152NLin2009cAsym_res-01_desc-brain_mask.nii.gz --interpolation GenericLabel -v 1\n"
     ]
    },
    {
     "name": "stdout",
     "output_type": "stream",
     "text": [
      "Using double precision for computations.\n",
      "Input scalar image: Schaefer2018_600Parcels_7Networks_order_FSLMNI152_1mm.nii.gz\n",
      "Reference image: /Users/mcieslak/projects/templateflow/tpl-MNI152NLin2009cAsym/tpl-MNI152NLin2009cAsym_res-01_desc-brain_mask.nii.gz\n",
      "=============================================================================\n",
      "The composite transform comprises the following transforms (in order): \n",
      "  1. /Users/mcieslak/projects/templateflow/tpl-MNI152NLin2009cAsym/tpl-MNI152NLin2009cAsym_from-MNI152NLin6Asym_mode-image_xfm.h5[0] (type = AffineTransform)\n",
      "  2. /Users/mcieslak/projects/templateflow/tpl-MNI152NLin2009cAsym/tpl-MNI152NLin2009cAsym_from-MNI152NLin6Asym_mode-image_xfm.h5[1] (type = DisplacementFieldTransform)\n",
      "=============================================================================\n",
      "Default pixel value: 0\n",
      "Interpolation type: LabelImageGenericInterpolateImageFunction\n",
      "Output warped image: tpl-MNI152NLin2009cAsym_atlas-Schaefer2018v0143_res-01_desc-600ParcelsAllNetworks_dseg.nii.gz\n"
     ]
    },
    {
     "name": "stderr",
     "output_type": "stream",
     "text": [
      "+ for order in 100 200 300 400 500 600 700 800 900 1000\n",
      "+ original=Schaefer2018_700Parcels_7Networks_order_FSLMNI152_1mm.nii.gz\n",
      "+ antsApplyTransforms -d 3 -i Schaefer2018_700Parcels_7Networks_order_FSLMNI152_1mm.nii.gz -o tpl-MNI152NLin6Asym_atlas-Schaefer2018v0143_res-01_desc-700ParcelsAllNetworks_dseg.nii.gz -r /Users/mcieslak/projects/templateflow/tpl-MNI152NLin6Asym/tpl-MNI152NLin6Asym_res-01_desc-brain_mask.nii.gz --interpolation GenericLabel -v 1\n"
     ]
    },
    {
     "name": "stdout",
     "output_type": "stream",
     "text": [
      "Using double precision for computations.\n",
      "Input scalar image: Schaefer2018_700Parcels_7Networks_order_FSLMNI152_1mm.nii.gz\n",
      "Reference image: /Users/mcieslak/projects/templateflow/tpl-MNI152NLin6Asym/tpl-MNI152NLin6Asym_res-01_desc-brain_mask.nii.gz\n",
      "=============================================================================\n",
      "The composite transform comprises the following transforms (in order): \n",
      "=============================================================================\n",
      "WARNING: No transforms found, using identify transform\n",
      "Default pixel value: 0\n",
      "Interpolation type: LabelImageGenericInterpolateImageFunction\n",
      "Output warped image: tpl-MNI152NLin6Asym_atlas-Schaefer2018v0143_res-01_desc-700ParcelsAllNetworks_dseg.nii.gz\n"
     ]
    },
    {
     "name": "stderr",
     "output_type": "stream",
     "text": [
      "+ antsApplyTransforms -d 3 -i Schaefer2018_700Parcels_7Networks_order_FSLMNI152_1mm.nii.gz -o tpl-MNI152NLin2009cAsym_atlas-Schaefer2018v0143_res-01_desc-700ParcelsAllNetworks_dseg.nii.gz -t /Users/mcieslak/projects/templateflow/tpl-MNI152NLin2009cAsym/tpl-MNI152NLin2009cAsym_from-MNI152NLin6Asym_mode-image_xfm.h5 -r /Users/mcieslak/projects/templateflow/tpl-MNI152NLin2009cAsym/tpl-MNI152NLin2009cAsym_res-01_desc-brain_mask.nii.gz --interpolation GenericLabel -v 1\n"
     ]
    },
    {
     "name": "stdout",
     "output_type": "stream",
     "text": [
      "Using double precision for computations.\n",
      "Input scalar image: Schaefer2018_700Parcels_7Networks_order_FSLMNI152_1mm.nii.gz\n",
      "Reference image: /Users/mcieslak/projects/templateflow/tpl-MNI152NLin2009cAsym/tpl-MNI152NLin2009cAsym_res-01_desc-brain_mask.nii.gz\n",
      "=============================================================================\n",
      "The composite transform comprises the following transforms (in order): \n",
      "  1. /Users/mcieslak/projects/templateflow/tpl-MNI152NLin2009cAsym/tpl-MNI152NLin2009cAsym_from-MNI152NLin6Asym_mode-image_xfm.h5[0] (type = AffineTransform)\n",
      "  2. /Users/mcieslak/projects/templateflow/tpl-MNI152NLin2009cAsym/tpl-MNI152NLin2009cAsym_from-MNI152NLin6Asym_mode-image_xfm.h5[1] (type = DisplacementFieldTransform)\n",
      "=============================================================================\n",
      "Default pixel value: 0\n",
      "Interpolation type: LabelImageGenericInterpolateImageFunction\n",
      "Output warped image: tpl-MNI152NLin2009cAsym_atlas-Schaefer2018v0143_res-01_desc-700ParcelsAllNetworks_dseg.nii.gz\n"
     ]
    },
    {
     "name": "stderr",
     "output_type": "stream",
     "text": [
      "+ for order in 100 200 300 400 500 600 700 800 900 1000\n",
      "+ original=Schaefer2018_800Parcels_7Networks_order_FSLMNI152_1mm.nii.gz\n",
      "+ antsApplyTransforms -d 3 -i Schaefer2018_800Parcels_7Networks_order_FSLMNI152_1mm.nii.gz -o tpl-MNI152NLin6Asym_atlas-Schaefer2018v0143_res-01_desc-800ParcelsAllNetworks_dseg.nii.gz -r /Users/mcieslak/projects/templateflow/tpl-MNI152NLin6Asym/tpl-MNI152NLin6Asym_res-01_desc-brain_mask.nii.gz --interpolation GenericLabel -v 1\n"
     ]
    },
    {
     "name": "stdout",
     "output_type": "stream",
     "text": [
      "Using double precision for computations.\n",
      "Input scalar image: Schaefer2018_800Parcels_7Networks_order_FSLMNI152_1mm.nii.gz\n",
      "Reference image: /Users/mcieslak/projects/templateflow/tpl-MNI152NLin6Asym/tpl-MNI152NLin6Asym_res-01_desc-brain_mask.nii.gz\n",
      "=============================================================================\n",
      "The composite transform comprises the following transforms (in order): \n",
      "=============================================================================\n",
      "WARNING: No transforms found, using identify transform\n",
      "Default pixel value: 0\n",
      "Interpolation type: LabelImageGenericInterpolateImageFunction\n",
      "Output warped image: tpl-MNI152NLin6Asym_atlas-Schaefer2018v0143_res-01_desc-800ParcelsAllNetworks_dseg.nii.gz\n"
     ]
    },
    {
     "name": "stderr",
     "output_type": "stream",
     "text": [
      "+ antsApplyTransforms -d 3 -i Schaefer2018_800Parcels_7Networks_order_FSLMNI152_1mm.nii.gz -o tpl-MNI152NLin2009cAsym_atlas-Schaefer2018v0143_res-01_desc-800ParcelsAllNetworks_dseg.nii.gz -t /Users/mcieslak/projects/templateflow/tpl-MNI152NLin2009cAsym/tpl-MNI152NLin2009cAsym_from-MNI152NLin6Asym_mode-image_xfm.h5 -r /Users/mcieslak/projects/templateflow/tpl-MNI152NLin2009cAsym/tpl-MNI152NLin2009cAsym_res-01_desc-brain_mask.nii.gz --interpolation GenericLabel -v 1\n"
     ]
    },
    {
     "name": "stdout",
     "output_type": "stream",
     "text": [
      "Using double precision for computations.\n",
      "Input scalar image: Schaefer2018_800Parcels_7Networks_order_FSLMNI152_1mm.nii.gz\n",
      "Reference image: /Users/mcieslak/projects/templateflow/tpl-MNI152NLin2009cAsym/tpl-MNI152NLin2009cAsym_res-01_desc-brain_mask.nii.gz\n",
      "=============================================================================\n",
      "The composite transform comprises the following transforms (in order): \n",
      "  1. /Users/mcieslak/projects/templateflow/tpl-MNI152NLin2009cAsym/tpl-MNI152NLin2009cAsym_from-MNI152NLin6Asym_mode-image_xfm.h5[0] (type = AffineTransform)\n",
      "  2. /Users/mcieslak/projects/templateflow/tpl-MNI152NLin2009cAsym/tpl-MNI152NLin2009cAsym_from-MNI152NLin6Asym_mode-image_xfm.h5[1] (type = DisplacementFieldTransform)\n",
      "=============================================================================\n",
      "Default pixel value: 0\n",
      "Interpolation type: LabelImageGenericInterpolateImageFunction\n",
      "Output warped image: tpl-MNI152NLin2009cAsym_atlas-Schaefer2018v0143_res-01_desc-800ParcelsAllNetworks_dseg.nii.gz\n"
     ]
    },
    {
     "name": "stderr",
     "output_type": "stream",
     "text": [
      "+ for order in 100 200 300 400 500 600 700 800 900 1000\n",
      "+ original=Schaefer2018_900Parcels_7Networks_order_FSLMNI152_1mm.nii.gz\n",
      "+ antsApplyTransforms -d 3 -i Schaefer2018_900Parcels_7Networks_order_FSLMNI152_1mm.nii.gz -o tpl-MNI152NLin6Asym_atlas-Schaefer2018v0143_res-01_desc-900ParcelsAllNetworks_dseg.nii.gz -r /Users/mcieslak/projects/templateflow/tpl-MNI152NLin6Asym/tpl-MNI152NLin6Asym_res-01_desc-brain_mask.nii.gz --interpolation GenericLabel -v 1\n"
     ]
    },
    {
     "name": "stdout",
     "output_type": "stream",
     "text": [
      "Using double precision for computations.\n",
      "Input scalar image: Schaefer2018_900Parcels_7Networks_order_FSLMNI152_1mm.nii.gz\n",
      "Reference image: /Users/mcieslak/projects/templateflow/tpl-MNI152NLin6Asym/tpl-MNI152NLin6Asym_res-01_desc-brain_mask.nii.gz\n",
      "=============================================================================\n",
      "The composite transform comprises the following transforms (in order): \n",
      "=============================================================================\n",
      "WARNING: No transforms found, using identify transform\n",
      "Default pixel value: 0\n",
      "Interpolation type: LabelImageGenericInterpolateImageFunction\n",
      "Output warped image: tpl-MNI152NLin6Asym_atlas-Schaefer2018v0143_res-01_desc-900ParcelsAllNetworks_dseg.nii.gz\n"
     ]
    },
    {
     "name": "stderr",
     "output_type": "stream",
     "text": [
      "+ antsApplyTransforms -d 3 -i Schaefer2018_900Parcels_7Networks_order_FSLMNI152_1mm.nii.gz -o tpl-MNI152NLin2009cAsym_atlas-Schaefer2018v0143_res-01_desc-900ParcelsAllNetworks_dseg.nii.gz -t /Users/mcieslak/projects/templateflow/tpl-MNI152NLin2009cAsym/tpl-MNI152NLin2009cAsym_from-MNI152NLin6Asym_mode-image_xfm.h5 -r /Users/mcieslak/projects/templateflow/tpl-MNI152NLin2009cAsym/tpl-MNI152NLin2009cAsym_res-01_desc-brain_mask.nii.gz --interpolation GenericLabel -v 1\n"
     ]
    },
    {
     "name": "stdout",
     "output_type": "stream",
     "text": [
      "Using double precision for computations.\n",
      "Input scalar image: Schaefer2018_900Parcels_7Networks_order_FSLMNI152_1mm.nii.gz\n",
      "Reference image: /Users/mcieslak/projects/templateflow/tpl-MNI152NLin2009cAsym/tpl-MNI152NLin2009cAsym_res-01_desc-brain_mask.nii.gz\n",
      "=============================================================================\n",
      "The composite transform comprises the following transforms (in order): \n",
      "  1. /Users/mcieslak/projects/templateflow/tpl-MNI152NLin2009cAsym/tpl-MNI152NLin2009cAsym_from-MNI152NLin6Asym_mode-image_xfm.h5[0] (type = AffineTransform)\n",
      "  2. /Users/mcieslak/projects/templateflow/tpl-MNI152NLin2009cAsym/tpl-MNI152NLin2009cAsym_from-MNI152NLin6Asym_mode-image_xfm.h5[1] (type = DisplacementFieldTransform)\n",
      "=============================================================================\n",
      "Default pixel value: 0\n",
      "Interpolation type: LabelImageGenericInterpolateImageFunction\n",
      "Output warped image: tpl-MNI152NLin2009cAsym_atlas-Schaefer2018v0143_res-01_desc-900ParcelsAllNetworks_dseg.nii.gz\n"
     ]
    },
    {
     "name": "stderr",
     "output_type": "stream",
     "text": [
      "+ for order in 100 200 300 400 500 600 700 800 900 1000\n",
      "+ original=Schaefer2018_1000Parcels_7Networks_order_FSLMNI152_1mm.nii.gz\n",
      "+ antsApplyTransforms -d 3 -i Schaefer2018_1000Parcels_7Networks_order_FSLMNI152_1mm.nii.gz -o tpl-MNI152NLin6Asym_atlas-Schaefer2018v0143_res-01_desc-1000ParcelsAllNetworks_dseg.nii.gz -r /Users/mcieslak/projects/templateflow/tpl-MNI152NLin6Asym/tpl-MNI152NLin6Asym_res-01_desc-brain_mask.nii.gz --interpolation GenericLabel -v 1\n"
     ]
    },
    {
     "name": "stdout",
     "output_type": "stream",
     "text": [
      "Using double precision for computations.\n",
      "Input scalar image: Schaefer2018_1000Parcels_7Networks_order_FSLMNI152_1mm.nii.gz\n",
      "Reference image: /Users/mcieslak/projects/templateflow/tpl-MNI152NLin6Asym/tpl-MNI152NLin6Asym_res-01_desc-brain_mask.nii.gz\n",
      "=============================================================================\n",
      "The composite transform comprises the following transforms (in order): \n",
      "=============================================================================\n",
      "WARNING: No transforms found, using identify transform\n",
      "Default pixel value: 0\n",
      "Interpolation type: LabelImageGenericInterpolateImageFunction\n",
      "Output warped image: tpl-MNI152NLin6Asym_atlas-Schaefer2018v0143_res-01_desc-1000ParcelsAllNetworks_dseg.nii.gz\n"
     ]
    },
    {
     "name": "stderr",
     "output_type": "stream",
     "text": [
      "+ antsApplyTransforms -d 3 -i Schaefer2018_1000Parcels_7Networks_order_FSLMNI152_1mm.nii.gz -o tpl-MNI152NLin2009cAsym_atlas-Schaefer2018v0143_res-01_desc-1000ParcelsAllNetworks_dseg.nii.gz -t /Users/mcieslak/projects/templateflow/tpl-MNI152NLin2009cAsym/tpl-MNI152NLin2009cAsym_from-MNI152NLin6Asym_mode-image_xfm.h5 -r /Users/mcieslak/projects/templateflow/tpl-MNI152NLin2009cAsym/tpl-MNI152NLin2009cAsym_res-01_desc-brain_mask.nii.gz --interpolation GenericLabel -v 1\n"
     ]
    },
    {
     "name": "stdout",
     "output_type": "stream",
     "text": [
      "Using double precision for computations.\n",
      "Input scalar image: Schaefer2018_1000Parcels_7Networks_order_FSLMNI152_1mm.nii.gz\n",
      "Reference image: /Users/mcieslak/projects/templateflow/tpl-MNI152NLin2009cAsym/tpl-MNI152NLin2009cAsym_res-01_desc-brain_mask.nii.gz\n",
      "=============================================================================\n",
      "The composite transform comprises the following transforms (in order): \n",
      "  1. /Users/mcieslak/projects/templateflow/tpl-MNI152NLin2009cAsym/tpl-MNI152NLin2009cAsym_from-MNI152NLin6Asym_mode-image_xfm.h5[0] (type = AffineTransform)\n",
      "  2. /Users/mcieslak/projects/templateflow/tpl-MNI152NLin2009cAsym/tpl-MNI152NLin2009cAsym_from-MNI152NLin6Asym_mode-image_xfm.h5[1] (type = DisplacementFieldTransform)\n",
      "=============================================================================\n",
      "Default pixel value: 0\n",
      "Interpolation type: LabelImageGenericInterpolateImageFunction\n",
      "Output warped image: tpl-MNI152NLin2009cAsym_atlas-Schaefer2018v0143_res-01_desc-1000ParcelsAllNetworks_dseg.nii.gz\n"
     ]
    },
    {
     "name": "stderr",
     "output_type": "stream",
     "text": [
      "+ cd ..\n",
      "+ for atlasname in CIT168 cerebellum Schaefer thalamus hippocampus_and_amygdala\n",
      "+ cd thalamus\n",
      "+ bash -ex prepare_atlas.sh\n",
      "+ wget https://zenodo.org/record/1405484/files/Thalamus_Nuclei-HCP-MaxProb.nii.gz\n",
      "--2023-10-30 20:46:24--  https://zenodo.org/record/1405484/files/Thalamus_Nuclei-HCP-MaxProb.nii.gz\n",
      "Resolving zenodo.org (zenodo.org)... 2001:1458:d00:66::100:2e9, 2001:1458:d00:69::100:367, 2001:1458:d00:63::100:302, ...\n",
      "Connecting to zenodo.org (zenodo.org)|2001:1458:d00:66::100:2e9|:443... connected.\n",
      "HTTP request sent, awaiting response... 301 MOVED PERMANENTLY\n",
      "Location: /records/1405484/files/Thalamus_Nuclei-HCP-MaxProb.nii.gz [following]\n",
      "--2023-10-30 20:46:25--  https://zenodo.org/records/1405484/files/Thalamus_Nuclei-HCP-MaxProb.nii.gz\n",
      "Reusing existing connection to [zenodo.org]:443.\n",
      "HTTP request sent, awaiting response... 200 OK\n",
      "Length: 14805 (14K) [application/octet-stream]\n",
      "Saving to: ‘Thalamus_Nuclei-HCP-MaxProb.nii.gz’\n",
      "\n",
      "     0K .......... ....                                       100%  127K=0.1s\n",
      "\n",
      "2023-10-30 20:46:25 (127 KB/s) - ‘Thalamus_Nuclei-HCP-MaxProb.nii.gz’ saved [14805/14805]\n",
      "\n",
      "+ wget https://zenodo.org/record/1405484/files/Thalamic_Nuclei-ColorLUT.txt\n",
      "--2023-10-30 20:46:25--  https://zenodo.org/record/1405484/files/Thalamic_Nuclei-ColorLUT.txt\n",
      "Resolving zenodo.org (zenodo.org)... 2001:1458:d00:69::100:367, 2001:1458:d00:63::100:302, 188.185.10.78, ...\n",
      "Connecting to zenodo.org (zenodo.org)|2001:1458:d00:69::100:367|:443... connected.\n",
      "HTTP request sent, awaiting response... 301 MOVED PERMANENTLY\n",
      "Location: /records/1405484/files/Thalamic_Nuclei-ColorLUT.txt [following]\n",
      "--2023-10-30 20:46:26--  https://zenodo.org/records/1405484/files/Thalamic_Nuclei-ColorLUT.txt\n",
      "Reusing existing connection to [zenodo.org]:443.\n",
      "HTTP request sent, awaiting response... 200 OK\n",
      "Length: 1336 (1.3K) [text/plain]\n",
      "Saving to: ‘Thalamic_Nuclei-ColorLUT.txt’\n",
      "\n",
      "     0K .                                                     100% 98.0M=0s\n",
      "\n",
      "2023-10-30 20:46:26 (98.0 MB/s) - ‘Thalamic_Nuclei-ColorLUT.txt’ saved [1336/1336]\n",
      "\n",
      "+ antsApplyTransforms -d 3 -i Thalamus_Nuclei-HCP-MaxProb.nii.gz -o tpl-MNI152NLin6Asym_atlas-hcpthalamic_res-01_dseg.nii.gz -t ../transforms/tpl-MNI152NLin6Asym_from-MNI152NLin2009aSym_mode-image_xfm.h5 -r /Users/mcieslak/projects/templateflow/tpl-MNI152NLin6Asym/tpl-MNI152NLin6Asym_res-01_desc-brain_mask.nii.gz --interpolation GenericLabel -v 1\n"
     ]
    },
    {
     "name": "stdout",
     "output_type": "stream",
     "text": [
      "Using double precision for computations.\n",
      "Input scalar image: Thalamus_Nuclei-HCP-MaxProb.nii.gz\n",
      "Reference image: /Users/mcieslak/projects/templateflow/tpl-MNI152NLin6Asym/tpl-MNI152NLin6Asym_res-01_desc-brain_mask.nii.gz\n",
      "=============================================================================\n",
      "The composite transform comprises the following transforms (in order): \n",
      "  1. ../transforms/tpl-MNI152NLin6Asym_from-MNI152NLin2009aSym_mode-image_xfm.h5[0] (type = AffineTransform)\n",
      "  2. ../transforms/tpl-MNI152NLin6Asym_from-MNI152NLin2009aSym_mode-image_xfm.h5[1] (type = DisplacementFieldTransform)\n",
      "=============================================================================\n",
      "Default pixel value: 0\n",
      "Interpolation type: LabelImageGenericInterpolateImageFunction\n",
      "Output warped image: tpl-MNI152NLin6Asym_atlas-hcpthalamic_res-01_dseg.nii.gz\n"
     ]
    },
    {
     "name": "stderr",
     "output_type": "stream",
     "text": [
      "+ antsApplyTransforms -d 3 -i Thalamus_Nuclei-HCP-MaxProb.nii.gz -o tpl-MNI152NLin2009cAsym_atlas-hcpthalamic_res-01_dseg.nii.gz -t ../transforms/tpl-MNI152NLin2009cAsym_from-MNI152NLin2009aSym_mode-image_xfm.h5 -r /Users/mcieslak/projects/templateflow/tpl-MNI152NLin2009cAsym/tpl-MNI152NLin2009cAsym_res-01_desc-brain_mask.nii.gz --interpolation GenericLabel -v 1\n"
     ]
    },
    {
     "name": "stdout",
     "output_type": "stream",
     "text": [
      "Using double precision for computations.\n",
      "Input scalar image: Thalamus_Nuclei-HCP-MaxProb.nii.gz\n",
      "Reference image: /Users/mcieslak/projects/templateflow/tpl-MNI152NLin2009cAsym/tpl-MNI152NLin2009cAsym_res-01_desc-brain_mask.nii.gz\n",
      "=============================================================================\n",
      "The composite transform comprises the following transforms (in order): \n",
      "  1. ../transforms/tpl-MNI152NLin2009cAsym_from-MNI152NLin2009aSym_mode-image_xfm.h5[0] (type = AffineTransform)\n",
      "  2. ../transforms/tpl-MNI152NLin2009cAsym_from-MNI152NLin2009aSym_mode-image_xfm.h5[1] (type = DisplacementFieldTransform)\n",
      "=============================================================================\n",
      "Default pixel value: 0\n",
      "Interpolation type: LabelImageGenericInterpolateImageFunction\n",
      "Output warped image: tpl-MNI152NLin2009cAsym_atlas-hcpthalamic_res-01_dseg.nii.gz\n"
     ]
    },
    {
     "name": "stderr",
     "output_type": "stream",
     "text": [
      "+ python make_labels_tsv.py\n",
      "+ cd ..\n",
      "+ for atlasname in CIT168 cerebellum Schaefer thalamus hippocampus_and_amygdala\n",
      "+ cd hippocampus_and_amygdala\n",
      "+ bash -ex prepare_atlas.sh\n",
      "+ wget https://raw.githubusercontent.com/PennLINC/xcp_d/8a07b53b8a1bb921cd8ca3dc2d23fd09da7982fd/xcp_d/data/atlases/atlas-HCP_dseg.tsv\n",
      "--2023-10-30 20:46:30--  https://raw.githubusercontent.com/PennLINC/xcp_d/8a07b53b8a1bb921cd8ca3dc2d23fd09da7982fd/xcp_d/data/atlases/atlas-HCP_dseg.tsv\n",
      "Resolving raw.githubusercontent.com (raw.githubusercontent.com)... 2606:50c0:8002::154, 2606:50c0:8000::154, 2606:50c0:8003::154, ...\n",
      "Connecting to raw.githubusercontent.com (raw.githubusercontent.com)|2606:50c0:8002::154|:443... connected.\n",
      "HTTP request sent, awaiting response... 200 OK\n",
      "Length: 1027 (1.0K) [text/plain]\n",
      "Saving to: ‘atlas-HCP_dseg.tsv’\n",
      "\n",
      "     0K .                                                     100% 9.99M=0s\n",
      "\n",
      "2023-10-30 20:46:30 (9.99 MB/s) - ‘atlas-HCP_dseg.tsv’ saved [1027/1027]\n",
      "\n",
      "+ wget https://github.com/Washington-University/HCPpipelines/raw/master/global/templates/170494_Greyordinates/Atlas_ROIs.1.60.nii.gz\n",
      "--2023-10-30 20:46:30--  https://github.com/Washington-University/HCPpipelines/raw/master/global/templates/170494_Greyordinates/Atlas_ROIs.1.60.nii.gz\n",
      "Resolving github.com (github.com)... 140.82.113.4\n",
      "Connecting to github.com (github.com)|140.82.113.4|:443... connected.\n",
      "HTTP request sent, awaiting response... 302 Found\n",
      "Location: https://raw.githubusercontent.com/Washington-University/HCPpipelines/master/global/templates/170494_Greyordinates/Atlas_ROIs.1.60.nii.gz [following]\n",
      "--2023-10-30 20:46:30--  https://raw.githubusercontent.com/Washington-University/HCPpipelines/master/global/templates/170494_Greyordinates/Atlas_ROIs.1.60.nii.gz\n",
      "Resolving raw.githubusercontent.com (raw.githubusercontent.com)... 2606:50c0:8002::154, 2606:50c0:8000::154, 2606:50c0:8003::154, ...\n",
      "Connecting to raw.githubusercontent.com (raw.githubusercontent.com)|2606:50c0:8002::154|:443... connected.\n",
      "HTTP request sent, awaiting response... 200 OK\n",
      "Length: 25355 (25K) [application/octet-stream]\n",
      "Saving to: ‘Atlas_ROIs.1.60.nii.gz’\n",
      "\n",
      "     0K .......... .......... ....                            100% 28.1M=0.001s\n",
      "\n",
      "2023-10-30 20:46:30 (28.1 MB/s) - ‘Atlas_ROIs.1.60.nii.gz’ saved [25355/25355]\n",
      "\n",
      "+ mv Atlas_ROIs.1.60.nii.gz tpl-MNI152NLin6Asym_atlas-HCP_res-06_dseg.nii.gz\n",
      "+ python split_regions.py\n",
      "+ antsApplyTransforms -d 3 -i tpl-MNI152NLin6Asym_atlas-HPandAMYG_res-06_dseg.nii.gz -o tpl-MNI152NLin6Asym_atlas-HPandAMYG_res-01_dseg.nii.gz -r /Users/mcieslak/projects/templateflow/tpl-MNI152NLin6Asym/tpl-MNI152NLin6Asym_res-01_desc-brain_mask.nii.gz --interpolation GenericLabel -v 1\n"
     ]
    },
    {
     "name": "stdout",
     "output_type": "stream",
     "text": [
      "Using double precision for computations.\n",
      "Input scalar image: tpl-MNI152NLin6Asym_atlas-HPandAMYG_res-06_dseg.nii.gz\n",
      "Reference image: /Users/mcieslak/projects/templateflow/tpl-MNI152NLin6Asym/tpl-MNI152NLin6Asym_res-01_desc-brain_mask.nii.gz\n",
      "=============================================================================\n",
      "The composite transform comprises the following transforms (in order): \n",
      "=============================================================================\n",
      "WARNING: No transforms found, using identify transform\n",
      "Default pixel value: 0\n",
      "Interpolation type: LabelImageGenericInterpolateImageFunction\n",
      "Output warped image: tpl-MNI152NLin6Asym_atlas-HPandAMYG_res-01_dseg.nii.gz\n"
     ]
    },
    {
     "name": "stderr",
     "output_type": "stream",
     "text": [
      "+ antsApplyTransforms -d 3 -i tpl-MNI152NLin6Asym_atlas-HPandAMYG_res-06_dseg.nii.gz -o tpl-MNI152NLin2009cAsym_atlas-HPandAMYG_res-01_dseg.nii.gz -t /Users/mcieslak/projects/templateflow/tpl-MNI152NLin2009cAsym/tpl-MNI152NLin2009cAsym_from-MNI152NLin6Asym_mode-image_xfm.h5 -r /Users/mcieslak/projects/templateflow/tpl-MNI152NLin2009cAsym/tpl-MNI152NLin2009cAsym_res-01_desc-brain_mask.nii.gz --interpolation GenericLabel -v 1\n"
     ]
    },
    {
     "name": "stdout",
     "output_type": "stream",
     "text": [
      "Using double precision for computations.\n",
      "Input scalar image: tpl-MNI152NLin6Asym_atlas-HPandAMYG_res-06_dseg.nii.gz\n",
      "Reference image: /Users/mcieslak/projects/templateflow/tpl-MNI152NLin2009cAsym/tpl-MNI152NLin2009cAsym_res-01_desc-brain_mask.nii.gz\n",
      "=============================================================================\n",
      "The composite transform comprises the following transforms (in order): \n",
      "  1. /Users/mcieslak/projects/templateflow/tpl-MNI152NLin2009cAsym/tpl-MNI152NLin2009cAsym_from-MNI152NLin6Asym_mode-image_xfm.h5[0] (type = AffineTransform)\n",
      "  2. /Users/mcieslak/projects/templateflow/tpl-MNI152NLin2009cAsym/tpl-MNI152NLin2009cAsym_from-MNI152NLin6Asym_mode-image_xfm.h5[1] (type = DisplacementFieldTransform)\n",
      "=============================================================================\n",
      "Default pixel value: 0\n",
      "Interpolation type: LabelImageGenericInterpolateImageFunction\n",
      "Output warped image: tpl-MNI152NLin2009cAsym_atlas-HPandAMYG_res-01_dseg.nii.gz\n"
     ]
    },
    {
     "name": "stderr",
     "output_type": "stream",
     "text": [
      "+ cd ..\n"
     ]
    }
   ],
   "source": [
    "%%bash\n",
    "\n",
    "set -eux\n",
    "\n",
    "for atlasname in CIT168 cerebellum Schaefer thalamus hippocampus_and_amygdala\n",
    "do\n",
    "  cd ${atlasname}\n",
    "  bash -ex prepare_atlas.sh\n",
    "  cd ..\n",
    "done"
   ]
  },
  {
   "cell_type": "markdown",
   "id": "8cbf2678",
   "metadata": {},
   "source": [
    "This has downloaded and standardized the atlases"
   ]
  },
  {
   "cell_type": "code",
   "execution_count": 2,
   "id": "e5ecd0b0",
   "metadata": {},
   "outputs": [],
   "source": [
    "import os\n",
    "import nibabel as nb\n",
    "\n",
    "tsvs = {\n",
    "    \"cerebellum\": \"cerebellum/atl-MDTB10.tsv\",\n",
    "    \"subcortex\": \"CIT168/atl-CIT168.tsv\",\n",
    "    \"thalamus\": \"thalamus/atlas-hcpthalamus.tsv\",\n",
    "    \"hippocampus_and_amygdala\": \"hippocampus_and_amygdala/atlas-HPandAMYG_dseg.tsv\",\n",
    "}\n",
    "\n",
    "tfhome = os.getenv(\"TEMPLATEFLOW_HOME\")\n",
    "\n",
    "nlin6_ref = os.path.join(\n",
    "    tfhome,\n",
    "    \"tpl-MNI152NLin6Asym\",\n",
    "    \"tpl-MNI152NLin6Asym_res-01_desc-brain_mask.nii.gz\",\n",
    ")\n",
    "nlin6_ref_img = nb.load(nlin6_ref)\n",
    "nlin6 = {\n",
    "    \"cerebellum\": \"cerebellum/tpl-MNI152NLin6Asym_atlas-MDTB10_res-01_dseg.nii.gz\",\n",
    "    \"subcortex\": \"CIT168/tpl-MNI152NLin6Asym_atlas-CIT168_res-01_desc-LRSplit_dseg.nii.gz\",\n",
    "    \"thalamus\": \"thalamus/tpl-MNI152NLin6Asym_atlas-hcpthalamic_res-01_dseg.nii.gz\",\n",
    "    \"hippocampus_and_amygdala\": (\n",
    "        \"hippocampus_and_amygdala/tpl-MNI152NLin6Asym_atlas-HPandAMYG_res-01_dseg.nii.gz\"\n",
    "    ),\n",
    "}\n",
    "\n",
    "nlin09c_ref = os.path.join(\n",
    "    tfhome,\n",
    "    \"tpl-MNI152NLin2009cAsym\",\n",
    "    \"tpl-MNI152NLin2009cAsym_res-01_desc-brain_mask.nii.gz\",\n",
    ")\n",
    "nlin09c_ref_img = nb.load(nlin09c_ref)\n",
    "nlin09c = {\n",
    "    \"cerebellum\": \"cerebellum/tpl-MNI152NLin2009cAsym_atlas-MDTB10_res-01_dseg.nii.gz\",\n",
    "    \"subcortex\": \"CIT168/tpl-MNI152NLin2009cAsym_atlas-CIT168_res-01_desc-LRSplit_dseg.nii.gz\",\n",
    "    \"thalamus\": \"thalamus/tpl-MNI152NLin2009cAsym_atlas-hcpthalamic_res-01_dseg.nii.gz\",\n",
    "    \"hippocampus_and_amygdala\": (\n",
    "        \"hippocampus_and_amygdala/tpl-MNI152NLin2009cAsym_atlas-HPandAMYG_res-01_dseg.nii.gz\"\n",
    "    ),\n",
    "}"
   ]
  },
  {
   "cell_type": "code",
   "execution_count": 3,
   "id": "cfbfc2df",
   "metadata": {},
   "outputs": [
    {
     "name": "stdout",
     "output_type": "stream",
     "text": [
      "checking files:\n",
      "\n",
      "  /Users/mcieslak/projects/templateflow/tpl-MNI152NLin6Asym/tpl-MNI152NLin6Asym_res-01_desc-brain_mask.nii.gz\n",
      "  cerebellum/tpl-MNI152NLin6Asym_atlas-MDTB10_res-01_dseg.nii.gz\n",
      "  CIT168/tpl-MNI152NLin6Asym_atlas-CIT168_res-01_desc-LRSplit_dseg.nii.gz\n",
      "  thalamus/tpl-MNI152NLin6Asym_atlas-hcpthalamic_res-01_dseg.nii.gz\n",
      "  hippocampus_and_amygdala/tpl-MNI152NLin6Asym_atlas-HPandAMYG_res-01_dseg.nii.gz\n",
      "\n",
      "comparing grids:\n",
      "(182, 218, 182) == (182, 218, 182)\n",
      "(182, 218, 182) == (182, 218, 182)\n",
      "(182, 218, 182) == (182, 218, 182)\n",
      "(182, 218, 182) == (182, 218, 182)\n",
      "All grids match orientation and shape!!\n",
      "checking files:\n",
      "\n",
      "  /Users/mcieslak/projects/templateflow/tpl-MNI152NLin2009cAsym/tpl-MNI152NLin2009cAsym_res-01_desc-brain_mask.nii.gz\n",
      "  cerebellum/tpl-MNI152NLin2009cAsym_atlas-MDTB10_res-01_dseg.nii.gz\n",
      "  CIT168/tpl-MNI152NLin2009cAsym_atlas-CIT168_res-01_desc-LRSplit_dseg.nii.gz\n",
      "  thalamus/tpl-MNI152NLin2009cAsym_atlas-hcpthalamic_res-01_dseg.nii.gz\n",
      "  hippocampus_and_amygdala/tpl-MNI152NLin2009cAsym_atlas-HPandAMYG_res-01_dseg.nii.gz\n",
      "\n",
      "comparing grids:\n",
      "(193, 229, 193) == (193, 229, 193)\n",
      "(193, 229, 193) == (193, 229, 193)\n",
      "(193, 229, 193) == (193, 229, 193)\n",
      "(193, 229, 193) == (193, 229, 193)\n",
      "All grids match orientation and shape!!\n"
     ]
    }
   ],
   "source": [
    "from utils import check_grids\n",
    "\n",
    "check_grids([nlin6_ref] + list(nlin6.values()))\n",
    "check_grids([nlin09c_ref] + list(nlin09c.values()))"
   ]
  },
  {
   "cell_type": "markdown",
   "id": "060258b1",
   "metadata": {},
   "source": [
    "Let's look at what one of these entries looks like:"
   ]
  },
  {
   "cell_type": "code",
   "execution_count": 4,
   "id": "3e9f54e4",
   "metadata": {
    "scrolled": true
   },
   "outputs": [
    {
     "name": "stdout",
     "output_type": "stream",
     "text": [
      "cerebellum\n",
      "thalamus\n",
      "subcortex\n",
      "hippocampus_and_amygdala\n"
     ]
    }
   ],
   "source": [
    "from utils import roi_data, tsv_to_config, verify_atlas\n",
    "\n",
    "for atlas in [\"cerebellum\", \"thalamus\", \"subcortex\", \"hippocampus_and_amygdala\"]:\n",
    "    print(atlas)\n",
    "    # Check nlin6\n",
    "    verify_atlas(tsv_to_config(tsvs[atlas]), roi_data(nlin6[atlas]))\n",
    "\n",
    "    # Check 2009c\n",
    "    verify_atlas(tsv_to_config(tsvs[atlas]), roi_data(nlin09c[atlas]))"
   ]
  },
  {
   "cell_type": "markdown",
   "id": "3ceb2075",
   "metadata": {},
   "source": [
    "The TSVs and the niftis all check out."
   ]
  },
  {
   "cell_type": "markdown",
   "id": "2608b3dd",
   "metadata": {},
   "source": [
    "## Combining the atlases\n",
    "\n",
    "We need to add the cerebellum, thalamus and subcortical regions into a single atlas. Below are some functions that help us add one atlas into another. We'll add these three together and then add them to all the other atlases that don't have any subcortical regions"
   ]
  },
  {
   "cell_type": "markdown",
   "id": "322473cb",
   "metadata": {},
   "source": [
    "Testing this code, let's use the cit168 atlas as the base and make sure these functions do what we think they do"
   ]
  },
  {
   "cell_type": "code",
   "execution_count": 5,
   "id": "c9f49d08",
   "metadata": {},
   "outputs": [
    {
     "name": "stdout",
     "output_type": "stream",
     "text": [
      "atlas mapping:\n",
      "(1, 1)  (2, 2)  (3, 3)  (4, 4)  (5, 5)  (6, 6)  (7, 7)  (8, 8)  (9, 9)  (12, 10)  (13, 11)  (14, 12)  (15, 13)  (16, 14)  (101, 15)  (102, 16)  (103, 17)  (104, 18)  (105, 19)  (106, 20)  (107, 21)  (108, 22)  (109, 23)  (112, 24)  (113, 25)  (114, 26)  (115, 27)  (116, 28)\n",
      "matched labels:\n",
      "(1, array([1], dtype=uint32))  (2, array([2], dtype=uint32))  (3, array([3], dtype=uint32))  (4, array([4], dtype=uint32))  (5, array([5], dtype=uint32))  (6, array([6], dtype=uint32))  (7, array([7], dtype=uint32))  (8, array([8], dtype=uint32))  (9, array([9], dtype=uint32))  (12, array([10], dtype=uint32))  (13, array([11], dtype=uint32))  (14, array([12], dtype=uint32))  (15, array([13], dtype=uint32))  (16, array([14], dtype=uint32))  (101, array([15], dtype=uint32))  (102, array([16], dtype=uint32))  (103, array([17], dtype=uint32))  (104, array([18], dtype=uint32))  (105, array([19], dtype=uint32))  (106, array([20], dtype=uint32))  (107, array([21], dtype=uint32))  (108, array([22], dtype=uint32))  (109, array([23], dtype=uint32))  (112, array([24], dtype=uint32))  (113, array([25], dtype=uint32))  (114, array([26], dtype=uint32))  (115, array([27], dtype=uint32))  (116, array([28], dtype=uint32))\n"
     ]
    }
   ],
   "source": [
    "import numpy as np\n",
    "\n",
    "from utils import get_region_data, match_partitions, remap_values\n",
    "\n",
    "# This simulates re-numbering the CIT168 altas\n",
    "cit_labels, cit_names = get_region_data(tsvs[\"subcortex\"])\n",
    "new_atlas_mapping = {\n",
    "    old_value: new_value\n",
    "    for old_value, new_value in zip(cit_labels, np.argsort(cit_labels) + 1)\n",
    "}\n",
    "\n",
    "print(\"atlas mapping:\")\n",
    "print(*sorted(new_atlas_mapping.items()), sep=\"  \")\n",
    "\n",
    "hemi_cit_data = nb.load(nlin6[\"subcortex\"]).get_fdata().astype(np.uint32)\n",
    "remapped_atlas = remap_values(hemi_cit_data, new_atlas_mapping)\n",
    "print(\"matched labels:\")\n",
    "print(*sorted(match_partitions(hemi_cit_data, remapped_atlas).items()), sep=\"  \")"
   ]
  },
  {
   "cell_type": "markdown",
   "id": "afe27977",
   "metadata": {},
   "source": [
    "It works!! Now we can start adding these atlases to one another.\n",
    "\n"
   ]
  },
  {
   "cell_type": "markdown",
   "id": "ccef3365",
   "metadata": {},
   "source": [
    "### Creating the full subcortical atlas\n",
    "\n",
    "Here we merge the three subcortical atlases"
   ]
  },
  {
   "cell_type": "code",
   "execution_count": 8,
   "id": "71d307f1",
   "metadata": {},
   "outputs": [],
   "source": [
    "import pandas as pd\n",
    "\n",
    "from utils import add_atlas_to_another, expand_df\n",
    "os.makedirs(\"subcortical_merged\", exist_ok=True)\n",
    "cit_hemi_config = tsv_to_config(tsvs[\"subcortex\"])\n",
    "cit_hemi_data_nlin6 = roi_data(nlin6[\"subcortex\"])\n",
    "cit_hemi_data_09c = roi_data(nlin09c[\"subcortex\"])\n",
    "\n",
    "thalamus_config = tsv_to_config(tsvs[\"thalamus\"])\n",
    "thalamus_config[\"node_names\"] = [\n",
    "    f\"ThalamusHCP_{name}\" for name in thalamus_config[\"node_names\"]\n",
    "]\n",
    "thalamus_data_nlin6 = roi_data(nlin6[\"thalamus\"])\n",
    "thalamus_data_09c = roi_data(nlin09c[\"thalamus\"])\n",
    "\n",
    "cb_config = tsv_to_config(tsvs[\"cerebellum\"])\n",
    "cb_config[\"node_names\"] = [\n",
    "    f\"Cerebellum_Cerebellar_{name}\" for name in cb_config[\"node_names\"]\n",
    "]\n",
    "cb_data_nlin6 = roi_data(nlin6[\"cerebellum\"])\n",
    "cb_data_09c = roi_data(nlin09c[\"cerebellum\"])\n",
    "\n",
    "hp_config = tsv_to_config(tsvs[\"hippocampus_and_amygdala\"])\n",
    "hp_config[\"node_names\"] = [\n",
    "    f\"SubcorticalHCP_{name}\" for name in hp_config[\"node_names\"]\n",
    "]\n",
    "hp_data_nlin6 = roi_data(nlin6[\"hippocampus_and_amygdala\"])\n",
    "hp_data_09c = roi_data(nlin09c[\"hippocampus_and_amygdala\"])\n",
    "\n",
    "# Do NLin6\n",
    "thalamus_and_cit_config_nlin6, thalamus_and_cit_data_nlin6 = add_atlas_to_another(\n",
    "    cit_hemi_config,\n",
    "    cit_hemi_data_nlin6,\n",
    "    thalamus_config,\n",
    "    thalamus_data_nlin6,\n",
    ")\n",
    "\n",
    "hp_thalamus_and_cit_config_nlin6, hp_thalamus_and_cit_data_nlin6 = add_atlas_to_another(\n",
    "    thalamus_and_cit_config_nlin6,\n",
    "    thalamus_and_cit_data_nlin6,\n",
    "    hp_config,\n",
    "    hp_data_nlin6,\n",
    ")\n",
    "\n",
    "full_subcortical_config_nlin6, full_subcortical_data_nlin6 = add_atlas_to_another(\n",
    "    hp_thalamus_and_cit_config_nlin6,\n",
    "    hp_thalamus_and_cit_data_nlin6,\n",
    "    cb_config,\n",
    "    cb_data_nlin6,\n",
    ")\n",
    "\n",
    "subcortical_nlin6 = nb.Nifti1Image(\n",
    "    full_subcortical_data_nlin6,\n",
    "    nlin6_ref_img.affine,\n",
    "    header=nlin6_ref_img.header,\n",
    ")\n",
    "subcortical_nlin6.to_filename(\n",
    "    \"subcortical_merged/tpl-MNI152NLin6Asym_atlas-SubcorticalMerged_res-01_dseg.nii.gz\"\n",
    ")\n",
    "nlin6_df = pd.DataFrame(\n",
    "    {\n",
    "        \"index\": full_subcortical_config_nlin6[\"node_ids\"],\n",
    "        \"name\": full_subcortical_config_nlin6[\"node_names\"],\n",
    "    }\n",
    ")\n",
    "expand_df(nlin6_df).to_csv(\n",
    "    \"subcortical_merged/tpl-MNI152NLin6Asym_atlas-SubcorticalMerged_res-01_dseg.tsv\",\n",
    "    sep=\"\\t\",\n",
    "    index=False,\n",
    ")"
   ]
  },
  {
   "cell_type": "code",
   "execution_count": 9,
   "id": "3d250dca",
   "metadata": {},
   "outputs": [],
   "source": [
    "# Do 09c\n",
    "thalamus_and_cit_config_09c, thalamus_and_cit_data_09c = add_atlas_to_another(\n",
    "    cit_hemi_config,\n",
    "    cit_hemi_data_09c,\n",
    "    thalamus_config,\n",
    "    thalamus_data_09c,\n",
    ")\n",
    "\n",
    "hp_thalamus_and_cit_config_09c, hp_thalamus_and_cit_data_09c = add_atlas_to_another(\n",
    "    thalamus_and_cit_config_09c,\n",
    "    thalamus_and_cit_data_09c,\n",
    "    hp_config,\n",
    "    hp_data_09c,\n",
    ")\n",
    "\n",
    "full_subcortical_config_09c, full_subcortical_data_09c = add_atlas_to_another(\n",
    "    hp_thalamus_and_cit_config_09c,\n",
    "    hp_thalamus_and_cit_data_09c,\n",
    "    cb_config,\n",
    "    cb_data_09c,\n",
    ")\n",
    "\n",
    "subcortical_09c = nb.Nifti1Image(\n",
    "    full_subcortical_data_09c,\n",
    "    nlin09c_ref_img.affine,\n",
    "    header=nlin09c_ref_img.header,\n",
    ")\n",
    "subcortical_09c.to_filename(\n",
    "    \"subcortical_merged/tpl-MNI152NLin2009cAsym_atlas-SubcorticalMerged_res-01_dseg.nii.gz\"\n",
    ")\n",
    "nlin09c_df = pd.DataFrame(\n",
    "    {\n",
    "        \"index\": full_subcortical_config_09c[\"node_ids\"],\n",
    "        \"name\": full_subcortical_config_09c[\"node_names\"],\n",
    "    }\n",
    ")\n",
    "expand_df(nlin09c_df).to_csv(\n",
    "    \"subcortical_merged/tpl-MNI152NLin2009cAsym_atlas-SubcorticalMerged_res-01_dseg.tsv\",\n",
    "    sep=\"\\t\",\n",
    "    index=False,\n",
    ")"
   ]
  },
  {
   "cell_type": "markdown",
   "id": "4ba91376",
   "metadata": {},
   "source": [
    "## Downsample combined subcortical atlas to 2 mm3 for CIFTI version"
   ]
  },
  {
   "cell_type": "code",
   "execution_count": 14,
   "id": "b0d39ae9",
   "metadata": {},
   "outputs": [
    {
     "name": "stdout",
     "output_type": "stream",
     "text": [
      "Using double precision for computations.\n",
      "Input scalar image: subcortical_merged/tpl-MNI152NLin6Asym_atlas-SubcorticalMerged_res-01_dseg.nii.gz\n",
      "Reference image: /Users/mcieslak/projects/templateflow/tpl-MNI152NLin6Asym/tpl-MNI152NLin6Asym_res-02_desc-brain_mask.nii.gz\n",
      "=============================================================================\n",
      "The composite transform comprises the following transforms (in order): \n",
      "=============================================================================\n",
      "WARNING: No transforms found, using identify transform\n",
      "Default pixel value: 0\n",
      "Interpolation type: LabelImageGenericInterpolateImageFunction\n",
      "Output warped image: subcortical_merged/tpl-MNI152NLin6Asym_atlas-SubcorticalMerged_res-02_dseg.nii.gz\n"
     ]
    }
   ],
   "source": [
    "%%bash\n",
    "\n",
    "antsApplyTransforms \\\n",
    "    -d 3 \\\n",
    "    -i 'subcortical_merged/tpl-MNI152NLin6Asym_atlas-SubcorticalMerged_res-01_dseg.nii.gz' \\\n",
    "    -o 'subcortical_merged/tpl-MNI152NLin6Asym_atlas-SubcorticalMerged_res-02_dseg.nii.gz' \\\n",
    "    -r ${TEMPLATEFLOW_HOME}'/tpl-MNI152NLin6Asym/tpl-MNI152NLin6Asym_res-02_desc-brain_mask.nii.gz' \\\n",
    "    --interpolation GenericLabel \\\n",
    "    -v 1\n"
   ]
  },
  {
   "cell_type": "markdown",
   "id": "6ca1dc85",
   "metadata": {},
   "source": [
    "# Generate CIFTI files"
   ]
  },
  {
   "cell_type": "code",
   "execution_count": 16,
   "id": "b81053dc",
   "metadata": {},
   "outputs": [
    {
     "name": "stderr",
     "output_type": "stream",
     "text": [
      "Downloading https://templateflow.s3.amazonaws.com/tpl-fsLR/tpl-fsLR_hemi-R_den-32k_desc-nomedialwall_dparc.label.gii\n",
      "100%|██████████| 3.54k/3.54k [00:00<00:00, 882kB/s]\n",
      "Downloading https://templateflow.s3.amazonaws.com/tpl-fsLR/tpl-fsLR_hemi-L_den-32k_desc-nomedialwall_dparc.label.gii\n",
      "100%|██████████| 3.51k/3.51k [00:00<00:00, 1.36MB/s]\n",
      "Traceback (most recent call last):\n",
      "  File \"01_prepare_cifti_atlas.py\", line 162, in <module>\n",
      "    download_templates()\n",
      "  File \"01_prepare_cifti_atlas.py\", line 89, in download_templates\n",
      "    shutil.copyfile(rh, os.path.basename(rh))\n",
      "  File \"/usr/local/Caskroom/miniconda/base/envs/qsiprep/lib/python3.8/shutil.py\", line 264, in copyfile\n",
      "    with open(src, 'rb') as fsrc, open(dst, 'wb') as fdst:\n",
      "FileNotFoundError: [Errno 2] No such file or directory: 'tpl-fsLR_hemi-R_den-32k_desc-nomedialwall_dparc.label.gii'\n"
     ]
    },
    {
     "name": "stdout",
     "output_type": "stream",
     "text": [
      "100\n"
     ]
    },
    {
     "name": "stderr",
     "output_type": "stream",
     "text": [
      "\n",
      "While running:\n",
      "/Applications/workbench/bin_macosx64/../macosx64_apps/wb_command.app/Contents/MacOS/wb_command -cifti-separate tpl-fsLR_atlas-Schaefer2018v0143_den-32k_desc-100ParcelsAllNetworks_dseg.dlabel.nii COLUMN -label CORTEX_LEFT tpl-fsLR_atlas-Schaefer2018v0143_den-32k_hemi-L_desc-100ParcelsAllNetworks_dseg.label.gii -label CORTEX_RIGHT tpl-fsLR_atlas-Schaefer2018v0143_den-32k_hemi-R_desc-100ParcelsAllNetworks_dseg.label.gii\n",
      "\n",
      "ERROR: failed to open file '/Users/mcieslak/projects/AtlasPack/Schaefer/tpl-fsLR_atlas-Schaefer2018v0143_den-32k_desc-100ParcelsAllNetworks_dseg.dlabel.nii', file does not exist, or folder permissions prevent seeing it\n",
      "\n"
     ]
    },
    {
     "name": "stdout",
     "output_type": "stream",
     "text": [
      "    Converting NIFTI atlas to NIFTI label file.\n"
     ]
    },
    {
     "name": "stderr",
     "output_type": "stream",
     "text": [
      "\n",
      "While running:\n",
      "/Applications/workbench/bin_macosx64/../macosx64_apps/wb_command.app/Contents/MacOS/wb_command -volume-label-import tpl-MNI152NLin6Asym_atlas-SubcorticalMerged_res-02_desc-Schaefer2018v0143x100Parcels_dseg.nii.gz tpl-MNI152NLin6Asym_atlas-SubcorticalMerged_res-02_desc-Schaefer2018v0143x100Parcels_labellist.txt tpl-MNI152NLin6Asym_atlas-SubcorticalMerged_res-02_desc-Schaefer2018v0143x100ParcelsLabels_dseg.nii.gz\n",
      "\n",
      "ERROR: NAME OF FILE: tpl-MNI152NLin6Asym_atlas-SubcorticalMerged_res-02_desc-Schaefer2018v0143x100Parcels_dseg.nii.gz\n",
      "\n",
      "File does not exist.\n",
      "\n"
     ]
    },
    {
     "name": "stdout",
     "output_type": "stream",
     "text": [
      "    Converting NIFTI label file to CIFTI\n"
     ]
    },
    {
     "name": "stderr",
     "output_type": "stream",
     "text": [
      "\n",
      "While running:\n",
      "/Applications/workbench/bin_macosx64/../macosx64_apps/wb_command.app/Contents/MacOS/wb_command -cifti-create-label ../tpl-fsLR_atlas-4S156Parcels_den-91k_dseg.dlabel.nii -volume tpl-MNI152NLin6Asym_atlas-SubcorticalMerged_res-02_desc-Schaefer2018v0143x100ParcelsLabels_dseg.nii.gz Atlas_ROIs.2.nii.gz -left-label tpl-fsLR_atlas-Schaefer2018v0143_den-32k_hemi-L_desc-100ParcelsAllNetworks_dseg.label.gii -roi-left tpl-fsLR_hemi-L_den-32k_desc-nomedialwall_dparc.label.gii -right-label tpl-fsLR_atlas-Schaefer2018v0143_den-32k_hemi-R_desc-100ParcelsAllNetworks_dseg.label.gii -roi-right tpl-fsLR_hemi-R_den-32k_desc-nomedialwall_dparc.label.gii\n",
      "\n",
      "ERROR: NAME OF FILE: tpl-MNI152NLin6Asym_atlas-SubcorticalMerged_res-02_desc-Schaefer2018v0143x100ParcelsLabels_dseg.nii.gz\n",
      "\n",
      "File does not exist.\n",
      "\n"
     ]
    },
    {
     "name": "stdout",
     "output_type": "stream",
     "text": [
      "200\n"
     ]
    },
    {
     "name": "stderr",
     "output_type": "stream",
     "text": [
      "\n",
      "While running:\n",
      "/Applications/workbench/bin_macosx64/../macosx64_apps/wb_command.app/Contents/MacOS/wb_command -cifti-separate tpl-fsLR_atlas-Schaefer2018v0143_den-32k_desc-200ParcelsAllNetworks_dseg.dlabel.nii COLUMN -label CORTEX_LEFT tpl-fsLR_atlas-Schaefer2018v0143_den-32k_hemi-L_desc-200ParcelsAllNetworks_dseg.label.gii -label CORTEX_RIGHT tpl-fsLR_atlas-Schaefer2018v0143_den-32k_hemi-R_desc-200ParcelsAllNetworks_dseg.label.gii\n",
      "\n",
      "ERROR: failed to open file '/Users/mcieslak/projects/AtlasPack/Schaefer/tpl-fsLR_atlas-Schaefer2018v0143_den-32k_desc-200ParcelsAllNetworks_dseg.dlabel.nii', file does not exist, or folder permissions prevent seeing it\n",
      "\n"
     ]
    },
    {
     "name": "stdout",
     "output_type": "stream",
     "text": [
      "    Converting NIFTI atlas to NIFTI label file.\n"
     ]
    },
    {
     "name": "stderr",
     "output_type": "stream",
     "text": [
      "\n",
      "While running:\n",
      "/Applications/workbench/bin_macosx64/../macosx64_apps/wb_command.app/Contents/MacOS/wb_command -volume-label-import tpl-MNI152NLin6Asym_atlas-SubcorticalMerged_res-02_desc-Schaefer2018v0143x200Parcels_dseg.nii.gz tpl-MNI152NLin6Asym_atlas-SubcorticalMerged_res-02_desc-Schaefer2018v0143x200Parcels_labellist.txt tpl-MNI152NLin6Asym_atlas-SubcorticalMerged_res-02_desc-Schaefer2018v0143x200ParcelsLabels_dseg.nii.gz\n",
      "\n",
      "ERROR: NAME OF FILE: tpl-MNI152NLin6Asym_atlas-SubcorticalMerged_res-02_desc-Schaefer2018v0143x200Parcels_dseg.nii.gz\n",
      "\n",
      "File does not exist.\n",
      "\n"
     ]
    },
    {
     "name": "stdout",
     "output_type": "stream",
     "text": [
      "    Converting NIFTI label file to CIFTI\n"
     ]
    },
    {
     "name": "stderr",
     "output_type": "stream",
     "text": [
      "\n",
      "While running:\n",
      "/Applications/workbench/bin_macosx64/../macosx64_apps/wb_command.app/Contents/MacOS/wb_command -cifti-create-label ../tpl-fsLR_atlas-4S256Parcels_den-91k_dseg.dlabel.nii -volume tpl-MNI152NLin6Asym_atlas-SubcorticalMerged_res-02_desc-Schaefer2018v0143x200ParcelsLabels_dseg.nii.gz Atlas_ROIs.2.nii.gz -left-label tpl-fsLR_atlas-Schaefer2018v0143_den-32k_hemi-L_desc-200ParcelsAllNetworks_dseg.label.gii -roi-left tpl-fsLR_hemi-L_den-32k_desc-nomedialwall_dparc.label.gii -right-label tpl-fsLR_atlas-Schaefer2018v0143_den-32k_hemi-R_desc-200ParcelsAllNetworks_dseg.label.gii -roi-right tpl-fsLR_hemi-R_den-32k_desc-nomedialwall_dparc.label.gii\n",
      "\n",
      "ERROR: NAME OF FILE: tpl-MNI152NLin6Asym_atlas-SubcorticalMerged_res-02_desc-Schaefer2018v0143x200ParcelsLabels_dseg.nii.gz\n",
      "\n",
      "File does not exist.\n",
      "\n"
     ]
    },
    {
     "name": "stdout",
     "output_type": "stream",
     "text": [
      "300\n"
     ]
    },
    {
     "name": "stderr",
     "output_type": "stream",
     "text": [
      "\n",
      "While running:\n",
      "/Applications/workbench/bin_macosx64/../macosx64_apps/wb_command.app/Contents/MacOS/wb_command -cifti-separate tpl-fsLR_atlas-Schaefer2018v0143_den-32k_desc-300ParcelsAllNetworks_dseg.dlabel.nii COLUMN -label CORTEX_LEFT tpl-fsLR_atlas-Schaefer2018v0143_den-32k_hemi-L_desc-300ParcelsAllNetworks_dseg.label.gii -label CORTEX_RIGHT tpl-fsLR_atlas-Schaefer2018v0143_den-32k_hemi-R_desc-300ParcelsAllNetworks_dseg.label.gii\n",
      "\n",
      "ERROR: failed to open file '/Users/mcieslak/projects/AtlasPack/Schaefer/tpl-fsLR_atlas-Schaefer2018v0143_den-32k_desc-300ParcelsAllNetworks_dseg.dlabel.nii', file does not exist, or folder permissions prevent seeing it\n",
      "\n"
     ]
    },
    {
     "name": "stdout",
     "output_type": "stream",
     "text": [
      "    Converting NIFTI atlas to NIFTI label file.\n"
     ]
    },
    {
     "name": "stderr",
     "output_type": "stream",
     "text": [
      "\n",
      "While running:\n",
      "/Applications/workbench/bin_macosx64/../macosx64_apps/wb_command.app/Contents/MacOS/wb_command -volume-label-import tpl-MNI152NLin6Asym_atlas-SubcorticalMerged_res-02_desc-Schaefer2018v0143x300Parcels_dseg.nii.gz tpl-MNI152NLin6Asym_atlas-SubcorticalMerged_res-02_desc-Schaefer2018v0143x300Parcels_labellist.txt tpl-MNI152NLin6Asym_atlas-SubcorticalMerged_res-02_desc-Schaefer2018v0143x300ParcelsLabels_dseg.nii.gz\n",
      "\n",
      "ERROR: NAME OF FILE: tpl-MNI152NLin6Asym_atlas-SubcorticalMerged_res-02_desc-Schaefer2018v0143x300Parcels_dseg.nii.gz\n",
      "\n",
      "File does not exist.\n",
      "\n"
     ]
    },
    {
     "name": "stdout",
     "output_type": "stream",
     "text": [
      "    Converting NIFTI label file to CIFTI\n"
     ]
    },
    {
     "name": "stderr",
     "output_type": "stream",
     "text": [
      "\n",
      "While running:\n",
      "/Applications/workbench/bin_macosx64/../macosx64_apps/wb_command.app/Contents/MacOS/wb_command -cifti-create-label ../tpl-fsLR_atlas-4S356Parcels_den-91k_dseg.dlabel.nii -volume tpl-MNI152NLin6Asym_atlas-SubcorticalMerged_res-02_desc-Schaefer2018v0143x300ParcelsLabels_dseg.nii.gz Atlas_ROIs.2.nii.gz -left-label tpl-fsLR_atlas-Schaefer2018v0143_den-32k_hemi-L_desc-300ParcelsAllNetworks_dseg.label.gii -roi-left tpl-fsLR_hemi-L_den-32k_desc-nomedialwall_dparc.label.gii -right-label tpl-fsLR_atlas-Schaefer2018v0143_den-32k_hemi-R_desc-300ParcelsAllNetworks_dseg.label.gii -roi-right tpl-fsLR_hemi-R_den-32k_desc-nomedialwall_dparc.label.gii\n",
      "\n",
      "ERROR: NAME OF FILE: tpl-MNI152NLin6Asym_atlas-SubcorticalMerged_res-02_desc-Schaefer2018v0143x300ParcelsLabels_dseg.nii.gz\n",
      "\n",
      "File does not exist.\n",
      "\n"
     ]
    },
    {
     "name": "stdout",
     "output_type": "stream",
     "text": [
      "400\n"
     ]
    },
    {
     "name": "stderr",
     "output_type": "stream",
     "text": [
      "\n",
      "While running:\n",
      "/Applications/workbench/bin_macosx64/../macosx64_apps/wb_command.app/Contents/MacOS/wb_command -cifti-separate tpl-fsLR_atlas-Schaefer2018v0143_den-32k_desc-400ParcelsAllNetworks_dseg.dlabel.nii COLUMN -label CORTEX_LEFT tpl-fsLR_atlas-Schaefer2018v0143_den-32k_hemi-L_desc-400ParcelsAllNetworks_dseg.label.gii -label CORTEX_RIGHT tpl-fsLR_atlas-Schaefer2018v0143_den-32k_hemi-R_desc-400ParcelsAllNetworks_dseg.label.gii\n",
      "\n",
      "ERROR: failed to open file '/Users/mcieslak/projects/AtlasPack/Schaefer/tpl-fsLR_atlas-Schaefer2018v0143_den-32k_desc-400ParcelsAllNetworks_dseg.dlabel.nii', file does not exist, or folder permissions prevent seeing it\n",
      "\n"
     ]
    },
    {
     "name": "stdout",
     "output_type": "stream",
     "text": [
      "    Converting NIFTI atlas to NIFTI label file.\n"
     ]
    },
    {
     "name": "stderr",
     "output_type": "stream",
     "text": [
      "\n",
      "While running:\n",
      "/Applications/workbench/bin_macosx64/../macosx64_apps/wb_command.app/Contents/MacOS/wb_command -volume-label-import tpl-MNI152NLin6Asym_atlas-SubcorticalMerged_res-02_desc-Schaefer2018v0143x400Parcels_dseg.nii.gz tpl-MNI152NLin6Asym_atlas-SubcorticalMerged_res-02_desc-Schaefer2018v0143x400Parcels_labellist.txt tpl-MNI152NLin6Asym_atlas-SubcorticalMerged_res-02_desc-Schaefer2018v0143x400ParcelsLabels_dseg.nii.gz\n",
      "\n",
      "ERROR: NAME OF FILE: tpl-MNI152NLin6Asym_atlas-SubcorticalMerged_res-02_desc-Schaefer2018v0143x400Parcels_dseg.nii.gz\n",
      "\n",
      "File does not exist.\n",
      "\n"
     ]
    },
    {
     "name": "stdout",
     "output_type": "stream",
     "text": [
      "    Converting NIFTI label file to CIFTI\n"
     ]
    },
    {
     "name": "stderr",
     "output_type": "stream",
     "text": [
      "\n",
      "While running:\n",
      "/Applications/workbench/bin_macosx64/../macosx64_apps/wb_command.app/Contents/MacOS/wb_command -cifti-create-label ../tpl-fsLR_atlas-4S456Parcels_den-91k_dseg.dlabel.nii -volume tpl-MNI152NLin6Asym_atlas-SubcorticalMerged_res-02_desc-Schaefer2018v0143x400ParcelsLabels_dseg.nii.gz Atlas_ROIs.2.nii.gz -left-label tpl-fsLR_atlas-Schaefer2018v0143_den-32k_hemi-L_desc-400ParcelsAllNetworks_dseg.label.gii -roi-left tpl-fsLR_hemi-L_den-32k_desc-nomedialwall_dparc.label.gii -right-label tpl-fsLR_atlas-Schaefer2018v0143_den-32k_hemi-R_desc-400ParcelsAllNetworks_dseg.label.gii -roi-right tpl-fsLR_hemi-R_den-32k_desc-nomedialwall_dparc.label.gii\n",
      "\n",
      "ERROR: NAME OF FILE: tpl-MNI152NLin6Asym_atlas-SubcorticalMerged_res-02_desc-Schaefer2018v0143x400ParcelsLabels_dseg.nii.gz\n",
      "\n",
      "File does not exist.\n",
      "\n"
     ]
    },
    {
     "name": "stdout",
     "output_type": "stream",
     "text": [
      "500\n"
     ]
    },
    {
     "name": "stderr",
     "output_type": "stream",
     "text": [
      "\n",
      "While running:\n",
      "/Applications/workbench/bin_macosx64/../macosx64_apps/wb_command.app/Contents/MacOS/wb_command -cifti-separate tpl-fsLR_atlas-Schaefer2018v0143_den-32k_desc-500ParcelsAllNetworks_dseg.dlabel.nii COLUMN -label CORTEX_LEFT tpl-fsLR_atlas-Schaefer2018v0143_den-32k_hemi-L_desc-500ParcelsAllNetworks_dseg.label.gii -label CORTEX_RIGHT tpl-fsLR_atlas-Schaefer2018v0143_den-32k_hemi-R_desc-500ParcelsAllNetworks_dseg.label.gii\n",
      "\n",
      "ERROR: failed to open file '/Users/mcieslak/projects/AtlasPack/Schaefer/tpl-fsLR_atlas-Schaefer2018v0143_den-32k_desc-500ParcelsAllNetworks_dseg.dlabel.nii', file does not exist, or folder permissions prevent seeing it\n",
      "\n"
     ]
    },
    {
     "name": "stdout",
     "output_type": "stream",
     "text": [
      "    Converting NIFTI atlas to NIFTI label file.\n"
     ]
    },
    {
     "name": "stderr",
     "output_type": "stream",
     "text": [
      "\n",
      "While running:\n",
      "/Applications/workbench/bin_macosx64/../macosx64_apps/wb_command.app/Contents/MacOS/wb_command -volume-label-import tpl-MNI152NLin6Asym_atlas-SubcorticalMerged_res-02_desc-Schaefer2018v0143x500Parcels_dseg.nii.gz tpl-MNI152NLin6Asym_atlas-SubcorticalMerged_res-02_desc-Schaefer2018v0143x500Parcels_labellist.txt tpl-MNI152NLin6Asym_atlas-SubcorticalMerged_res-02_desc-Schaefer2018v0143x500ParcelsLabels_dseg.nii.gz\n",
      "\n",
      "ERROR: NAME OF FILE: tpl-MNI152NLin6Asym_atlas-SubcorticalMerged_res-02_desc-Schaefer2018v0143x500Parcels_dseg.nii.gz\n",
      "\n",
      "File does not exist.\n",
      "\n"
     ]
    },
    {
     "name": "stdout",
     "output_type": "stream",
     "text": [
      "    Converting NIFTI label file to CIFTI\n"
     ]
    },
    {
     "name": "stderr",
     "output_type": "stream",
     "text": [
      "\n",
      "While running:\n",
      "/Applications/workbench/bin_macosx64/../macosx64_apps/wb_command.app/Contents/MacOS/wb_command -cifti-create-label ../tpl-fsLR_atlas-4S556Parcels_den-91k_dseg.dlabel.nii -volume tpl-MNI152NLin6Asym_atlas-SubcorticalMerged_res-02_desc-Schaefer2018v0143x500ParcelsLabels_dseg.nii.gz Atlas_ROIs.2.nii.gz -left-label tpl-fsLR_atlas-Schaefer2018v0143_den-32k_hemi-L_desc-500ParcelsAllNetworks_dseg.label.gii -roi-left tpl-fsLR_hemi-L_den-32k_desc-nomedialwall_dparc.label.gii -right-label tpl-fsLR_atlas-Schaefer2018v0143_den-32k_hemi-R_desc-500ParcelsAllNetworks_dseg.label.gii -roi-right tpl-fsLR_hemi-R_den-32k_desc-nomedialwall_dparc.label.gii\n",
      "\n",
      "ERROR: NAME OF FILE: tpl-MNI152NLin6Asym_atlas-SubcorticalMerged_res-02_desc-Schaefer2018v0143x500ParcelsLabels_dseg.nii.gz\n",
      "\n",
      "File does not exist.\n",
      "\n"
     ]
    },
    {
     "name": "stdout",
     "output_type": "stream",
     "text": [
      "600\n"
     ]
    },
    {
     "name": "stderr",
     "output_type": "stream",
     "text": [
      "\n",
      "While running:\n",
      "/Applications/workbench/bin_macosx64/../macosx64_apps/wb_command.app/Contents/MacOS/wb_command -cifti-separate tpl-fsLR_atlas-Schaefer2018v0143_den-32k_desc-600ParcelsAllNetworks_dseg.dlabel.nii COLUMN -label CORTEX_LEFT tpl-fsLR_atlas-Schaefer2018v0143_den-32k_hemi-L_desc-600ParcelsAllNetworks_dseg.label.gii -label CORTEX_RIGHT tpl-fsLR_atlas-Schaefer2018v0143_den-32k_hemi-R_desc-600ParcelsAllNetworks_dseg.label.gii\n",
      "\n",
      "ERROR: failed to open file '/Users/mcieslak/projects/AtlasPack/Schaefer/tpl-fsLR_atlas-Schaefer2018v0143_den-32k_desc-600ParcelsAllNetworks_dseg.dlabel.nii', file does not exist, or folder permissions prevent seeing it\n",
      "\n"
     ]
    },
    {
     "name": "stdout",
     "output_type": "stream",
     "text": [
      "    Converting NIFTI atlas to NIFTI label file.\n"
     ]
    },
    {
     "name": "stderr",
     "output_type": "stream",
     "text": [
      "\n",
      "While running:\n",
      "/Applications/workbench/bin_macosx64/../macosx64_apps/wb_command.app/Contents/MacOS/wb_command -volume-label-import tpl-MNI152NLin6Asym_atlas-SubcorticalMerged_res-02_desc-Schaefer2018v0143x600Parcels_dseg.nii.gz tpl-MNI152NLin6Asym_atlas-SubcorticalMerged_res-02_desc-Schaefer2018v0143x600Parcels_labellist.txt tpl-MNI152NLin6Asym_atlas-SubcorticalMerged_res-02_desc-Schaefer2018v0143x600ParcelsLabels_dseg.nii.gz\n",
      "\n",
      "ERROR: NAME OF FILE: tpl-MNI152NLin6Asym_atlas-SubcorticalMerged_res-02_desc-Schaefer2018v0143x600Parcels_dseg.nii.gz\n",
      "\n",
      "File does not exist.\n",
      "\n"
     ]
    },
    {
     "name": "stdout",
     "output_type": "stream",
     "text": [
      "    Converting NIFTI label file to CIFTI\n"
     ]
    },
    {
     "name": "stderr",
     "output_type": "stream",
     "text": [
      "\n",
      "While running:\n",
      "/Applications/workbench/bin_macosx64/../macosx64_apps/wb_command.app/Contents/MacOS/wb_command -cifti-create-label ../tpl-fsLR_atlas-4S656Parcels_den-91k_dseg.dlabel.nii -volume tpl-MNI152NLin6Asym_atlas-SubcorticalMerged_res-02_desc-Schaefer2018v0143x600ParcelsLabels_dseg.nii.gz Atlas_ROIs.2.nii.gz -left-label tpl-fsLR_atlas-Schaefer2018v0143_den-32k_hemi-L_desc-600ParcelsAllNetworks_dseg.label.gii -roi-left tpl-fsLR_hemi-L_den-32k_desc-nomedialwall_dparc.label.gii -right-label tpl-fsLR_atlas-Schaefer2018v0143_den-32k_hemi-R_desc-600ParcelsAllNetworks_dseg.label.gii -roi-right tpl-fsLR_hemi-R_den-32k_desc-nomedialwall_dparc.label.gii\n",
      "\n",
      "ERROR: NAME OF FILE: tpl-MNI152NLin6Asym_atlas-SubcorticalMerged_res-02_desc-Schaefer2018v0143x600ParcelsLabels_dseg.nii.gz\n",
      "\n",
      "File does not exist.\n",
      "\n"
     ]
    },
    {
     "name": "stdout",
     "output_type": "stream",
     "text": [
      "700\n"
     ]
    },
    {
     "name": "stderr",
     "output_type": "stream",
     "text": [
      "\n",
      "While running:\n",
      "/Applications/workbench/bin_macosx64/../macosx64_apps/wb_command.app/Contents/MacOS/wb_command -cifti-separate tpl-fsLR_atlas-Schaefer2018v0143_den-32k_desc-700ParcelsAllNetworks_dseg.dlabel.nii COLUMN -label CORTEX_LEFT tpl-fsLR_atlas-Schaefer2018v0143_den-32k_hemi-L_desc-700ParcelsAllNetworks_dseg.label.gii -label CORTEX_RIGHT tpl-fsLR_atlas-Schaefer2018v0143_den-32k_hemi-R_desc-700ParcelsAllNetworks_dseg.label.gii\n",
      "\n",
      "ERROR: failed to open file '/Users/mcieslak/projects/AtlasPack/Schaefer/tpl-fsLR_atlas-Schaefer2018v0143_den-32k_desc-700ParcelsAllNetworks_dseg.dlabel.nii', file does not exist, or folder permissions prevent seeing it\n",
      "\n"
     ]
    },
    {
     "name": "stdout",
     "output_type": "stream",
     "text": [
      "    Converting NIFTI atlas to NIFTI label file.\n"
     ]
    },
    {
     "name": "stderr",
     "output_type": "stream",
     "text": [
      "\n",
      "While running:\n",
      "/Applications/workbench/bin_macosx64/../macosx64_apps/wb_command.app/Contents/MacOS/wb_command -volume-label-import tpl-MNI152NLin6Asym_atlas-SubcorticalMerged_res-02_desc-Schaefer2018v0143x700Parcels_dseg.nii.gz tpl-MNI152NLin6Asym_atlas-SubcorticalMerged_res-02_desc-Schaefer2018v0143x700Parcels_labellist.txt tpl-MNI152NLin6Asym_atlas-SubcorticalMerged_res-02_desc-Schaefer2018v0143x700ParcelsLabels_dseg.nii.gz\n",
      "\n",
      "ERROR: NAME OF FILE: tpl-MNI152NLin6Asym_atlas-SubcorticalMerged_res-02_desc-Schaefer2018v0143x700Parcels_dseg.nii.gz\n",
      "\n",
      "File does not exist.\n",
      "\n"
     ]
    },
    {
     "name": "stdout",
     "output_type": "stream",
     "text": [
      "    Converting NIFTI label file to CIFTI\n"
     ]
    },
    {
     "name": "stderr",
     "output_type": "stream",
     "text": [
      "\n",
      "While running:\n",
      "/Applications/workbench/bin_macosx64/../macosx64_apps/wb_command.app/Contents/MacOS/wb_command -cifti-create-label ../tpl-fsLR_atlas-4S756Parcels_den-91k_dseg.dlabel.nii -volume tpl-MNI152NLin6Asym_atlas-SubcorticalMerged_res-02_desc-Schaefer2018v0143x700ParcelsLabels_dseg.nii.gz Atlas_ROIs.2.nii.gz -left-label tpl-fsLR_atlas-Schaefer2018v0143_den-32k_hemi-L_desc-700ParcelsAllNetworks_dseg.label.gii -roi-left tpl-fsLR_hemi-L_den-32k_desc-nomedialwall_dparc.label.gii -right-label tpl-fsLR_atlas-Schaefer2018v0143_den-32k_hemi-R_desc-700ParcelsAllNetworks_dseg.label.gii -roi-right tpl-fsLR_hemi-R_den-32k_desc-nomedialwall_dparc.label.gii\n",
      "\n",
      "ERROR: NAME OF FILE: tpl-MNI152NLin6Asym_atlas-SubcorticalMerged_res-02_desc-Schaefer2018v0143x700ParcelsLabels_dseg.nii.gz\n",
      "\n",
      "File does not exist.\n",
      "\n"
     ]
    },
    {
     "name": "stdout",
     "output_type": "stream",
     "text": [
      "800\n"
     ]
    },
    {
     "name": "stderr",
     "output_type": "stream",
     "text": [
      "\n",
      "While running:\n",
      "/Applications/workbench/bin_macosx64/../macosx64_apps/wb_command.app/Contents/MacOS/wb_command -cifti-separate tpl-fsLR_atlas-Schaefer2018v0143_den-32k_desc-800ParcelsAllNetworks_dseg.dlabel.nii COLUMN -label CORTEX_LEFT tpl-fsLR_atlas-Schaefer2018v0143_den-32k_hemi-L_desc-800ParcelsAllNetworks_dseg.label.gii -label CORTEX_RIGHT tpl-fsLR_atlas-Schaefer2018v0143_den-32k_hemi-R_desc-800ParcelsAllNetworks_dseg.label.gii\n",
      "\n",
      "ERROR: failed to open file '/Users/mcieslak/projects/AtlasPack/Schaefer/tpl-fsLR_atlas-Schaefer2018v0143_den-32k_desc-800ParcelsAllNetworks_dseg.dlabel.nii', file does not exist, or folder permissions prevent seeing it\n",
      "\n"
     ]
    },
    {
     "name": "stdout",
     "output_type": "stream",
     "text": [
      "    Converting NIFTI atlas to NIFTI label file.\n"
     ]
    },
    {
     "name": "stderr",
     "output_type": "stream",
     "text": [
      "\n",
      "While running:\n",
      "/Applications/workbench/bin_macosx64/../macosx64_apps/wb_command.app/Contents/MacOS/wb_command -volume-label-import tpl-MNI152NLin6Asym_atlas-SubcorticalMerged_res-02_desc-Schaefer2018v0143x800Parcels_dseg.nii.gz tpl-MNI152NLin6Asym_atlas-SubcorticalMerged_res-02_desc-Schaefer2018v0143x800Parcels_labellist.txt tpl-MNI152NLin6Asym_atlas-SubcorticalMerged_res-02_desc-Schaefer2018v0143x800ParcelsLabels_dseg.nii.gz\n",
      "\n",
      "ERROR: NAME OF FILE: tpl-MNI152NLin6Asym_atlas-SubcorticalMerged_res-02_desc-Schaefer2018v0143x800Parcels_dseg.nii.gz\n",
      "\n",
      "File does not exist.\n",
      "\n"
     ]
    },
    {
     "name": "stdout",
     "output_type": "stream",
     "text": [
      "    Converting NIFTI label file to CIFTI\n"
     ]
    },
    {
     "name": "stderr",
     "output_type": "stream",
     "text": [
      "\n",
      "While running:\n",
      "/Applications/workbench/bin_macosx64/../macosx64_apps/wb_command.app/Contents/MacOS/wb_command -cifti-create-label ../tpl-fsLR_atlas-4S856Parcels_den-91k_dseg.dlabel.nii -volume tpl-MNI152NLin6Asym_atlas-SubcorticalMerged_res-02_desc-Schaefer2018v0143x800ParcelsLabels_dseg.nii.gz Atlas_ROIs.2.nii.gz -left-label tpl-fsLR_atlas-Schaefer2018v0143_den-32k_hemi-L_desc-800ParcelsAllNetworks_dseg.label.gii -roi-left tpl-fsLR_hemi-L_den-32k_desc-nomedialwall_dparc.label.gii -right-label tpl-fsLR_atlas-Schaefer2018v0143_den-32k_hemi-R_desc-800ParcelsAllNetworks_dseg.label.gii -roi-right tpl-fsLR_hemi-R_den-32k_desc-nomedialwall_dparc.label.gii\n",
      "\n",
      "ERROR: NAME OF FILE: tpl-MNI152NLin6Asym_atlas-SubcorticalMerged_res-02_desc-Schaefer2018v0143x800ParcelsLabels_dseg.nii.gz\n",
      "\n",
      "File does not exist.\n",
      "\n"
     ]
    },
    {
     "name": "stdout",
     "output_type": "stream",
     "text": [
      "900\n"
     ]
    },
    {
     "name": "stderr",
     "output_type": "stream",
     "text": [
      "\n",
      "While running:\n",
      "/Applications/workbench/bin_macosx64/../macosx64_apps/wb_command.app/Contents/MacOS/wb_command -cifti-separate tpl-fsLR_atlas-Schaefer2018v0143_den-32k_desc-900ParcelsAllNetworks_dseg.dlabel.nii COLUMN -label CORTEX_LEFT tpl-fsLR_atlas-Schaefer2018v0143_den-32k_hemi-L_desc-900ParcelsAllNetworks_dseg.label.gii -label CORTEX_RIGHT tpl-fsLR_atlas-Schaefer2018v0143_den-32k_hemi-R_desc-900ParcelsAllNetworks_dseg.label.gii\n",
      "\n",
      "ERROR: failed to open file '/Users/mcieslak/projects/AtlasPack/Schaefer/tpl-fsLR_atlas-Schaefer2018v0143_den-32k_desc-900ParcelsAllNetworks_dseg.dlabel.nii', file does not exist, or folder permissions prevent seeing it\n",
      "\n"
     ]
    },
    {
     "name": "stdout",
     "output_type": "stream",
     "text": [
      "    Converting NIFTI atlas to NIFTI label file.\n"
     ]
    },
    {
     "name": "stderr",
     "output_type": "stream",
     "text": [
      "\n",
      "While running:\n",
      "/Applications/workbench/bin_macosx64/../macosx64_apps/wb_command.app/Contents/MacOS/wb_command -volume-label-import tpl-MNI152NLin6Asym_atlas-SubcorticalMerged_res-02_desc-Schaefer2018v0143x900Parcels_dseg.nii.gz tpl-MNI152NLin6Asym_atlas-SubcorticalMerged_res-02_desc-Schaefer2018v0143x900Parcels_labellist.txt tpl-MNI152NLin6Asym_atlas-SubcorticalMerged_res-02_desc-Schaefer2018v0143x900ParcelsLabels_dseg.nii.gz\n",
      "\n",
      "ERROR: NAME OF FILE: tpl-MNI152NLin6Asym_atlas-SubcorticalMerged_res-02_desc-Schaefer2018v0143x900Parcels_dseg.nii.gz\n",
      "\n",
      "File does not exist.\n",
      "\n"
     ]
    },
    {
     "name": "stdout",
     "output_type": "stream",
     "text": [
      "    Converting NIFTI label file to CIFTI\n"
     ]
    },
    {
     "name": "stderr",
     "output_type": "stream",
     "text": [
      "\n",
      "While running:\n",
      "/Applications/workbench/bin_macosx64/../macosx64_apps/wb_command.app/Contents/MacOS/wb_command -cifti-create-label ../tpl-fsLR_atlas-4S956Parcels_den-91k_dseg.dlabel.nii -volume tpl-MNI152NLin6Asym_atlas-SubcorticalMerged_res-02_desc-Schaefer2018v0143x900ParcelsLabels_dseg.nii.gz Atlas_ROIs.2.nii.gz -left-label tpl-fsLR_atlas-Schaefer2018v0143_den-32k_hemi-L_desc-900ParcelsAllNetworks_dseg.label.gii -roi-left tpl-fsLR_hemi-L_den-32k_desc-nomedialwall_dparc.label.gii -right-label tpl-fsLR_atlas-Schaefer2018v0143_den-32k_hemi-R_desc-900ParcelsAllNetworks_dseg.label.gii -roi-right tpl-fsLR_hemi-R_den-32k_desc-nomedialwall_dparc.label.gii\n",
      "\n",
      "ERROR: NAME OF FILE: tpl-MNI152NLin6Asym_atlas-SubcorticalMerged_res-02_desc-Schaefer2018v0143x900ParcelsLabels_dseg.nii.gz\n",
      "\n",
      "File does not exist.\n",
      "\n"
     ]
    },
    {
     "name": "stdout",
     "output_type": "stream",
     "text": [
      "1000\n"
     ]
    },
    {
     "name": "stderr",
     "output_type": "stream",
     "text": [
      "\n",
      "While running:\n",
      "/Applications/workbench/bin_macosx64/../macosx64_apps/wb_command.app/Contents/MacOS/wb_command -cifti-separate tpl-fsLR_atlas-Schaefer2018v0143_den-32k_desc-1000ParcelsAllNetworks_dseg.dlabel.nii COLUMN -label CORTEX_LEFT tpl-fsLR_atlas-Schaefer2018v0143_den-32k_hemi-L_desc-1000ParcelsAllNetworks_dseg.label.gii -label CORTEX_RIGHT tpl-fsLR_atlas-Schaefer2018v0143_den-32k_hemi-R_desc-1000ParcelsAllNetworks_dseg.label.gii\n",
      "\n",
      "ERROR: failed to open file '/Users/mcieslak/projects/AtlasPack/Schaefer/tpl-fsLR_atlas-Schaefer2018v0143_den-32k_desc-1000ParcelsAllNetworks_dseg.dlabel.nii', file does not exist, or folder permissions prevent seeing it\n",
      "\n"
     ]
    },
    {
     "name": "stdout",
     "output_type": "stream",
     "text": [
      "    Converting NIFTI atlas to NIFTI label file.\n"
     ]
    },
    {
     "name": "stderr",
     "output_type": "stream",
     "text": [
      "\n",
      "While running:\n",
      "/Applications/workbench/bin_macosx64/../macosx64_apps/wb_command.app/Contents/MacOS/wb_command -volume-label-import tpl-MNI152NLin6Asym_atlas-SubcorticalMerged_res-02_desc-Schaefer2018v0143x1000Parcels_dseg.nii.gz tpl-MNI152NLin6Asym_atlas-SubcorticalMerged_res-02_desc-Schaefer2018v0143x1000Parcels_labellist.txt tpl-MNI152NLin6Asym_atlas-SubcorticalMerged_res-02_desc-Schaefer2018v0143x1000ParcelsLabels_dseg.nii.gz\n",
      "\n",
      "ERROR: NAME OF FILE: tpl-MNI152NLin6Asym_atlas-SubcorticalMerged_res-02_desc-Schaefer2018v0143x1000Parcels_dseg.nii.gz\n",
      "\n",
      "File does not exist.\n",
      "\n"
     ]
    },
    {
     "name": "stdout",
     "output_type": "stream",
     "text": [
      "    Converting NIFTI label file to CIFTI\n"
     ]
    },
    {
     "name": "stderr",
     "output_type": "stream",
     "text": [
      "\n",
      "While running:\n",
      "/Applications/workbench/bin_macosx64/../macosx64_apps/wb_command.app/Contents/MacOS/wb_command -cifti-create-label ../tpl-fsLR_atlas-4S1056Parcels_den-91k_dseg.dlabel.nii -volume tpl-MNI152NLin6Asym_atlas-SubcorticalMerged_res-02_desc-Schaefer2018v0143x1000ParcelsLabels_dseg.nii.gz Atlas_ROIs.2.nii.gz -left-label tpl-fsLR_atlas-Schaefer2018v0143_den-32k_hemi-L_desc-1000ParcelsAllNetworks_dseg.label.gii -roi-left tpl-fsLR_hemi-L_den-32k_desc-nomedialwall_dparc.label.gii -right-label tpl-fsLR_atlas-Schaefer2018v0143_den-32k_hemi-R_desc-1000ParcelsAllNetworks_dseg.label.gii -roi-right tpl-fsLR_hemi-R_den-32k_desc-nomedialwall_dparc.label.gii\n",
      "\n",
      "ERROR: NAME OF FILE: tpl-MNI152NLin6Asym_atlas-SubcorticalMerged_res-02_desc-Schaefer2018v0143x1000ParcelsLabels_dseg.nii.gz\n",
      "\n",
      "File does not exist.\n",
      "\n"
     ]
    }
   ],
   "source": [
    "%%bash\n",
    "\n",
    "cd Schaefer/\n",
    "python 01_prepare_cifti_atlas.py\n",
    "bash 02_generate_subcortical_cifti.sh\n",
    "cd .."
   ]
  },
  {
   "cell_type": "markdown",
   "id": "20d2900b",
   "metadata": {},
   "source": [
    "# Generate metadata files"
   ]
  },
  {
   "cell_type": "code",
   "execution_count": 17,
   "id": "44e5a09a",
   "metadata": {},
   "outputs": [
    {
     "name": "stderr",
     "output_type": "stream",
     "text": [
      "  0%|          | 0/10 [00:00<?, ?it/s]\n",
      "Traceback (most recent call last):\n",
      "  File \"generate_metadata.py\", line 353, in <module>\n",
      "    combine_metadata(n_parcels)\n",
      "  File \"generate_metadata.py\", line 298, in combine_metadata\n",
      "    with open(merged_nifti_metadata_file, \"w\") as fo:\n",
      "FileNotFoundError: [Errno 2] No such file or directory: '../4S/tpl-MNI152NLin6Asym_atlas-4S152Parcels_dseg.json'\n"
     ]
    }
   ],
   "source": [
    "%%bash\n",
    "\n",
    "cd metadata/\n",
    "python generate_metadata.py\n",
    "cd .."
   ]
  }
 ],
 "metadata": {
  "kernelspec": {
   "display_name": "Python 3 (ipykernel)",
   "language": "python",
   "name": "python3"
  },
  "language_info": {
   "codemirror_mode": {
    "name": "ipython",
    "version": 3
   },
   "file_extension": ".py",
   "mimetype": "text/x-python",
   "name": "python",
   "nbconvert_exporter": "python",
   "pygments_lexer": "ipython3",
   "version": "3.8.12"
  },
  "vscode": {
   "interpreter": {
    "hash": "3d597f4c481aa0f25dceb95d2a0067e73c0966dcbd003d741d821a7208527ecf"
   }
  }
 },
 "nbformat": 4,
 "nbformat_minor": 5
}
