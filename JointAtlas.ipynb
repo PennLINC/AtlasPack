{
 "cells": [
  {
   "cell_type": "markdown",
   "id": "5b95a0e5",
   "metadata": {},
   "source": [
    "# Create combined subcortical atlas\n",
    "\n",
    "It can be hard to know exactly where atlases came from and how they were processed after being downloaded.\n",
    "This notebook downloads and merges some popular/very nice subcortical atlases for connectivity analysis."
   ]
  },
  {
   "cell_type": "code",
   "execution_count": 1,
   "id": "f348fb8a",
   "metadata": {},
   "outputs": [
    {
     "name": "stderr",
     "output_type": "stream",
     "text": [
      "+ for atlasname in CIT168 cerebellum schaefer_map thalamic_atlas\n",
      "+ cd CIT168\n",
      "+ bash -ex prepare_atlas.sh\n",
      "+ wget https://osf.io/download/6qrcb\n",
      "--2023-02-02 16:19:50--  https://osf.io/download/6qrcb\n",
      "Resolving osf.io (osf.io)... 35.190.84.173\n",
      "Connecting to osf.io (osf.io)|35.190.84.173|:443... connected.\n",
      "HTTP request sent, awaiting response... 308 PERMANENT REDIRECT\n",
      "Location: https://osf.io/download/6qrcb/ [following]\n",
      "--2023-02-02 16:19:50--  https://osf.io/download/6qrcb/\n",
      "Reusing existing connection to osf.io:443.\n",
      "HTTP request sent, awaiting response... 302 FOUND\n",
      "Location: https://files.osf.io/v1/resources/jkzwp/providers/osfstorage/5b11f996f1f288000f627962 [following]\n",
      "--2023-02-02 16:19:50--  https://files.osf.io/v1/resources/jkzwp/providers/osfstorage/5b11f996f1f288000f627962\n",
      "Resolving files.osf.io (files.osf.io)... 35.186.214.196\n",
      "Connecting to files.osf.io (files.osf.io)|35.186.214.196|:443... connected.\n",
      "HTTP request sent, awaiting response... 302 Found\n",
      "Location: https://storage.googleapis.com/cos-osf-prod-files-us/5e00265a7bbbdf242356345e0f6615d84791ada54aa9739539096aab3c1e1b41?response-content-disposition=attachment%3B%20filename%3D%22labels.txt%22%3B%20filename%2A%3DUTF-8%27%27labels.txt&GoogleAccessId=files-us%40cos-osf-prod.iam.gserviceaccount.com&Expires=1675372851&Signature=GwC%2Fkx5xMX%2FZhqQPcRtbM%2FkhodxmXuipYLUeHLJoTEMsdc19dHmyo5QaITj5Ko%2FYHNdkUBe9oyqxNtAb9lXxWRf70tOwZ89g3BhnexVXq%2FlTsWCTrKFMQmj8WMchF9RK0ILJ1ghdSGgHmv9aVK7C%2Bc7BOTCWDGbeggvhXryp54Qb3oAfhVUFyNYsA0cf6qShz55VCx58pyC0iGIG8Xdoot8edzSmRARr%2FkwFq%2BaF3J%2BrhjCjrdL%2B6uCFVO7%2B87gRq%2FbrcCNjKMkg1ROfz%2BSXgO4VCErW4Ce2GZd6oQGY6bBV068jUdoKv9U9szwFnbeMmA7%2BWO2jQ1R63tbktr0qeQ%3D%3D [following]\n",
      "--2023-02-02 16:19:51--  https://storage.googleapis.com/cos-osf-prod-files-us/5e00265a7bbbdf242356345e0f6615d84791ada54aa9739539096aab3c1e1b41?response-content-disposition=attachment%3B%20filename%3D%22labels.txt%22%3B%20filename%2A%3DUTF-8%27%27labels.txt&GoogleAccessId=files-us%40cos-osf-prod.iam.gserviceaccount.com&Expires=1675372851&Signature=GwC%2Fkx5xMX%2FZhqQPcRtbM%2FkhodxmXuipYLUeHLJoTEMsdc19dHmyo5QaITj5Ko%2FYHNdkUBe9oyqxNtAb9lXxWRf70tOwZ89g3BhnexVXq%2FlTsWCTrKFMQmj8WMchF9RK0ILJ1ghdSGgHmv9aVK7C%2Bc7BOTCWDGbeggvhXryp54Qb3oAfhVUFyNYsA0cf6qShz55VCx58pyC0iGIG8Xdoot8edzSmRARr%2FkwFq%2BaF3J%2BrhjCjrdL%2B6uCFVO7%2B87gRq%2FbrcCNjKMkg1ROfz%2BSXgO4VCErW4Ce2GZd6oQGY6bBV068jUdoKv9U9szwFnbeMmA7%2BWO2jQ1R63tbktr0qeQ%3D%3D\n",
      "Resolving storage.googleapis.com (storage.googleapis.com)... 142.251.111.128, 142.251.163.128, 142.251.167.128, ...\n",
      "Connecting to storage.googleapis.com (storage.googleapis.com)|142.251.111.128|:443... connected.\n",
      "HTTP request sent, awaiting response... 200 OK\n",
      "Length: 123 [application/octet-stream]\n",
      "Saving to: ‘6qrcb’\n",
      "\n",
      "     0K                                                       100% 58.7M=0s\n",
      "\n",
      "2023-02-02 16:19:51 (58.7 MB/s) - ‘6qrcb’ saved [123/123]\n",
      "\n",
      "+ mv 6qrcb labels.txt\n",
      "+ wget https://osf.io/download/2qswg\n",
      "--2023-02-02 16:19:51--  https://osf.io/download/2qswg\n",
      "Resolving osf.io (osf.io)... 35.190.84.173\n",
      "Connecting to osf.io (osf.io)|35.190.84.173|:443... connected.\n",
      "HTTP request sent, awaiting response... 308 PERMANENT REDIRECT\n",
      "Location: https://osf.io/download/2qswg/ [following]\n",
      "--2023-02-02 16:19:51--  https://osf.io/download/2qswg/\n",
      "Reusing existing connection to osf.io:443.\n",
      "HTTP request sent, awaiting response... 302 FOUND\n",
      "Location: https://files.osf.io/v1/resources/jkzwp/providers/osfstorage/5b11fa0164f25a000e7557f7 [following]\n",
      "--2023-02-02 16:19:51--  https://files.osf.io/v1/resources/jkzwp/providers/osfstorage/5b11fa0164f25a000e7557f7\n",
      "Resolving files.osf.io (files.osf.io)... 35.186.214.196\n",
      "Connecting to files.osf.io (files.osf.io)|35.186.214.196|:443... connected.\n",
      "HTTP request sent, awaiting response... 302 Found\n",
      "Location: https://storage.googleapis.com/cos-osf-prod-files-us/8b43e911c6849c9a57c9153499a324d2e3894531bb31446b6905b4c357693ae0?response-content-disposition=attachment%3B%20filename%3D%22CIT168toMNI152-FSL_det.nii.gz%22%3B%20filename%2A%3DUTF-8%27%27CIT168toMNI152-FSL_det.nii.gz&GoogleAccessId=files-us%40cos-osf-prod.iam.gserviceaccount.com&Expires=1675372852&Signature=CT0EHHDgLOdztPvvijp2UbFLYNaMg9RiIwB6wP8rG90ILx%2Fx0K1Zo6EQOq3ph8HfXQdI43qHEuS7ePqeD0r1Qe7qiqtMCDMYs%2F28KptDXExJ%2BgaoONzY43AJllthdS4f5vQLoouKIyJbP%2FnM%2BrrdAKxWN8W2FqgYshwEWjx8FA3d3SbN4daMh%2F2oUhvjItOOvLj%2FTOc4eXiKxNgXJLqY6G6ssuCdHbJZRXv1jvfvff5yn3sumA3fNrUx651ymJd5VVd170DnZOIF2hvC7MKjFnd5T8eyuYBirb%2FvikozXvi9lIUauczHhgpxUFJNyM%2FM4%2BKJbk9p%2BU%2BOiXSTh7UpVw%3D%3D [following]\n",
      "--2023-02-02 16:19:52--  https://storage.googleapis.com/cos-osf-prod-files-us/8b43e911c6849c9a57c9153499a324d2e3894531bb31446b6905b4c357693ae0?response-content-disposition=attachment%3B%20filename%3D%22CIT168toMNI152-FSL_det.nii.gz%22%3B%20filename%2A%3DUTF-8%27%27CIT168toMNI152-FSL_det.nii.gz&GoogleAccessId=files-us%40cos-osf-prod.iam.gserviceaccount.com&Expires=1675372852&Signature=CT0EHHDgLOdztPvvijp2UbFLYNaMg9RiIwB6wP8rG90ILx%2Fx0K1Zo6EQOq3ph8HfXQdI43qHEuS7ePqeD0r1Qe7qiqtMCDMYs%2F28KptDXExJ%2BgaoONzY43AJllthdS4f5vQLoouKIyJbP%2FnM%2BrrdAKxWN8W2FqgYshwEWjx8FA3d3SbN4daMh%2F2oUhvjItOOvLj%2FTOc4eXiKxNgXJLqY6G6ssuCdHbJZRXv1jvfvff5yn3sumA3fNrUx651ymJd5VVd170DnZOIF2hvC7MKjFnd5T8eyuYBirb%2FvikozXvi9lIUauczHhgpxUFJNyM%2FM4%2BKJbk9p%2BU%2BOiXSTh7UpVw%3D%3D\n",
      "Resolving storage.googleapis.com (storage.googleapis.com)... 172.253.63.128, 142.251.163.128, 142.251.167.128, ...\n",
      "Connecting to storage.googleapis.com (storage.googleapis.com)|172.253.63.128|:443... connected.\n",
      "HTTP request sent, awaiting response... 200 OK\n",
      "Length: 44739 (44K) [application/octet-stream]\n",
      "Saving to: ‘2qswg’\n",
      "\n",
      "     0K .......... .......... .......... .......... ...       100% 2.15M=0.02s\n",
      "\n",
      "2023-02-02 16:19:52 (2.15 MB/s) - ‘2qswg’ saved [44739/44739]\n",
      "\n",
      "+ mv 2qswg tpl-MNI152NLin6Asym_atlas-CIT168_res-01_desc-LAS_dseg.nii.gz\n",
      "+ 3dresample -orient LPI -inset tpl-MNI152NLin6Asym_atlas-CIT168_res-01_desc-LAS_dseg.nii.gz -prefix tpl-MNI152NLin6Asym_atlas-CIT168_res-01_desc-RAS_dseg.nii.gz\n",
      "+ wget https://osf.io/download/vak6p\n",
      "--2023-02-02 16:19:52--  https://osf.io/download/vak6p\n",
      "Resolving osf.io (osf.io)... 35.190.84.173\n",
      "Connecting to osf.io (osf.io)|35.190.84.173|:443... connected.\n",
      "HTTP request sent, awaiting response... 308 PERMANENT REDIRECT\n",
      "Location: https://osf.io/download/vak6p/ [following]\n",
      "--2023-02-02 16:19:52--  https://osf.io/download/vak6p/\n",
      "Reusing existing connection to osf.io:443.\n",
      "HTTP request sent, awaiting response... 302 FOUND\n",
      "Location: https://files.osf.io/v1/resources/jkzwp/providers/osfstorage/5b11fa2ff1f288000e625a7f [following]\n",
      "--2023-02-02 16:19:52--  https://files.osf.io/v1/resources/jkzwp/providers/osfstorage/5b11fa2ff1f288000e625a7f\n",
      "Resolving files.osf.io (files.osf.io)... 35.186.214.196\n",
      "Connecting to files.osf.io (files.osf.io)|35.186.214.196|:443... connected.\n",
      "HTTP request sent, awaiting response... 302 Found\n",
      "Location: https://storage.googleapis.com/cos-osf-prod-files-us/0072d6ea3c05d1e798743e7d1f732fbc9c50ee6969bc5e68c6bdba3472d26242?response-content-disposition=attachment%3B%20filename%3D%22CIT168toMNI152-2009c_det.nii.gz%22%3B%20filename%2A%3DUTF-8%27%27CIT168toMNI152-2009c_det.nii.gz&GoogleAccessId=files-us%40cos-osf-prod.iam.gserviceaccount.com&Expires=1675372854&Signature=EvGd8iEq5AAEkguzxrN2sQ0dLMOwyw%2FVyvewxQcA6H8hop1uQ2QOwkrq6%2BOsW2vEy16aH9LoHVmE1HZo1II7ohJhLpaREQddfijO3zT2qVNY9%2B%2FxawFyn5lP9FJ9B8IgiGaIORUF2ffUAvzobuueeYoaqZGDsiezokwhwnK2JMJF0rQMShYnTb%2BmjU8maNcAaQ0mb0qdMZW3qIJ6UQnoHYyvkkV94MT0F2FmN08wqD3A3nCWVY5ek6m28Lj4I9mLzrsU%2FfMxNHh01VY4VzbbZTZ%2Fvbszk8brlwPjrx6QdDvX9%2BuspIvscSypMPMoCSBif88vqGYOOD6Uk6qKwVtUZA%3D%3D [following]\n",
      "--2023-02-02 16:19:54--  https://storage.googleapis.com/cos-osf-prod-files-us/0072d6ea3c05d1e798743e7d1f732fbc9c50ee6969bc5e68c6bdba3472d26242?response-content-disposition=attachment%3B%20filename%3D%22CIT168toMNI152-2009c_det.nii.gz%22%3B%20filename%2A%3DUTF-8%27%27CIT168toMNI152-2009c_det.nii.gz&GoogleAccessId=files-us%40cos-osf-prod.iam.gserviceaccount.com&Expires=1675372854&Signature=EvGd8iEq5AAEkguzxrN2sQ0dLMOwyw%2FVyvewxQcA6H8hop1uQ2QOwkrq6%2BOsW2vEy16aH9LoHVmE1HZo1II7ohJhLpaREQddfijO3zT2qVNY9%2B%2FxawFyn5lP9FJ9B8IgiGaIORUF2ffUAvzobuueeYoaqZGDsiezokwhwnK2JMJF0rQMShYnTb%2BmjU8maNcAaQ0mb0qdMZW3qIJ6UQnoHYyvkkV94MT0F2FmN08wqD3A3nCWVY5ek6m28Lj4I9mLzrsU%2FfMxNHh01VY4VzbbZTZ%2Fvbszk8brlwPjrx6QdDvX9%2BuspIvscSypMPMoCSBif88vqGYOOD6Uk6qKwVtUZA%3D%3D\n"
     ]
    },
    {
     "name": "stderr",
     "output_type": "stream",
     "text": [
      "Resolving storage.googleapis.com (storage.googleapis.com)... 172.253.122.128, 142.251.163.128, 142.251.167.128, ...\n",
      "Connecting to storage.googleapis.com (storage.googleapis.com)|172.253.122.128|:443... connected.\n",
      "HTTP request sent, awaiting response... 200 OK\n",
      "Length: 51026 (50K) [application/octet-stream]\n",
      "Saving to: ‘vak6p’\n",
      "\n",
      "     0K .......... .......... .......... .......... ......... 100% 1.99M=0.02s\n",
      "\n",
      "2023-02-02 16:19:54 (1.99 MB/s) - ‘vak6p’ saved [51026/51026]\n",
      "\n",
      "+ mv vak6p tpl-MNI152NLin2009cAsym_atlas-CIT168_res-01_desc-RAS_dseg.nii.gz\n",
      "+ python split_up_cit168.py tpl-MNI152NLin6Asym_atlas-CIT168_res-01_desc-RAS_dseg.nii.gz tpl-MNI152NLin6Asym_atlas-CIT168_res-01_desc-LRSplit_dseg\n",
      "+ python split_up_cit168.py tpl-MNI152NLin2009cAsym_atlas-CIT168_res-01_desc-RAS_dseg.nii.gz tpl-MNI152NLin2009cAsym_atlas-CIT168_res-01_desc-LRSplit_dseg\n",
      "+ cp tpl-MNI152NLin2009cAsym_atlas-CIT168_res-01_desc-LRSplit_dseg.tsv atl-CIT168.tsv\n",
      "+ cd ..\n",
      "+ for atlasname in CIT168 cerebellum schaefer_map thalamic_atlas\n",
      "+ cd cerebellum\n",
      "+ bash -ex prepare_atlas.sh\n",
      "+ wget https://github.com/DiedrichsenLab/cerebellar_atlases/raw/master/King_2019/atlas_description.json\n",
      "--2023-02-02 16:19:58--  https://github.com/DiedrichsenLab/cerebellar_atlases/raw/master/King_2019/atlas_description.json\n",
      "Resolving github.com (github.com)... 140.82.112.4\n",
      "Connecting to github.com (github.com)|140.82.112.4|:443... connected.\n",
      "HTTP request sent, awaiting response... 302 Found\n",
      "Location: https://raw.githubusercontent.com/DiedrichsenLab/cerebellar_atlases/master/King_2019/atlas_description.json [following]\n",
      "--2023-02-02 16:19:58--  https://raw.githubusercontent.com/DiedrichsenLab/cerebellar_atlases/master/King_2019/atlas_description.json\n",
      "Resolving raw.githubusercontent.com (raw.githubusercontent.com)... 185.199.108.133, 185.199.111.133, 185.199.109.133, ...\n",
      "Connecting to raw.githubusercontent.com (raw.githubusercontent.com)|185.199.108.133|:443... connected.\n",
      "HTTP request sent, awaiting response... 200 OK\n",
      "Length: 6678 (6.5K) [text/plain]\n",
      "Saving to: ‘atlas_description.json’\n",
      "\n",
      "     0K ......                                                100% 20.6M=0s\n",
      "\n",
      "2023-02-02 16:19:59 (20.6 MB/s) - ‘atlas_description.json’ saved [6678/6678]\n",
      "\n",
      "+ wget https://github.com/DiedrichsenLab/cerebellar_atlases/raw/master/King_2019/atl-MDTB10.tsv\n",
      "--2023-02-02 16:19:59--  https://github.com/DiedrichsenLab/cerebellar_atlases/raw/master/King_2019/atl-MDTB10.tsv\n",
      "Resolving github.com (github.com)... 140.82.112.4\n",
      "Connecting to github.com (github.com)|140.82.112.4|:443... connected.\n",
      "HTTP request sent, awaiting response... 302 Found\n",
      "Location: https://raw.githubusercontent.com/DiedrichsenLab/cerebellar_atlases/master/King_2019/atl-MDTB10.tsv [following]\n",
      "--2023-02-02 16:19:59--  https://raw.githubusercontent.com/DiedrichsenLab/cerebellar_atlases/master/King_2019/atl-MDTB10.tsv\n",
      "Resolving raw.githubusercontent.com (raw.githubusercontent.com)... 185.199.108.133, 185.199.111.133, 185.199.109.133, ...\n",
      "Connecting to raw.githubusercontent.com (raw.githubusercontent.com)|185.199.108.133|:443... connected.\n",
      "HTTP request sent, awaiting response... 200 OK\n",
      "Length: 199 [text/plain]\n",
      "Saving to: ‘atl-MDTB10.tsv’\n",
      "\n",
      "     0K                                                       100% 2.23M=0s\n",
      "\n",
      "2023-02-02 16:19:59 (2.23 MB/s) - ‘atl-MDTB10.tsv’ saved [199/199]\n",
      "\n",
      "+ wget https://github.com/DiedrichsenLab/cerebellar_atlases/raw/master/King_2019/atl-MDTB10_space-MNI_dseg.nii\n",
      "--2023-02-02 16:19:59--  https://github.com/DiedrichsenLab/cerebellar_atlases/raw/master/King_2019/atl-MDTB10_space-MNI_dseg.nii\n",
      "Resolving github.com (github.com)... 140.82.112.4\n",
      "Connecting to github.com (github.com)|140.82.112.4|:443... connected.\n",
      "HTTP request sent, awaiting response... 302 Found\n",
      "Location: https://raw.githubusercontent.com/DiedrichsenLab/cerebellar_atlases/master/King_2019/atl-MDTB10_space-MNI_dseg.nii [following]\n",
      "--2023-02-02 16:20:00--  https://raw.githubusercontent.com/DiedrichsenLab/cerebellar_atlases/master/King_2019/atl-MDTB10_space-MNI_dseg.nii\n",
      "Resolving raw.githubusercontent.com (raw.githubusercontent.com)... 185.199.108.133, 185.199.111.133, 185.199.109.133, ...\n",
      "Connecting to raw.githubusercontent.com (raw.githubusercontent.com)|185.199.108.133|:443... connected.\n",
      "HTTP request sent, awaiting response... 200 OK\n",
      "Length: 1165717 (1.1M) [application/octet-stream]\n",
      "Saving to: ‘atl-MDTB10_space-MNI_dseg.nii’\n",
      "\n",
      "     0K .......... .......... .......... .......... ..........  4%  812K 1s\n",
      "    50K .......... .......... .......... .......... ..........  8% 9.30M 1s\n",
      "   100K .......... .......... .......... .......... .......... 13% 3.28M 1s\n",
      "   150K .......... .......... .......... .......... .......... 17% 28.8M 0s\n",
      "   200K .......... .......... .......... .......... .......... 21% 6.09M 0s\n",
      "   250K .......... .......... .......... .......... .......... 26% 21.1M 0s\n",
      "   300K .......... .......... .......... .......... .......... 30% 18.1M 0s\n",
      "   350K .......... .......... .......... .......... .......... 35% 20.3M 0s\n",
      "   400K .......... .......... .......... .......... .......... 39% 11.8M 0s\n",
      "   450K .......... .......... .......... .......... .......... 43% 84.3M 0s\n",
      "   500K .......... .......... .......... .......... .......... 48% 7.55M 0s\n",
      "   550K .......... .......... .......... .......... .......... 52%  144M 0s\n",
      "   600K .......... .......... .......... .......... .......... 57% 39.9M 0s\n",
      "   650K .......... .......... .......... .......... .......... 61%  160M 0s\n",
      "   700K .......... .......... .......... .......... .......... 65% 14.9M 0s\n",
      "   750K .......... .......... .......... .......... .......... 70% 66.6M 0s\n",
      "   800K .......... .......... .......... .......... .......... 74% 4.38M 0s\n",
      "   850K .......... .......... .......... .......... .......... 79%  178M 0s\n",
      "   900K .......... .......... .......... .......... .......... 83% 31.4M 0s\n",
      "   950K .......... .......... .......... .......... .......... 87%  123M 0s\n",
      "  1000K .......... .......... .......... .......... .......... 92% 5.79M 0s\n",
      "  1050K .......... .......... .......... .......... .......... 96% 26.5M 0s\n",
      "  1100K .......... .......... .......... ........             100% 15.8M=0.1s\n",
      "\n",
      "2023-02-02 16:20:00 (7.83 MB/s) - ‘atl-MDTB10_space-MNI_dseg.nii’ saved [1165717/1165717]\n",
      "\n",
      "+ antsApplyTransforms -d 3 -i atl-MDTB10_space-MNI_dseg.nii -o tpl-MNI152NLin6Asym_atlas-MDTB10_res-01_dseg.nii.gz -r /Users/mcieslak/projects/templateflow/tpl-MNI152NLin6Asym/tpl-MNI152NLin6Asym_res-01_desc-brain_mask.nii.gz --interpolation GenericLabel -v 1\n"
     ]
    },
    {
     "name": "stdout",
     "output_type": "stream",
     "text": [
      "Using double precision for computations.\n",
      "Input scalar image: atl-MDTB10_space-MNI_dseg.nii\n",
      "Reference image: /Users/mcieslak/projects/templateflow/tpl-MNI152NLin6Asym/tpl-MNI152NLin6Asym_res-01_desc-brain_mask.nii.gz\n",
      "=============================================================================\n",
      "The composite transform comprises the following transforms (in order): \n",
      "=============================================================================\n",
      "WARNING: No transforms found, using identify transform\n",
      "Default pixel value: 0\n",
      "Interpolation type: LabelImageGenericInterpolateImageFunction\n",
      "Output warped image: tpl-MNI152NLin6Asym_atlas-MDTB10_res-01_dseg.nii.gz\n"
     ]
    },
    {
     "name": "stderr",
     "output_type": "stream",
     "text": [
      "+ antsApplyTransforms -d 3 -i atl-MDTB10_space-MNI_dseg.nii -o tpl-MNI152NLin2009cAsym_atlas-MDTB10_res-01_dseg.nii.gz -t /Users/mcieslak/projects/templateflow/tpl-MNI152NLin2009cAsym/tpl-MNI152NLin2009cAsym_from-MNI152NLin6Asym_mode-image_xfm.h5 -r /Users/mcieslak/projects/templateflow/tpl-MNI152NLin2009cAsym/tpl-MNI152NLin2009cAsym_res-01_desc-brain_mask.nii.gz --interpolation GenericLabel -v 1\n"
     ]
    },
    {
     "name": "stdout",
     "output_type": "stream",
     "text": [
      "Using double precision for computations.\n",
      "Input scalar image: atl-MDTB10_space-MNI_dseg.nii\n",
      "Reference image: /Users/mcieslak/projects/templateflow/tpl-MNI152NLin2009cAsym/tpl-MNI152NLin2009cAsym_res-01_desc-brain_mask.nii.gz\n",
      "=============================================================================\n",
      "The composite transform comprises the following transforms (in order): \n",
      "  1. /Users/mcieslak/projects/templateflow/tpl-MNI152NLin2009cAsym/tpl-MNI152NLin2009cAsym_from-MNI152NLin6Asym_mode-image_xfm.h5[0] (type = AffineTransform)\n",
      "  2. /Users/mcieslak/projects/templateflow/tpl-MNI152NLin2009cAsym/tpl-MNI152NLin2009cAsym_from-MNI152NLin6Asym_mode-image_xfm.h5[1] (type = DisplacementFieldTransform)\n",
      "=============================================================================\n",
      "Default pixel value: 0\n",
      "Interpolation type: LabelImageGenericInterpolateImageFunction\n",
      "Output warped image: tpl-MNI152NLin2009cAsym_atlas-MDTB10_res-01_dseg.nii.gz\n"
     ]
    },
    {
     "name": "stderr",
     "output_type": "stream",
     "text": [
      "+ cd ..\n",
      "+ for atlasname in CIT168 cerebellum schaefer_map thalamic_atlas\n",
      "+ cd schaefer_map\n",
      "+ bash -ex prepare_atlas.sh\n",
      "+ python schaefer_ordering_mapper.py\n",
      "100%|██████████| 8/8 [00:11<00:00,  1.44s/it]\n",
      "+ for order in 100 200 300 400 500 600 800 1000\n",
      "+ original=Schaefer2018_100Parcels_7Networks_order_FSLMNI152_1mm.nii.gz\n",
      "+ antsApplyTransforms -d 3 -i Schaefer2018_100Parcels_7Networks_order_FSLMNI152_1mm.nii.gz -o tpl-MNI152NLin6Asym_res-01_atlas-Schaefer2018v0143_desc-100ParcelsAllNetworks_dseg.nii.gz -r /Users/mcieslak/projects/templateflow/tpl-MNI152NLin6Asym/tpl-MNI152NLin6Asym_res-01_desc-brain_mask.nii.gz --interpolation GenericLabel -v 1\n"
     ]
    },
    {
     "name": "stdout",
     "output_type": "stream",
     "text": [
      "Using double precision for computations.\n",
      "Input scalar image: Schaefer2018_100Parcels_7Networks_order_FSLMNI152_1mm.nii.gz\n",
      "Reference image: /Users/mcieslak/projects/templateflow/tpl-MNI152NLin6Asym/tpl-MNI152NLin6Asym_res-01_desc-brain_mask.nii.gz\n",
      "=============================================================================\n",
      "The composite transform comprises the following transforms (in order): \n",
      "=============================================================================\n",
      "WARNING: No transforms found, using identify transform\n",
      "Default pixel value: 0\n",
      "Interpolation type: LabelImageGenericInterpolateImageFunction\n",
      "Output warped image: tpl-MNI152NLin6Asym_res-01_atlas-Schaefer2018v0143_desc-100ParcelsAllNetworks_dseg.nii.gz\n"
     ]
    },
    {
     "name": "stderr",
     "output_type": "stream",
     "text": [
      "+ antsApplyTransforms -d 3 -i Schaefer2018_100Parcels_7Networks_order_FSLMNI152_1mm.nii.gz -o tpl-MNI152NLin2009cAsym_res-01_atlas-Schaefer2018v0143_desc-100ParcelsAllNetworks_dseg.nii.gz -t /Users/mcieslak/projects/templateflow/tpl-MNI152NLin2009cAsym/tpl-MNI152NLin2009cAsym_from-MNI152NLin6Asym_mode-image_xfm.h5 -r /Users/mcieslak/projects/templateflow/tpl-MNI152NLin2009cAsym/tpl-MNI152NLin2009cAsym_res-01_desc-brain_mask.nii.gz --interpolation GenericLabel -v 1\n"
     ]
    },
    {
     "name": "stdout",
     "output_type": "stream",
     "text": [
      "Using double precision for computations.\n",
      "Input scalar image: Schaefer2018_100Parcels_7Networks_order_FSLMNI152_1mm.nii.gz\n",
      "Reference image: /Users/mcieslak/projects/templateflow/tpl-MNI152NLin2009cAsym/tpl-MNI152NLin2009cAsym_res-01_desc-brain_mask.nii.gz\n",
      "=============================================================================\n",
      "The composite transform comprises the following transforms (in order): \n",
      "  1. /Users/mcieslak/projects/templateflow/tpl-MNI152NLin2009cAsym/tpl-MNI152NLin2009cAsym_from-MNI152NLin6Asym_mode-image_xfm.h5[0] (type = AffineTransform)\n",
      "  2. /Users/mcieslak/projects/templateflow/tpl-MNI152NLin2009cAsym/tpl-MNI152NLin2009cAsym_from-MNI152NLin6Asym_mode-image_xfm.h5[1] (type = DisplacementFieldTransform)\n",
      "=============================================================================\n",
      "Default pixel value: 0\n",
      "Interpolation type: LabelImageGenericInterpolateImageFunction\n",
      "Output warped image: tpl-MNI152NLin2009cAsym_res-01_atlas-Schaefer2018v0143_desc-100ParcelsAllNetworks_dseg.nii.gz\n"
     ]
    },
    {
     "name": "stderr",
     "output_type": "stream",
     "text": [
      "+ for order in 100 200 300 400 500 600 800 1000\n",
      "+ original=Schaefer2018_200Parcels_7Networks_order_FSLMNI152_1mm.nii.gz\n",
      "+ antsApplyTransforms -d 3 -i Schaefer2018_200Parcels_7Networks_order_FSLMNI152_1mm.nii.gz -o tpl-MNI152NLin6Asym_res-01_atlas-Schaefer2018v0143_desc-200ParcelsAllNetworks_dseg.nii.gz -r /Users/mcieslak/projects/templateflow/tpl-MNI152NLin6Asym/tpl-MNI152NLin6Asym_res-01_desc-brain_mask.nii.gz --interpolation GenericLabel -v 1\n"
     ]
    },
    {
     "name": "stdout",
     "output_type": "stream",
     "text": [
      "Using double precision for computations.\n",
      "Input scalar image: Schaefer2018_200Parcels_7Networks_order_FSLMNI152_1mm.nii.gz\n",
      "Reference image: /Users/mcieslak/projects/templateflow/tpl-MNI152NLin6Asym/tpl-MNI152NLin6Asym_res-01_desc-brain_mask.nii.gz\n",
      "=============================================================================\n",
      "The composite transform comprises the following transforms (in order): \n",
      "=============================================================================\n",
      "WARNING: No transforms found, using identify transform\n",
      "Default pixel value: 0\n",
      "Interpolation type: LabelImageGenericInterpolateImageFunction\n",
      "Output warped image: tpl-MNI152NLin6Asym_res-01_atlas-Schaefer2018v0143_desc-200ParcelsAllNetworks_dseg.nii.gz\n"
     ]
    },
    {
     "name": "stderr",
     "output_type": "stream",
     "text": [
      "+ antsApplyTransforms -d 3 -i Schaefer2018_200Parcels_7Networks_order_FSLMNI152_1mm.nii.gz -o tpl-MNI152NLin2009cAsym_res-01_atlas-Schaefer2018v0143_desc-200ParcelsAllNetworks_dseg.nii.gz -t /Users/mcieslak/projects/templateflow/tpl-MNI152NLin2009cAsym/tpl-MNI152NLin2009cAsym_from-MNI152NLin6Asym_mode-image_xfm.h5 -r /Users/mcieslak/projects/templateflow/tpl-MNI152NLin2009cAsym/tpl-MNI152NLin2009cAsym_res-01_desc-brain_mask.nii.gz --interpolation GenericLabel -v 1\n"
     ]
    },
    {
     "name": "stdout",
     "output_type": "stream",
     "text": [
      "Using double precision for computations.\n",
      "Input scalar image: Schaefer2018_200Parcels_7Networks_order_FSLMNI152_1mm.nii.gz\n",
      "Reference image: /Users/mcieslak/projects/templateflow/tpl-MNI152NLin2009cAsym/tpl-MNI152NLin2009cAsym_res-01_desc-brain_mask.nii.gz\n",
      "=============================================================================\n",
      "The composite transform comprises the following transforms (in order): \n",
      "  1. /Users/mcieslak/projects/templateflow/tpl-MNI152NLin2009cAsym/tpl-MNI152NLin2009cAsym_from-MNI152NLin6Asym_mode-image_xfm.h5[0] (type = AffineTransform)\n",
      "  2. /Users/mcieslak/projects/templateflow/tpl-MNI152NLin2009cAsym/tpl-MNI152NLin2009cAsym_from-MNI152NLin6Asym_mode-image_xfm.h5[1] (type = DisplacementFieldTransform)\n",
      "=============================================================================\n",
      "Default pixel value: 0\n",
      "Interpolation type: LabelImageGenericInterpolateImageFunction\n",
      "Output warped image: tpl-MNI152NLin2009cAsym_res-01_atlas-Schaefer2018v0143_desc-200ParcelsAllNetworks_dseg.nii.gz\n"
     ]
    },
    {
     "name": "stderr",
     "output_type": "stream",
     "text": [
      "+ for order in 100 200 300 400 500 600 800 1000\n",
      "+ original=Schaefer2018_300Parcels_7Networks_order_FSLMNI152_1mm.nii.gz\n",
      "+ antsApplyTransforms -d 3 -i Schaefer2018_300Parcels_7Networks_order_FSLMNI152_1mm.nii.gz -o tpl-MNI152NLin6Asym_res-01_atlas-Schaefer2018v0143_desc-300ParcelsAllNetworks_dseg.nii.gz -r /Users/mcieslak/projects/templateflow/tpl-MNI152NLin6Asym/tpl-MNI152NLin6Asym_res-01_desc-brain_mask.nii.gz --interpolation GenericLabel -v 1\n"
     ]
    },
    {
     "name": "stdout",
     "output_type": "stream",
     "text": [
      "Using double precision for computations.\n",
      "Input scalar image: Schaefer2018_300Parcels_7Networks_order_FSLMNI152_1mm.nii.gz\n",
      "Reference image: /Users/mcieslak/projects/templateflow/tpl-MNI152NLin6Asym/tpl-MNI152NLin6Asym_res-01_desc-brain_mask.nii.gz\n",
      "=============================================================================\n",
      "The composite transform comprises the following transforms (in order): \n",
      "=============================================================================\n",
      "WARNING: No transforms found, using identify transform\n",
      "Default pixel value: 0\n",
      "Interpolation type: LabelImageGenericInterpolateImageFunction\n",
      "Output warped image: tpl-MNI152NLin6Asym_res-01_atlas-Schaefer2018v0143_desc-300ParcelsAllNetworks_dseg.nii.gz\n"
     ]
    },
    {
     "name": "stderr",
     "output_type": "stream",
     "text": [
      "+ antsApplyTransforms -d 3 -i Schaefer2018_300Parcels_7Networks_order_FSLMNI152_1mm.nii.gz -o tpl-MNI152NLin2009cAsym_res-01_atlas-Schaefer2018v0143_desc-300ParcelsAllNetworks_dseg.nii.gz -t /Users/mcieslak/projects/templateflow/tpl-MNI152NLin2009cAsym/tpl-MNI152NLin2009cAsym_from-MNI152NLin6Asym_mode-image_xfm.h5 -r /Users/mcieslak/projects/templateflow/tpl-MNI152NLin2009cAsym/tpl-MNI152NLin2009cAsym_res-01_desc-brain_mask.nii.gz --interpolation GenericLabel -v 1\n"
     ]
    },
    {
     "name": "stdout",
     "output_type": "stream",
     "text": [
      "Using double precision for computations.\n",
      "Input scalar image: Schaefer2018_300Parcels_7Networks_order_FSLMNI152_1mm.nii.gz\n",
      "Reference image: /Users/mcieslak/projects/templateflow/tpl-MNI152NLin2009cAsym/tpl-MNI152NLin2009cAsym_res-01_desc-brain_mask.nii.gz\n",
      "=============================================================================\n",
      "The composite transform comprises the following transforms (in order): \n",
      "  1. /Users/mcieslak/projects/templateflow/tpl-MNI152NLin2009cAsym/tpl-MNI152NLin2009cAsym_from-MNI152NLin6Asym_mode-image_xfm.h5[0] (type = AffineTransform)\n",
      "  2. /Users/mcieslak/projects/templateflow/tpl-MNI152NLin2009cAsym/tpl-MNI152NLin2009cAsym_from-MNI152NLin6Asym_mode-image_xfm.h5[1] (type = DisplacementFieldTransform)\n",
      "=============================================================================\n",
      "Default pixel value: 0\n",
      "Interpolation type: LabelImageGenericInterpolateImageFunction\n",
      "Output warped image: tpl-MNI152NLin2009cAsym_res-01_atlas-Schaefer2018v0143_desc-300ParcelsAllNetworks_dseg.nii.gz\n"
     ]
    },
    {
     "name": "stderr",
     "output_type": "stream",
     "text": [
      "+ for order in 100 200 300 400 500 600 800 1000\n",
      "+ original=Schaefer2018_400Parcels_7Networks_order_FSLMNI152_1mm.nii.gz\n",
      "+ antsApplyTransforms -d 3 -i Schaefer2018_400Parcels_7Networks_order_FSLMNI152_1mm.nii.gz -o tpl-MNI152NLin6Asym_res-01_atlas-Schaefer2018v0143_desc-400ParcelsAllNetworks_dseg.nii.gz -r /Users/mcieslak/projects/templateflow/tpl-MNI152NLin6Asym/tpl-MNI152NLin6Asym_res-01_desc-brain_mask.nii.gz --interpolation GenericLabel -v 1\n"
     ]
    },
    {
     "name": "stdout",
     "output_type": "stream",
     "text": [
      "Using double precision for computations.\n",
      "Input scalar image: Schaefer2018_400Parcels_7Networks_order_FSLMNI152_1mm.nii.gz\n",
      "Reference image: /Users/mcieslak/projects/templateflow/tpl-MNI152NLin6Asym/tpl-MNI152NLin6Asym_res-01_desc-brain_mask.nii.gz\n",
      "=============================================================================\n",
      "The composite transform comprises the following transforms (in order): \n",
      "=============================================================================\n",
      "WARNING: No transforms found, using identify transform\n",
      "Default pixel value: 0\n",
      "Interpolation type: LabelImageGenericInterpolateImageFunction\n",
      "Output warped image: tpl-MNI152NLin6Asym_res-01_atlas-Schaefer2018v0143_desc-400ParcelsAllNetworks_dseg.nii.gz\n"
     ]
    },
    {
     "name": "stderr",
     "output_type": "stream",
     "text": [
      "+ antsApplyTransforms -d 3 -i Schaefer2018_400Parcels_7Networks_order_FSLMNI152_1mm.nii.gz -o tpl-MNI152NLin2009cAsym_res-01_atlas-Schaefer2018v0143_desc-400ParcelsAllNetworks_dseg.nii.gz -t /Users/mcieslak/projects/templateflow/tpl-MNI152NLin2009cAsym/tpl-MNI152NLin2009cAsym_from-MNI152NLin6Asym_mode-image_xfm.h5 -r /Users/mcieslak/projects/templateflow/tpl-MNI152NLin2009cAsym/tpl-MNI152NLin2009cAsym_res-01_desc-brain_mask.nii.gz --interpolation GenericLabel -v 1\n"
     ]
    },
    {
     "name": "stdout",
     "output_type": "stream",
     "text": [
      "Using double precision for computations.\n",
      "Input scalar image: Schaefer2018_400Parcels_7Networks_order_FSLMNI152_1mm.nii.gz\n",
      "Reference image: /Users/mcieslak/projects/templateflow/tpl-MNI152NLin2009cAsym/tpl-MNI152NLin2009cAsym_res-01_desc-brain_mask.nii.gz\n",
      "=============================================================================\n",
      "The composite transform comprises the following transforms (in order): \n",
      "  1. /Users/mcieslak/projects/templateflow/tpl-MNI152NLin2009cAsym/tpl-MNI152NLin2009cAsym_from-MNI152NLin6Asym_mode-image_xfm.h5[0] (type = AffineTransform)\n",
      "  2. /Users/mcieslak/projects/templateflow/tpl-MNI152NLin2009cAsym/tpl-MNI152NLin2009cAsym_from-MNI152NLin6Asym_mode-image_xfm.h5[1] (type = DisplacementFieldTransform)\n",
      "=============================================================================\n",
      "Default pixel value: 0\n",
      "Interpolation type: LabelImageGenericInterpolateImageFunction\n",
      "Output warped image: tpl-MNI152NLin2009cAsym_res-01_atlas-Schaefer2018v0143_desc-400ParcelsAllNetworks_dseg.nii.gz\n"
     ]
    },
    {
     "name": "stderr",
     "output_type": "stream",
     "text": [
      "+ for order in 100 200 300 400 500 600 800 1000\n",
      "+ original=Schaefer2018_500Parcels_7Networks_order_FSLMNI152_1mm.nii.gz\n",
      "+ antsApplyTransforms -d 3 -i Schaefer2018_500Parcels_7Networks_order_FSLMNI152_1mm.nii.gz -o tpl-MNI152NLin6Asym_res-01_atlas-Schaefer2018v0143_desc-500ParcelsAllNetworks_dseg.nii.gz -r /Users/mcieslak/projects/templateflow/tpl-MNI152NLin6Asym/tpl-MNI152NLin6Asym_res-01_desc-brain_mask.nii.gz --interpolation GenericLabel -v 1\n"
     ]
    },
    {
     "name": "stdout",
     "output_type": "stream",
     "text": [
      "Using double precision for computations.\n",
      "Input scalar image: Schaefer2018_500Parcels_7Networks_order_FSLMNI152_1mm.nii.gz\n",
      "Reference image: /Users/mcieslak/projects/templateflow/tpl-MNI152NLin6Asym/tpl-MNI152NLin6Asym_res-01_desc-brain_mask.nii.gz\n",
      "=============================================================================\n",
      "The composite transform comprises the following transforms (in order): \n",
      "=============================================================================\n",
      "WARNING: No transforms found, using identify transform\n",
      "Default pixel value: 0\n",
      "Interpolation type: LabelImageGenericInterpolateImageFunction\n",
      "Output warped image: tpl-MNI152NLin6Asym_res-01_atlas-Schaefer2018v0143_desc-500ParcelsAllNetworks_dseg.nii.gz\n"
     ]
    },
    {
     "name": "stderr",
     "output_type": "stream",
     "text": [
      "+ antsApplyTransforms -d 3 -i Schaefer2018_500Parcels_7Networks_order_FSLMNI152_1mm.nii.gz -o tpl-MNI152NLin2009cAsym_res-01_atlas-Schaefer2018v0143_desc-500ParcelsAllNetworks_dseg.nii.gz -t /Users/mcieslak/projects/templateflow/tpl-MNI152NLin2009cAsym/tpl-MNI152NLin2009cAsym_from-MNI152NLin6Asym_mode-image_xfm.h5 -r /Users/mcieslak/projects/templateflow/tpl-MNI152NLin2009cAsym/tpl-MNI152NLin2009cAsym_res-01_desc-brain_mask.nii.gz --interpolation GenericLabel -v 1\n"
     ]
    },
    {
     "name": "stdout",
     "output_type": "stream",
     "text": [
      "Using double precision for computations.\n",
      "Input scalar image: Schaefer2018_500Parcels_7Networks_order_FSLMNI152_1mm.nii.gz\n",
      "Reference image: /Users/mcieslak/projects/templateflow/tpl-MNI152NLin2009cAsym/tpl-MNI152NLin2009cAsym_res-01_desc-brain_mask.nii.gz\n",
      "=============================================================================\n",
      "The composite transform comprises the following transforms (in order): \n",
      "  1. /Users/mcieslak/projects/templateflow/tpl-MNI152NLin2009cAsym/tpl-MNI152NLin2009cAsym_from-MNI152NLin6Asym_mode-image_xfm.h5[0] (type = AffineTransform)\n",
      "  2. /Users/mcieslak/projects/templateflow/tpl-MNI152NLin2009cAsym/tpl-MNI152NLin2009cAsym_from-MNI152NLin6Asym_mode-image_xfm.h5[1] (type = DisplacementFieldTransform)\n",
      "=============================================================================\n",
      "Default pixel value: 0\n",
      "Interpolation type: LabelImageGenericInterpolateImageFunction\n",
      "Output warped image: tpl-MNI152NLin2009cAsym_res-01_atlas-Schaefer2018v0143_desc-500ParcelsAllNetworks_dseg.nii.gz\n"
     ]
    },
    {
     "name": "stderr",
     "output_type": "stream",
     "text": [
      "+ for order in 100 200 300 400 500 600 800 1000\n",
      "+ original=Schaefer2018_600Parcels_7Networks_order_FSLMNI152_1mm.nii.gz\n",
      "+ antsApplyTransforms -d 3 -i Schaefer2018_600Parcels_7Networks_order_FSLMNI152_1mm.nii.gz -o tpl-MNI152NLin6Asym_res-01_atlas-Schaefer2018v0143_desc-600ParcelsAllNetworks_dseg.nii.gz -r /Users/mcieslak/projects/templateflow/tpl-MNI152NLin6Asym/tpl-MNI152NLin6Asym_res-01_desc-brain_mask.nii.gz --interpolation GenericLabel -v 1\n"
     ]
    },
    {
     "name": "stdout",
     "output_type": "stream",
     "text": [
      "Using double precision for computations.\n",
      "Input scalar image: Schaefer2018_600Parcels_7Networks_order_FSLMNI152_1mm.nii.gz\n",
      "Reference image: /Users/mcieslak/projects/templateflow/tpl-MNI152NLin6Asym/tpl-MNI152NLin6Asym_res-01_desc-brain_mask.nii.gz\n",
      "=============================================================================\n",
      "The composite transform comprises the following transforms (in order): \n",
      "=============================================================================\n",
      "WARNING: No transforms found, using identify transform\n",
      "Default pixel value: 0\n",
      "Interpolation type: LabelImageGenericInterpolateImageFunction\n",
      "Output warped image: tpl-MNI152NLin6Asym_res-01_atlas-Schaefer2018v0143_desc-600ParcelsAllNetworks_dseg.nii.gz\n"
     ]
    },
    {
     "name": "stderr",
     "output_type": "stream",
     "text": [
      "+ antsApplyTransforms -d 3 -i Schaefer2018_600Parcels_7Networks_order_FSLMNI152_1mm.nii.gz -o tpl-MNI152NLin2009cAsym_res-01_atlas-Schaefer2018v0143_desc-600ParcelsAllNetworks_dseg.nii.gz -t /Users/mcieslak/projects/templateflow/tpl-MNI152NLin2009cAsym/tpl-MNI152NLin2009cAsym_from-MNI152NLin6Asym_mode-image_xfm.h5 -r /Users/mcieslak/projects/templateflow/tpl-MNI152NLin2009cAsym/tpl-MNI152NLin2009cAsym_res-01_desc-brain_mask.nii.gz --interpolation GenericLabel -v 1\n"
     ]
    },
    {
     "name": "stdout",
     "output_type": "stream",
     "text": [
      "Using double precision for computations.\n",
      "Input scalar image: Schaefer2018_600Parcels_7Networks_order_FSLMNI152_1mm.nii.gz\n",
      "Reference image: /Users/mcieslak/projects/templateflow/tpl-MNI152NLin2009cAsym/tpl-MNI152NLin2009cAsym_res-01_desc-brain_mask.nii.gz\n",
      "=============================================================================\n",
      "The composite transform comprises the following transforms (in order): \n",
      "  1. /Users/mcieslak/projects/templateflow/tpl-MNI152NLin2009cAsym/tpl-MNI152NLin2009cAsym_from-MNI152NLin6Asym_mode-image_xfm.h5[0] (type = AffineTransform)\n",
      "  2. /Users/mcieslak/projects/templateflow/tpl-MNI152NLin2009cAsym/tpl-MNI152NLin2009cAsym_from-MNI152NLin6Asym_mode-image_xfm.h5[1] (type = DisplacementFieldTransform)\n",
      "=============================================================================\n",
      "Default pixel value: 0\n",
      "Interpolation type: LabelImageGenericInterpolateImageFunction\n",
      "Output warped image: tpl-MNI152NLin2009cAsym_res-01_atlas-Schaefer2018v0143_desc-600ParcelsAllNetworks_dseg.nii.gz\n"
     ]
    },
    {
     "name": "stderr",
     "output_type": "stream",
     "text": [
      "+ for order in 100 200 300 400 500 600 800 1000\n",
      "+ original=Schaefer2018_800Parcels_7Networks_order_FSLMNI152_1mm.nii.gz\n",
      "+ antsApplyTransforms -d 3 -i Schaefer2018_800Parcels_7Networks_order_FSLMNI152_1mm.nii.gz -o tpl-MNI152NLin6Asym_res-01_atlas-Schaefer2018v0143_desc-800ParcelsAllNetworks_dseg.nii.gz -r /Users/mcieslak/projects/templateflow/tpl-MNI152NLin6Asym/tpl-MNI152NLin6Asym_res-01_desc-brain_mask.nii.gz --interpolation GenericLabel -v 1\n"
     ]
    },
    {
     "name": "stdout",
     "output_type": "stream",
     "text": [
      "Using double precision for computations.\n",
      "Input scalar image: Schaefer2018_800Parcels_7Networks_order_FSLMNI152_1mm.nii.gz\n",
      "Reference image: /Users/mcieslak/projects/templateflow/tpl-MNI152NLin6Asym/tpl-MNI152NLin6Asym_res-01_desc-brain_mask.nii.gz\n",
      "=============================================================================\n",
      "The composite transform comprises the following transforms (in order): \n",
      "=============================================================================\n",
      "WARNING: No transforms found, using identify transform\n",
      "Default pixel value: 0\n",
      "Interpolation type: LabelImageGenericInterpolateImageFunction\n",
      "Output warped image: tpl-MNI152NLin6Asym_res-01_atlas-Schaefer2018v0143_desc-800ParcelsAllNetworks_dseg.nii.gz\n"
     ]
    },
    {
     "name": "stderr",
     "output_type": "stream",
     "text": [
      "+ antsApplyTransforms -d 3 -i Schaefer2018_800Parcels_7Networks_order_FSLMNI152_1mm.nii.gz -o tpl-MNI152NLin2009cAsym_res-01_atlas-Schaefer2018v0143_desc-800ParcelsAllNetworks_dseg.nii.gz -t /Users/mcieslak/projects/templateflow/tpl-MNI152NLin2009cAsym/tpl-MNI152NLin2009cAsym_from-MNI152NLin6Asym_mode-image_xfm.h5 -r /Users/mcieslak/projects/templateflow/tpl-MNI152NLin2009cAsym/tpl-MNI152NLin2009cAsym_res-01_desc-brain_mask.nii.gz --interpolation GenericLabel -v 1\n"
     ]
    },
    {
     "name": "stdout",
     "output_type": "stream",
     "text": [
      "Using double precision for computations.\n",
      "Input scalar image: Schaefer2018_800Parcels_7Networks_order_FSLMNI152_1mm.nii.gz\n",
      "Reference image: /Users/mcieslak/projects/templateflow/tpl-MNI152NLin2009cAsym/tpl-MNI152NLin2009cAsym_res-01_desc-brain_mask.nii.gz\n",
      "=============================================================================\n",
      "The composite transform comprises the following transforms (in order): \n",
      "  1. /Users/mcieslak/projects/templateflow/tpl-MNI152NLin2009cAsym/tpl-MNI152NLin2009cAsym_from-MNI152NLin6Asym_mode-image_xfm.h5[0] (type = AffineTransform)\n",
      "  2. /Users/mcieslak/projects/templateflow/tpl-MNI152NLin2009cAsym/tpl-MNI152NLin2009cAsym_from-MNI152NLin6Asym_mode-image_xfm.h5[1] (type = DisplacementFieldTransform)\n",
      "=============================================================================\n",
      "Default pixel value: 0\n",
      "Interpolation type: LabelImageGenericInterpolateImageFunction\n",
      "Output warped image: tpl-MNI152NLin2009cAsym_res-01_atlas-Schaefer2018v0143_desc-800ParcelsAllNetworks_dseg.nii.gz\n"
     ]
    },
    {
     "name": "stderr",
     "output_type": "stream",
     "text": [
      "+ for order in 100 200 300 400 500 600 800 1000\n",
      "+ original=Schaefer2018_1000Parcels_7Networks_order_FSLMNI152_1mm.nii.gz\n",
      "+ antsApplyTransforms -d 3 -i Schaefer2018_1000Parcels_7Networks_order_FSLMNI152_1mm.nii.gz -o tpl-MNI152NLin6Asym_res-01_atlas-Schaefer2018v0143_desc-1000ParcelsAllNetworks_dseg.nii.gz -r /Users/mcieslak/projects/templateflow/tpl-MNI152NLin6Asym/tpl-MNI152NLin6Asym_res-01_desc-brain_mask.nii.gz --interpolation GenericLabel -v 1\n"
     ]
    },
    {
     "name": "stdout",
     "output_type": "stream",
     "text": [
      "Using double precision for computations.\n",
      "Input scalar image: Schaefer2018_1000Parcels_7Networks_order_FSLMNI152_1mm.nii.gz\n",
      "Reference image: /Users/mcieslak/projects/templateflow/tpl-MNI152NLin6Asym/tpl-MNI152NLin6Asym_res-01_desc-brain_mask.nii.gz\n",
      "=============================================================================\n",
      "The composite transform comprises the following transforms (in order): \n",
      "=============================================================================\n",
      "WARNING: No transforms found, using identify transform\n",
      "Default pixel value: 0\n",
      "Interpolation type: LabelImageGenericInterpolateImageFunction\n",
      "Output warped image: tpl-MNI152NLin6Asym_res-01_atlas-Schaefer2018v0143_desc-1000ParcelsAllNetworks_dseg.nii.gz\n"
     ]
    },
    {
     "name": "stderr",
     "output_type": "stream",
     "text": [
      "+ antsApplyTransforms -d 3 -i Schaefer2018_1000Parcels_7Networks_order_FSLMNI152_1mm.nii.gz -o tpl-MNI152NLin2009cAsym_res-01_atlas-Schaefer2018v0143_desc-1000ParcelsAllNetworks_dseg.nii.gz -t /Users/mcieslak/projects/templateflow/tpl-MNI152NLin2009cAsym/tpl-MNI152NLin2009cAsym_from-MNI152NLin6Asym_mode-image_xfm.h5 -r /Users/mcieslak/projects/templateflow/tpl-MNI152NLin2009cAsym/tpl-MNI152NLin2009cAsym_res-01_desc-brain_mask.nii.gz --interpolation GenericLabel -v 1\n"
     ]
    },
    {
     "name": "stdout",
     "output_type": "stream",
     "text": [
      "Using double precision for computations.\n",
      "Input scalar image: Schaefer2018_1000Parcels_7Networks_order_FSLMNI152_1mm.nii.gz\n",
      "Reference image: /Users/mcieslak/projects/templateflow/tpl-MNI152NLin2009cAsym/tpl-MNI152NLin2009cAsym_res-01_desc-brain_mask.nii.gz\n",
      "=============================================================================\n",
      "The composite transform comprises the following transforms (in order): \n",
      "  1. /Users/mcieslak/projects/templateflow/tpl-MNI152NLin2009cAsym/tpl-MNI152NLin2009cAsym_from-MNI152NLin6Asym_mode-image_xfm.h5[0] (type = AffineTransform)\n",
      "  2. /Users/mcieslak/projects/templateflow/tpl-MNI152NLin2009cAsym/tpl-MNI152NLin2009cAsym_from-MNI152NLin6Asym_mode-image_xfm.h5[1] (type = DisplacementFieldTransform)\n",
      "=============================================================================\n",
      "Default pixel value: 0\n",
      "Interpolation type: LabelImageGenericInterpolateImageFunction\n",
      "Output warped image: tpl-MNI152NLin2009cAsym_res-01_atlas-Schaefer2018v0143_desc-1000ParcelsAllNetworks_dseg.nii.gz\n"
     ]
    },
    {
     "name": "stderr",
     "output_type": "stream",
     "text": [
      "+ cd ..\n",
      "+ for atlasname in CIT168 cerebellum schaefer_map thalamic_atlas\n",
      "+ cd thalamic_atlas\n",
      "+ bash -ex prepare_atlas.sh\n",
      "+ wget https://zenodo.org/record/1405484/files/Thalamus_Nuclei-HCP-MaxProb.nii.gz\n",
      "--2023-02-02 16:23:45--  https://zenodo.org/record/1405484/files/Thalamus_Nuclei-HCP-MaxProb.nii.gz\n",
      "Resolving zenodo.org (zenodo.org)... 188.185.124.72\n",
      "Connecting to zenodo.org (zenodo.org)|188.185.124.72|:443... connected.\n",
      "HTTP request sent, awaiting response... 200 OK\n",
      "Length: 14805 (14K) [application/octet-stream]\n",
      "Saving to: ‘Thalamus_Nuclei-HCP-MaxProb.nii.gz’\n",
      "\n",
      "     0K .......... ....                                       100% 46.6M=0s\n",
      "\n",
      "2023-02-02 16:23:46 (46.6 MB/s) - ‘Thalamus_Nuclei-HCP-MaxProb.nii.gz’ saved [14805/14805]\n",
      "\n",
      "+ wget https://zenodo.org/record/1405484/files/Thalamic_Nuclei-ColorLUT.txt\n",
      "--2023-02-02 16:23:46--  https://zenodo.org/record/1405484/files/Thalamic_Nuclei-ColorLUT.txt\n",
      "Resolving zenodo.org (zenodo.org)... 188.185.124.72\n",
      "Connecting to zenodo.org (zenodo.org)|188.185.124.72|:443... connected.\n",
      "HTTP request sent, awaiting response... 200 OK\n",
      "Length: 1336 (1.3K) [text/plain]\n",
      "Saving to: ‘Thalamic_Nuclei-ColorLUT.txt’\n",
      "\n",
      "     0K .                                                     100%  319M=0s\n",
      "\n",
      "2023-02-02 16:23:48 (319 MB/s) - ‘Thalamic_Nuclei-ColorLUT.txt’ saved [1336/1336]\n",
      "\n",
      "+ antsApplyTransforms -d 3 -i Thalamus_Nuclei-HCP-MaxProb.nii.gz -o tpl-MNI152NLin6Asym_atlas-hcpthalamic_res-01_dseg.nii.gz -t ../transforms/tpl-MNI152NLin6Asym_from-MNI152NLin2009aSym_mode-image_xfm.h5 -r /Users/mcieslak/projects/templateflow/tpl-MNI152NLin6Asym/tpl-MNI152NLin6Asym_res-01_desc-brain_mask.nii.gz --interpolation GenericLabel -v 1\n"
     ]
    },
    {
     "name": "stdout",
     "output_type": "stream",
     "text": [
      "Using double precision for computations.\n",
      "Input scalar image: Thalamus_Nuclei-HCP-MaxProb.nii.gz\n",
      "Reference image: /Users/mcieslak/projects/templateflow/tpl-MNI152NLin6Asym/tpl-MNI152NLin6Asym_res-01_desc-brain_mask.nii.gz\n",
      "=============================================================================\n",
      "The composite transform comprises the following transforms (in order): \n",
      "  1. ../transforms/tpl-MNI152NLin6Asym_from-MNI152NLin2009aSym_mode-image_xfm.h5[0] (type = AffineTransform)\n",
      "  2. ../transforms/tpl-MNI152NLin6Asym_from-MNI152NLin2009aSym_mode-image_xfm.h5[1] (type = DisplacementFieldTransform)\n",
      "=============================================================================\n",
      "Default pixel value: 0\n",
      "Interpolation type: LabelImageGenericInterpolateImageFunction\n",
      "Output warped image: tpl-MNI152NLin6Asym_atlas-hcpthalamic_res-01_dseg.nii.gz\n"
     ]
    },
    {
     "name": "stderr",
     "output_type": "stream",
     "text": [
      "+ antsApplyTransforms -d 3 -i Thalamus_Nuclei-HCP-MaxProb.nii.gz -o tpl-MNI152NLin2009cAsym_atlas-hcpthalamic_res-01_dseg.nii.gz -t ../transforms/tpl-MNI152NLin2009cAsym_from-MNI152NLin2009aSym_mode-image_xfm.h5 -r /Users/mcieslak/projects/templateflow/tpl-MNI152NLin2009cAsym/tpl-MNI152NLin2009cAsym_res-01_desc-brain_mask.nii.gz --interpolation GenericLabel -v 1\n"
     ]
    },
    {
     "name": "stdout",
     "output_type": "stream",
     "text": [
      "Using double precision for computations.\n",
      "Input scalar image: Thalamus_Nuclei-HCP-MaxProb.nii.gz\n",
      "Reference image: /Users/mcieslak/projects/templateflow/tpl-MNI152NLin2009cAsym/tpl-MNI152NLin2009cAsym_res-01_desc-brain_mask.nii.gz\n",
      "=============================================================================\n",
      "The composite transform comprises the following transforms (in order): \n",
      "  1. ../transforms/tpl-MNI152NLin2009cAsym_from-MNI152NLin2009aSym_mode-image_xfm.h5[0] (type = AffineTransform)\n",
      "  2. ../transforms/tpl-MNI152NLin2009cAsym_from-MNI152NLin2009aSym_mode-image_xfm.h5[1] (type = DisplacementFieldTransform)\n",
      "=============================================================================\n",
      "Default pixel value: 0\n",
      "Interpolation type: LabelImageGenericInterpolateImageFunction\n",
      "Output warped image: tpl-MNI152NLin2009cAsym_atlas-hcpthalamic_res-01_dseg.nii.gz\n"
     ]
    },
    {
     "name": "stderr",
     "output_type": "stream",
     "text": [
      "+ python make_labels_tsv.py\n",
      "+ cd ..\n"
     ]
    }
   ],
   "source": [
    "%%bash\n",
    "\n",
    "set -eux\n",
    "\n",
    "for atlasname in CIT168 cerebellum Schaefer thalamus\n",
    "do\n",
    "  cd ${atlasname}\n",
    "  bash -ex prepare_atlas.sh\n",
    "  cd ..\n",
    "done"
   ]
  },
  {
   "cell_type": "markdown",
   "id": "8cbf2678",
   "metadata": {},
   "source": [
    "This has downloaded and standardized the atlases"
   ]
  },
  {
   "cell_type": "code",
   "execution_count": 2,
   "id": "e5ecd0b0",
   "metadata": {},
   "outputs": [],
   "source": [
    "import os\n",
    "import nibabel as nb\n",
    "\n",
    "tsvs = {\n",
    "    \"cerebellum\": \"cerebellum/atl-MDTB10.tsv\",\n",
    "    \"subcortical\": \"CIT168/atl-CIT168.tsv\",\n",
    "    \"thalamic\": \"thalamus/atl-hcpthalamic.tsv\",\n",
    "}\n",
    "\n",
    "tfhome = os.getenv(\"TEMPLATEFLOW_HOME\")\n",
    "\n",
    "nlin6_ref = os.path.join(\n",
    "    tfhome,\n",
    "    \"tpl-MNI152NLin6Asym\",\n",
    "    \"tpl-MNI152NLin6Asym_res-01_desc-brain_mask.nii.gz\",\n",
    ")\n",
    "nlin6_ref_img = nb.load(nlin6_ref)\n",
    "nlin6 = {\n",
    "    \"cerebellum\": \"cerebellum/tpl-MNI152NLin6Asym_atlas-MDTB10_res-01_dseg.nii.gz\",\n",
    "    \"subcortical\": \"CIT168/tpl-MNI152NLin6Asym_atlas-CIT168_res-01_desc-LRSplit_dseg.nii.gz\",\n",
    "    \"thalamic\": \"thalamus/tpl-MNI152NLin6Asym_atlas-hcpthalamic_res-01_dseg.nii.gz\",\n",
    "}\n",
    "\n",
    "nlin09c_ref = os.path.join(\n",
    "    tfhome,\n",
    "    \"tpl-MNI152NLin2009cAsym\",\n",
    "    \"tpl-MNI152NLin2009cAsym_res-01_desc-brain_mask.nii.gz\",\n",
    ")\n",
    "nlin09c_ref_img = nb.load(nlin09c_ref)\n",
    "nlin09c = {\n",
    "    \"cerebellum\": \"cerebellum/tpl-MNI152NLin2009cAsym_atlas-MDTB10_res-01_dseg.nii.gz\",\n",
    "    \"subcortical\": \"CIT168/tpl-MNI152NLin2009cAsym_atlas-CIT168_res-01_desc-LRSplit_dseg.nii.gz\",\n",
    "    \"thalamic\": \"thalamus/tpl-MNI152NLin2009cAsym_atlas-hcpthalamic_res-01_dseg.nii.gz\",\n",
    "}"
   ]
  },
  {
   "cell_type": "code",
   "execution_count": 3,
   "id": "cfbfc2df",
   "metadata": {},
   "outputs": [
    {
     "name": "stdout",
     "output_type": "stream",
     "text": [
      "checking files:\n",
      "\n",
      "  /Users/mcieslak/projects/templateflow/tpl-MNI152NLin6Asym/tpl-MNI152NLin6Asym_res-01_desc-brain_mask.nii.gz\n",
      "  cerebellum/tpl-MNI152NLin6Asym_atlas-MDTB10_res-01_dseg.nii.gz\n",
      "  CIT168/tpl-MNI152NLin6Asym_atlas-CIT168_res-01_desc-LRSplit_dseg.nii.gz\n",
      "  thalamic_atlas/tpl-MNI152NLin6Asym_atlas-hcpthalamic_res-01_dseg.nii.gz\n",
      "\n",
      "comparing grids:\n",
      "(182, 218, 182) == (182, 218, 182)\n",
      "(182, 218, 182) == (182, 218, 182)\n",
      "(182, 218, 182) == (182, 218, 182)\n",
      "All grids match orientation and shape!!\n",
      "checking files:\n",
      "\n",
      "  /Users/mcieslak/projects/templateflow/tpl-MNI152NLin2009cAsym/tpl-MNI152NLin2009cAsym_res-01_desc-brain_mask.nii.gz\n",
      "  cerebellum/tpl-MNI152NLin2009cAsym_atlas-MDTB10_res-01_dseg.nii.gz\n",
      "  CIT168/tpl-MNI152NLin2009cAsym_atlas-CIT168_res-01_desc-LRSplit_dseg.nii.gz\n",
      "  thalamic_atlas/tpl-MNI152NLin2009cAsym_atlas-hcpthalamic_res-01_dseg.nii.gz\n",
      "\n",
      "comparing grids:\n",
      "(193, 229, 193) == (193, 229, 193)\n",
      "(193, 229, 193) == (193, 229, 193)\n",
      "(193, 229, 193) == (193, 229, 193)\n",
      "All grids match orientation and shape!!\n"
     ]
    }
   ],
   "source": [
    "from utils import check_grids\n",
    "\n",
    "check_grids([nlin6_ref] + list(nlin6.values()))\n",
    "check_grids([nlin09c_ref] + list(nlin09c.values()))"
   ]
  },
  {
   "cell_type": "markdown",
   "id": "060258b1",
   "metadata": {},
   "source": [
    "Let's look at what one of these entries looks like:"
   ]
  },
  {
   "cell_type": "code",
   "execution_count": 4,
   "id": "3e9f54e4",
   "metadata": {
    "scrolled": true
   },
   "outputs": [],
   "source": [
    "from utils import roi_data, tsv_to_config, verify_atlas\n",
    "\n",
    "for atlas in [\"cerebellum\", \"thalamic\", \"subcortical\"]:\n",
    "    # Check nlin6\n",
    "    verify_atlas(tsv_to_config(tsvs[atlas]), roi_data(nlin6[atlas]))\n",
    "\n",
    "    # Check 2009c\n",
    "    verify_atlas(tsv_to_config(tsvs[atlas]), roi_data(nlin09c[atlas]))"
   ]
  },
  {
   "cell_type": "markdown",
   "id": "3ceb2075",
   "metadata": {},
   "source": [
    "The TSVs and the niftis all check out."
   ]
  },
  {
   "cell_type": "markdown",
   "id": "2608b3dd",
   "metadata": {},
   "source": [
    "## Combining the atlases\n",
    "\n",
    "We need to add the cerebellum, thalamus and subcortical regions into a single atlas. Below are some functions that help us add one atlas into another. We'll add these three together and then add them to all the other atlases that don't have any subcortical regions"
   ]
  },
  {
   "cell_type": "markdown",
   "id": "322473cb",
   "metadata": {},
   "source": [
    "Testing this code, let's use the cit168 atlas as the base and make sure these functions do what we think they do"
   ]
  },
  {
   "cell_type": "code",
   "execution_count": 6,
   "id": "c9f49d08",
   "metadata": {},
   "outputs": [
    {
     "name": "stdout",
     "output_type": "stream",
     "text": [
      "atlas mapping:\n",
      "(1, 1)  (2, 2)  (3, 3)  (4, 4)  (5, 5)  (6, 6)  (7, 7)  (8, 8)  (9, 9)  (12, 10)  (13, 11)  (14, 12)  (15, 13)  (16, 14)  (101, 15)  (102, 16)  (103, 17)  (104, 18)  (105, 19)  (106, 20)  (107, 21)  (108, 22)  (109, 23)  (112, 24)  (113, 25)  (114, 26)  (115, 27)  (116, 28)\n",
      "matched labels:\n",
      "(1, 1)  (2, 2)  (3, 3)  (4, 4)  (5, 5)  (6, 6)  (7, 7)  (8, 8)  (9, 9)  (12, 10)  (13, 11)  (14, 12)  (15, 13)  (16, 14)  (101, 15)  (102, 16)  (103, 17)  (104, 18)  (105, 19)  (106, 20)  (107, 21)  (108, 22)  (109, 23)  (112, 24)  (113, 25)  (114, 26)  (115, 27)  (116, 28)\n"
     ]
    }
   ],
   "source": [
    "import numpy as np\n",
    "\n",
    "from utils import get_region_data, match_partitions, remap_values\n",
    "\n",
    "# This simulates re-numbering the CIT168 altas\n",
    "cit_labels, cit_names = get_region_data(tsvs[\"subcortical\"])\n",
    "new_atlas_mapping = {\n",
    "    old_value: new_value\n",
    "    for old_value, new_value in zip(cit_labels, np.argsort(cit_labels) + 1)\n",
    "}\n",
    "\n",
    "print(\"atlas mapping:\")\n",
    "print(*sorted(new_atlas_mapping.items()), sep=\"  \")\n",
    "\n",
    "hemi_cit_data = nb.load(nlin6[\"subcortical\"]).get_fdata().astype(np.uint32)\n",
    "remapped_atlas = remap_values(hemi_cit_data, new_atlas_mapping)\n",
    "print(\"matched labels:\")\n",
    "print(*sorted(match_partitions(hemi_cit_data, remapped_atlas).items()), sep=\"  \")"
   ]
  },
  {
   "cell_type": "markdown",
   "id": "afe27977",
   "metadata": {},
   "source": [
    "It works!! Now we can start adding these atlases to one another.\n",
    "\n"
   ]
  },
  {
   "cell_type": "markdown",
   "id": "ccef3365",
   "metadata": {},
   "source": [
    "### Creating the full subcortical atlas\n",
    "\n",
    "Here we merge the three subcortical atlases"
   ]
  },
  {
   "cell_type": "code",
   "execution_count": 8,
   "id": "71d307f1",
   "metadata": {},
   "outputs": [],
   "source": [
    "import pandas as pd\n",
    "\n",
    "from utils import add_atlas_to_another, expand_df\n",
    "\n",
    "cit_hemi_config = tsv_to_config(tsvs[\"subcortical\"])\n",
    "cit_hemi_data_nlin6 = roi_data(nlin6[\"subcortical\"])\n",
    "cit_hemi_data_09c = roi_data(nlin09c[\"subcortical\"])\n",
    "\n",
    "thalamus_config = tsv_to_config(tsvs[\"thalamic\"])\n",
    "thalamus_config[\"node_names\"] = [\n",
    "    f\"ThalamusHCP_{name}\" for name in thalamus_config[\"node_names\"]\n",
    "]\n",
    "thalamus_data_nlin6 = roi_data(nlin6[\"thalamic\"])\n",
    "thalamus_data_09c = roi_data(nlin09c[\"thalamic\"])\n",
    "\n",
    "cb_config = tsv_to_config(tsvs[\"cerebellum\"])\n",
    "cb_config[\"node_names\"] = [\n",
    "    f\"Cerebellum_Cerebellar_{name}\" for name in cb_config[\"node_names\"]\n",
    "]\n",
    "cb_data_nlin6 = roi_data(nlin6[\"cerebellum\"])\n",
    "cb_data_09c = roi_data(nlin09c[\"cerebellum\"])\n",
    "\n",
    "# Do NLin6\n",
    "thalamus_and_cit_config_nlin6, thalamus_and_cit_data_nlin6 = add_atlas_to_another(\n",
    "    cit_hemi_config,\n",
    "    cit_hemi_data_nlin6,\n",
    "    thalamus_config,\n",
    "    thalamus_data_nlin6,\n",
    ")\n",
    "\n",
    "full_subcortical_config_nlin6, full_subcortical_data_nlin6 = add_atlas_to_another(\n",
    "    thalamus_and_cit_config_nlin6,\n",
    "    thalamus_and_cit_data_nlin6,\n",
    "    cb_config,\n",
    "    cb_data_nlin6,\n",
    ")\n",
    "\n",
    "subcortical_nlin6 = nb.Nifti1Image(\n",
    "    full_subcortical_data_nlin6,\n",
    "    nlin6_ref_img.affine,\n",
    "    header=nlin6_ref_img.header,\n",
    ")\n",
    "subcortical_nlin6.to_filename(\n",
    "    \"tpl-MNI152NLin6Asym_atlas-SubcorticalMerged_res-01_dseg.nii.gz\"\n",
    ")\n",
    "nlin6_df = pd.DataFrame(\n",
    "    {\n",
    "        \"index\": full_subcortical_config_nlin6[\"node_ids\"],\n",
    "        \"name\": full_subcortical_config_nlin6[\"node_names\"],\n",
    "    }\n",
    ")\n",
    "expand_df(nlin6_df).to_csv(\n",
    "    \"tpl-MNI152NLin6Asym_atlas-SubcorticalMerged_res-01_dseg.tsv\",\n",
    "    sep=\"\\t\",\n",
    "    index=False,\n",
    ")"
   ]
  },
  {
   "cell_type": "code",
   "execution_count": 9,
   "id": "3d250dca",
   "metadata": {},
   "outputs": [],
   "source": [
    "# Do 09c\n",
    "thalamus_and_cit_config_09c, thalamus_and_cit_data_09c = add_atlas_to_another(\n",
    "    cit_hemi_config,\n",
    "    cit_hemi_data_09c,\n",
    "    thalamus_config,\n",
    "    thalamus_data_09c,\n",
    ")\n",
    "\n",
    "full_subcortical_config_09c, full_subcortical_data_09c = add_atlas_to_another(\n",
    "    thalamus_and_cit_config_09c,\n",
    "    thalamus_and_cit_data_09c,\n",
    "    cb_config,\n",
    "    cb_data_09c,\n",
    ")\n",
    "\n",
    "subcortical_09c = nb.Nifti1Image(\n",
    "    full_subcortical_data_09c,\n",
    "    nlin09c_ref_img.affine,\n",
    "    header=nlin09c_ref_img.header,\n",
    ")\n",
    "subcortical_09c.to_filename(\n",
    "    \"tpl-MNI152NLin2009cAsym_atlas-SubcorticalMerged_res-01_dseg.nii.gz\"\n",
    ")\n",
    "nlin09c_df = pd.DataFrame(\n",
    "    {\n",
    "        \"index\": full_subcortical_config_09c[\"node_ids\"],\n",
    "        \"name\": full_subcortical_config_09c[\"node_names\"],\n",
    "    }\n",
    ")\n",
    "expand_df(nlin09c_df).to_csv(\n",
    "    \"tpl-MNI152NLin2009cAsym_atlas-SubcorticalMerged_res-01_dseg.tsv\",\n",
    "    sep=\"\\t\",\n",
    "    index=False,\n",
    ")"
   ]
  }
 ],
 "metadata": {
  "kernelspec": {
   "display_name": "base",
   "language": "python",
   "name": "python3"
  },
  "language_info": {
   "codemirror_mode": {
    "name": "ipython",
    "version": 3
   },
   "file_extension": ".py",
   "mimetype": "text/x-python",
   "name": "python",
   "nbconvert_exporter": "python",
   "pygments_lexer": "ipython3",
   "version": "3.8.5"
  },
  "vscode": {
   "interpreter": {
    "hash": "3d597f4c481aa0f25dceb95d2a0067e73c0966dcbd003d741d821a7208527ecf"
   }
  }
 },
 "nbformat": 4,
 "nbformat_minor": 5
}
