{
 "cells": [
  {
   "cell_type": "markdown",
   "id": "5b95a0e5",
   "metadata": {},
   "source": [
    "# Supplementing the Schaefer atlases with Subcortical Structures\n",
    "\n",
    "in `JointAtlas.ipynb` we downloaded and combined some subcortical atlases.\n",
    "Now we actually want to combine them with the volumetric Schaefer atlases to get 4S in volume space. "
   ]
  },
  {
   "cell_type": "code",
   "execution_count": 1,
   "id": "e5ecd0b0",
   "metadata": {},
   "outputs": [],
   "source": [
    "import os\n",
    "import nibabel as nb\n",
    "\n",
    "tfhome = os.getenv(\"TEMPLATEFLOW_HOME\")\n",
    "\n",
    "nlin6_subcortical = (\n",
    "    \"subcortex_merged/tpl-MNI152NLin6Asym_atlas-SubcorticalMerged_res-01_dseg.nii.gz\"\n",
    ")\n",
    "nlin6_subcortical_tsv = (\n",
    "    \"subcortex_merged/tpl-MNI152NLin6Asym_atlas-SubcorticalMerged_res-01_dseg.tsv\"\n",
    ")\n",
    "nlin6_subcortical_img = nb.load(nlin6_subcortical)\n",
    "\n",
    "nlin09c_subcortical = (\n",
    "    \"subcortex_merged/tpl-MNI152NLin2009cAsym_atlas-SubcorticalMerged_res-01_dseg.nii.gz\"\n",
    ")\n",
    "nlin09c_subcortical_tsv = (\n",
    "    \"subcortex_merged/tpl-MNI152NLin2009cAsym_atlas-SubcorticalMerged_res-01_dseg.tsv\"\n",
    ")\n",
    "nlin09c_subcortical_img = nb.load(nlin09c_subcortical)\n",
    "\n",
    "n_subcortical_parcels = 56"
   ]
  },
  {
   "cell_type": "code",
   "execution_count": 2,
   "id": "cfbfc2df",
   "metadata": {},
   "outputs": [
    {
     "name": "stdout",
     "output_type": "stream",
     "text": [
      "checking files:\n",
      "\n",
      "  tpl-MNI152NLin6Asym_atlas-SubcorticalMerged_res-01_dseg.nii.gz\n",
      "  Schaefer/tpl-MNI152NLin6Asym_atlas-Schaefer2018v0143_res-01_desc-800ParcelsAllNetworks_dseg.nii.gz\n",
      "  Schaefer/tpl-MNI152NLin6Asym_atlas-Schaefer2018v0143_res-01_desc-500ParcelsAllNetworks_dseg.nii.gz\n",
      "  Schaefer/tpl-MNI152NLin6Asym_atlas-Schaefer2018v0143_res-01_desc-300ParcelsAllNetworks_dseg.nii.gz\n",
      "  Schaefer/tpl-MNI152NLin6Asym_atlas-Schaefer2018v0143_res-01_desc-600ParcelsAllNetworks_dseg.nii.gz\n",
      "  Schaefer/tpl-MNI152NLin6Asym_atlas-Schaefer2018v0143_res-01_desc-700ParcelsAllNetworks_dseg.nii.gz\n",
      "  Schaefer/tpl-MNI152NLin6Asym_atlas-Schaefer2018v0143_res-01_desc-200ParcelsAllNetworks_dseg.nii.gz\n",
      "  Schaefer/tpl-MNI152NLin6Asym_atlas-Schaefer2018v0143_res-01_desc-900ParcelsAllNetworks_dseg.nii.gz\n",
      "  Schaefer/tpl-MNI152NLin6Asym_atlas-Schaefer2018v0143_res-01_desc-400ParcelsAllNetworks_dseg.nii.gz\n",
      "  Schaefer/tpl-MNI152NLin6Asym_atlas-Schaefer2018v0143_res-01_desc-100ParcelsAllNetworks_dseg.nii.gz\n",
      "  Schaefer/tpl-MNI152NLin6Asym_atlas-Schaefer2018v0143_res-01_desc-1000ParcelsAllNetworks_dseg.nii.gz\n",
      "\n",
      "comparing grids:\n",
      "(182, 218, 182) == (182, 218, 182)\n",
      "(182, 218, 182) == (182, 218, 182)\n",
      "(182, 218, 182) == (182, 218, 182)\n",
      "(182, 218, 182) == (182, 218, 182)\n",
      "(182, 218, 182) == (182, 218, 182)\n",
      "(182, 218, 182) == (182, 218, 182)\n",
      "(182, 218, 182) == (182, 218, 182)\n",
      "(182, 218, 182) == (182, 218, 182)\n",
      "(182, 218, 182) == (182, 218, 182)\n",
      "(182, 218, 182) == (182, 218, 182)\n",
      "All grids match orientation and shape!!\n",
      "checking files:\n",
      "\n",
      "  tpl-MNI152NLin2009cAsym_atlas-SubcorticalMerged_res-01_dseg.nii.gz\n",
      "  Schaefer/tpl-MNI152NLin2009cAsym_atlas-Schaefer2018v0143_res-01_desc-1000ParcelsAllNetworks_dseg.nii.gz\n",
      "  Schaefer/tpl-MNI152NLin2009cAsym_atlas-Schaefer2018v0143_res-01_desc-500ParcelsAllNetworks_dseg.nii.gz\n",
      "  Schaefer/tpl-MNI152NLin2009cAsym_atlas-Schaefer2018v0143_res-01_desc-800ParcelsAllNetworks_dseg.nii.gz\n",
      "  Schaefer/tpl-MNI152NLin2009cAsym_atlas-Schaefer2018v0143_res-01_desc-300ParcelsAllNetworks_dseg.nii.gz\n",
      "  Schaefer/tpl-MNI152NLin2009cAsym_atlas-Schaefer2018v0143_res-01_desc-600ParcelsAllNetworks_dseg.nii.gz\n",
      "  Schaefer/tpl-MNI152NLin2009cAsym_atlas-Schaefer2018v0143_res-01_desc-700ParcelsAllNetworks_dseg.nii.gz\n",
      "  Schaefer/tpl-MNI152NLin2009cAsym_atlas-Schaefer2018v0143_res-01_desc-200ParcelsAllNetworks_dseg.nii.gz\n",
      "  Schaefer/tpl-MNI152NLin2009cAsym_atlas-Schaefer2018v0143_res-01_desc-400ParcelsAllNetworks_dseg.nii.gz\n",
      "  Schaefer/tpl-MNI152NLin2009cAsym_atlas-Schaefer2018v0143_res-01_desc-100ParcelsAllNetworks_dseg.nii.gz\n",
      "  Schaefer/tpl-MNI152NLin2009cAsym_atlas-Schaefer2018v0143_res-01_desc-900ParcelsAllNetworks_dseg.nii.gz\n",
      "\n",
      "comparing grids:\n",
      "(193, 229, 193) == (193, 229, 193)\n",
      "(193, 229, 193) == (193, 229, 193)\n",
      "(193, 229, 193) == (193, 229, 193)\n",
      "(193, 229, 193) == (193, 229, 193)\n",
      "(193, 229, 193) == (193, 229, 193)\n",
      "(193, 229, 193) == (193, 229, 193)\n",
      "(193, 229, 193) == (193, 229, 193)\n",
      "(193, 229, 193) == (193, 229, 193)\n",
      "(193, 229, 193) == (193, 229, 193)\n",
      "(193, 229, 193) == (193, 229, 193)\n",
      "All grids match orientation and shape!!\n"
     ]
    }
   ],
   "source": [
    "from glob import glob\n",
    "import numpy as np\n",
    "\n",
    "\n",
    "def check_grids(atlas_files):\n",
    "    print(\"checking files:\")\n",
    "    print(\"\\n  \" + \"\\n  \".join(atlas_files))\n",
    "\n",
    "    print(\"\\ncomparing grids:\")\n",
    "    ref_img = nb.load(atlas_files.pop())\n",
    "\n",
    "    for try_file in atlas_files:\n",
    "        try_img = nb.load(try_file)\n",
    "        if not np.allclose(try_img.affine, ref_img.affine):\n",
    "            raise Exception(\n",
    "                \"incompatible affines:\", try_img, try_img.affine, ref_img.affine\n",
    "            )\n",
    "\n",
    "        if not try_img.shape == ref_img.shape:\n",
    "            raise Exception(\n",
    "                \"incompatible shapes:\", try_img, try_img.shape, ref_img.shape\n",
    "            )\n",
    "\n",
    "        print(try_img.shape, \"==\", ref_img.shape)\n",
    "\n",
    "    print(\"All grids match orientation and shape!!\")\n",
    "\n",
    "\n",
    "nlin6_schaefers = glob(\n",
    "    \"Schaefer/tpl-MNI152NLin6Asym_atlas-Schaefer2018v0143_res-01_desc-*_dseg.nii.gz\"\n",
    ")\n",
    "nlin09c_schaefers = glob(\n",
    "    \"Schaefer/tpl-MNI152NLin2009cAsym_atlas-Schaefer2018v0143_res-01_desc-*_dseg.nii.gz\"\n",
    ")\n",
    "\n",
    "check_grids([nlin6_subcortical] + nlin6_schaefers)\n",
    "check_grids([nlin09c_subcortical] + nlin09c_schaefers)"
   ]
  },
  {
   "cell_type": "markdown",
   "id": "060258b1",
   "metadata": {},
   "source": [
    "Let's look at what one of these entries looks like:"
   ]
  },
  {
   "cell_type": "markdown",
   "id": "2608b3dd",
   "metadata": {},
   "source": [
    "## Combining the atlases\n",
    "\n",
    "We need to add the cerebellum, thalamus and subcortical regions into a single atlas. Below are some functions that help us add one atlas into another. We'll add these three together and then add them to all the other atlases that don't have any subcortical regions"
   ]
  },
  {
   "cell_type": "markdown",
   "id": "322473cb",
   "metadata": {},
   "source": [
    "This code worked in the other notebooks, no need to test here"
   ]
  },
  {
   "cell_type": "markdown",
   "id": "ccef3365",
   "metadata": {},
   "source": [
    "### Creating the full volumetric atlas set: NLin6\n",
    "\n",
    "The Shaefer NLin6 atlases will get the subcortical regions added to them"
   ]
  },
  {
   "cell_type": "code",
   "execution_count": 7,
   "id": "71d307f1",
   "metadata": {},
   "outputs": [
    {
     "ename": "PermissionError",
     "evalue": "[Errno 13] Permission denied: 'tpl-MNI152NLin6Asym_atlas-4S852Parcels_res-01_dseg.nii.gz'",
     "output_type": "error",
     "traceback": [
      "\u001b[0;31m---------------------------------------------------------------------------\u001b[0m",
      "\u001b[0;31mPermissionError\u001b[0m                           Traceback (most recent call last)",
      "Cell \u001b[0;32mIn[7], line 20\u001b[0m\n\u001b[1;32m     18\u001b[0m new_nparcels \u001b[38;5;241m=\u001b[39m \u001b[38;5;28mint\u001b[39m(resolution) \u001b[38;5;241m+\u001b[39m \u001b[38;5;241m52\u001b[39m\n\u001b[1;32m     19\u001b[0m merged_file_name \u001b[38;5;241m=\u001b[39m \u001b[38;5;124m\"\u001b[39m\u001b[38;5;124mtpl-MNI152NLin6Asym_atlas-4S\u001b[39m\u001b[38;5;132;01m%d\u001b[39;00m\u001b[38;5;124mParcels_res-01_dseg\u001b[39m\u001b[38;5;124m\"\u001b[39m \u001b[38;5;241m%\u001b[39m new_nparcels\n\u001b[0;32m---> 20\u001b[0m \u001b[43msubcortical_nlin6\u001b[49m\u001b[38;5;241;43m.\u001b[39;49m\u001b[43mto_filename\u001b[49m\u001b[43m(\u001b[49m\u001b[43mmerged_file_name\u001b[49m\u001b[43m \u001b[49m\u001b[38;5;241;43m+\u001b[39;49m\u001b[43m \u001b[49m\u001b[38;5;124;43m\"\u001b[39;49m\u001b[38;5;124;43m.nii.gz\u001b[39;49m\u001b[38;5;124;43m\"\u001b[39;49m\u001b[43m)\u001b[49m\n\u001b[1;32m     21\u001b[0m nlin6_df \u001b[38;5;241m=\u001b[39m pd\u001b[38;5;241m.\u001b[39mDataFrame(\n\u001b[1;32m     22\u001b[0m     {\u001b[38;5;124m\"\u001b[39m\u001b[38;5;124mindex\u001b[39m\u001b[38;5;124m\"\u001b[39m: combined_config_nlin6[\u001b[38;5;124m'\u001b[39m\u001b[38;5;124mnode_ids\u001b[39m\u001b[38;5;124m'\u001b[39m],\n\u001b[1;32m     23\u001b[0m      \u001b[38;5;124m\"\u001b[39m\u001b[38;5;124mname\u001b[39m\u001b[38;5;124m\"\u001b[39m: combined_config_nlin6[\u001b[38;5;124m'\u001b[39m\u001b[38;5;124mnode_names\u001b[39m\u001b[38;5;124m'\u001b[39m]})\n\u001b[1;32m     25\u001b[0m \u001b[38;5;66;03m# Check this data frame to ensure that the indexes and labels are the same\u001b[39;00m\n",
      "File \u001b[0;32m/usr/local/Caskroom/miniconda/base/envs/qsiprep/lib/python3.8/site-packages/nibabel/filebasedimages.py:333\u001b[0m, in \u001b[0;36mFileBasedImage.to_filename\u001b[0;34m(self, filename)\u001b[0m\n\u001b[1;32m    319\u001b[0m \u001b[38;5;124;03m\"\"\" Write image to files implied by filename string\u001b[39;00m\n\u001b[1;32m    320\u001b[0m \n\u001b[1;32m    321\u001b[0m \u001b[38;5;124;03mParameters\u001b[39;00m\n\u001b[0;32m   (...)\u001b[0m\n\u001b[1;32m    330\u001b[0m \u001b[38;5;124;03mNone\u001b[39;00m\n\u001b[1;32m    331\u001b[0m \u001b[38;5;124;03m\"\"\"\u001b[39;00m\n\u001b[1;32m    332\u001b[0m \u001b[38;5;28mself\u001b[39m\u001b[38;5;241m.\u001b[39mfile_map \u001b[38;5;241m=\u001b[39m \u001b[38;5;28mself\u001b[39m\u001b[38;5;241m.\u001b[39mfilespec_to_file_map(filename)\n\u001b[0;32m--> 333\u001b[0m \u001b[38;5;28;43mself\u001b[39;49m\u001b[38;5;241;43m.\u001b[39;49m\u001b[43mto_file_map\u001b[49m\u001b[43m(\u001b[49m\u001b[43m)\u001b[49m\n",
      "File \u001b[0;32m/usr/local/Caskroom/miniconda/base/envs/qsiprep/lib/python3.8/site-packages/nibabel/analyze.py:1030\u001b[0m, in \u001b[0;36mAnalyzeImage.to_file_map\u001b[0;34m(self, file_map)\u001b[0m\n\u001b[1;32m   1026\u001b[0m \u001b[38;5;66;03m# Check if hdr and img refer to same file; this can happen with odd\u001b[39;00m\n\u001b[1;32m   1027\u001b[0m \u001b[38;5;66;03m# analyze images but most often this is because it's a single nifti\u001b[39;00m\n\u001b[1;32m   1028\u001b[0m \u001b[38;5;66;03m# file\u001b[39;00m\n\u001b[1;32m   1029\u001b[0m hdr_img_same \u001b[38;5;241m=\u001b[39m hdr_fh\u001b[38;5;241m.\u001b[39msame_file_as(img_fh)\n\u001b[0;32m-> 1030\u001b[0m hdrf \u001b[38;5;241m=\u001b[39m \u001b[43mhdr_fh\u001b[49m\u001b[38;5;241;43m.\u001b[39;49m\u001b[43mget_prepare_fileobj\u001b[49m\u001b[43m(\u001b[49m\u001b[43mmode\u001b[49m\u001b[38;5;241;43m=\u001b[39;49m\u001b[38;5;124;43m'\u001b[39;49m\u001b[38;5;124;43mwb\u001b[39;49m\u001b[38;5;124;43m'\u001b[39;49m\u001b[43m)\u001b[49m\n\u001b[1;32m   1031\u001b[0m \u001b[38;5;28;01mif\u001b[39;00m hdr_img_same:\n\u001b[1;32m   1032\u001b[0m     imgf \u001b[38;5;241m=\u001b[39m hdrf\n",
      "File \u001b[0;32m/usr/local/Caskroom/miniconda/base/envs/qsiprep/lib/python3.8/site-packages/nibabel/fileholders.py:70\u001b[0m, in \u001b[0;36mFileHolder.get_prepare_fileobj\u001b[0;34m(self, *args, **kwargs)\u001b[0m\n\u001b[1;32m     68\u001b[0m     obj\u001b[38;5;241m.\u001b[39mseek(\u001b[38;5;28mself\u001b[39m\u001b[38;5;241m.\u001b[39mpos)\n\u001b[1;32m     69\u001b[0m \u001b[38;5;28;01melif\u001b[39;00m \u001b[38;5;28mself\u001b[39m\u001b[38;5;241m.\u001b[39mfilename \u001b[38;5;129;01mis\u001b[39;00m \u001b[38;5;129;01mnot\u001b[39;00m \u001b[38;5;28;01mNone\u001b[39;00m:\n\u001b[0;32m---> 70\u001b[0m     obj \u001b[38;5;241m=\u001b[39m \u001b[43mImageOpener\u001b[49m\u001b[43m(\u001b[49m\u001b[38;5;28;43mself\u001b[39;49m\u001b[38;5;241;43m.\u001b[39;49m\u001b[43mfilename\u001b[49m\u001b[43m,\u001b[49m\u001b[43m \u001b[49m\u001b[38;5;241;43m*\u001b[39;49m\u001b[43margs\u001b[49m\u001b[43m,\u001b[49m\u001b[43m \u001b[49m\u001b[38;5;241;43m*\u001b[39;49m\u001b[38;5;241;43m*\u001b[39;49m\u001b[43mkwargs\u001b[49m\u001b[43m)\u001b[49m\n\u001b[1;32m     71\u001b[0m     \u001b[38;5;28;01mif\u001b[39;00m \u001b[38;5;28mself\u001b[39m\u001b[38;5;241m.\u001b[39mpos \u001b[38;5;241m!=\u001b[39m \u001b[38;5;241m0\u001b[39m:\n\u001b[1;32m     72\u001b[0m         obj\u001b[38;5;241m.\u001b[39mseek(\u001b[38;5;28mself\u001b[39m\u001b[38;5;241m.\u001b[39mpos)\n",
      "File \u001b[0;32m/usr/local/Caskroom/miniconda/base/envs/qsiprep/lib/python3.8/site-packages/nibabel/openers.py:113\u001b[0m, in \u001b[0;36mOpener.__init__\u001b[0;34m(self, fileish, *args, **kwargs)\u001b[0m\n\u001b[1;32m    110\u001b[0m \u001b[38;5;66;03m# Clear keep_open hint if it is not relevant for the file type\u001b[39;00m\n\u001b[1;32m    111\u001b[0m \u001b[38;5;28;01melse\u001b[39;00m:\n\u001b[1;32m    112\u001b[0m     kwargs\u001b[38;5;241m.\u001b[39mpop(\u001b[38;5;124m'\u001b[39m\u001b[38;5;124mkeep_open\u001b[39m\u001b[38;5;124m'\u001b[39m, \u001b[38;5;28;01mNone\u001b[39;00m)\n\u001b[0;32m--> 113\u001b[0m \u001b[38;5;28mself\u001b[39m\u001b[38;5;241m.\u001b[39mfobj \u001b[38;5;241m=\u001b[39m \u001b[43mopener\u001b[49m\u001b[43m(\u001b[49m\u001b[43mfileish\u001b[49m\u001b[43m,\u001b[49m\u001b[43m \u001b[49m\u001b[38;5;241;43m*\u001b[39;49m\u001b[43margs\u001b[49m\u001b[43m,\u001b[49m\u001b[43m \u001b[49m\u001b[38;5;241;43m*\u001b[39;49m\u001b[38;5;241;43m*\u001b[39;49m\u001b[43mkwargs\u001b[49m\u001b[43m)\u001b[49m\n\u001b[1;32m    114\u001b[0m \u001b[38;5;28mself\u001b[39m\u001b[38;5;241m.\u001b[39m_name \u001b[38;5;241m=\u001b[39m fileish\n\u001b[1;32m    115\u001b[0m \u001b[38;5;28mself\u001b[39m\u001b[38;5;241m.\u001b[39mme_opened \u001b[38;5;241m=\u001b[39m \u001b[38;5;28;01mTrue\u001b[39;00m\n",
      "File \u001b[0;32m/usr/local/Caskroom/miniconda/base/envs/qsiprep/lib/python3.8/site-packages/nibabel/openers.py:53\u001b[0m, in \u001b[0;36m_gzip_open\u001b[0;34m(filename, mode, compresslevel, keep_open)\u001b[0m\n\u001b[1;32m     49\u001b[0m     gzip_file \u001b[38;5;241m=\u001b[39m IndexedGzipFile(filename, drop_handles\u001b[38;5;241m=\u001b[39m\u001b[38;5;129;01mnot\u001b[39;00m keep_open)\n\u001b[1;32m     51\u001b[0m \u001b[38;5;66;03m# Fall-back to built-in GzipFile\u001b[39;00m\n\u001b[1;32m     52\u001b[0m \u001b[38;5;28;01melse\u001b[39;00m:\n\u001b[0;32m---> 53\u001b[0m     gzip_file \u001b[38;5;241m=\u001b[39m \u001b[43mgzip\u001b[49m\u001b[38;5;241;43m.\u001b[39;49m\u001b[43mGzipFile\u001b[49m\u001b[43m(\u001b[49m\u001b[43mfilename\u001b[49m\u001b[43m,\u001b[49m\u001b[43m \u001b[49m\u001b[43mmode\u001b[49m\u001b[43m,\u001b[49m\u001b[43m \u001b[49m\u001b[43mcompresslevel\u001b[49m\u001b[43m)\u001b[49m\n\u001b[1;32m     55\u001b[0m \u001b[38;5;28;01mreturn\u001b[39;00m gzip_file\n",
      "File \u001b[0;32m/usr/local/Caskroom/miniconda/base/envs/qsiprep/lib/python3.8/gzip.py:173\u001b[0m, in \u001b[0;36mGzipFile.__init__\u001b[0;34m(self, filename, mode, compresslevel, fileobj, mtime)\u001b[0m\n\u001b[1;32m    171\u001b[0m     mode \u001b[38;5;241m+\u001b[39m\u001b[38;5;241m=\u001b[39m \u001b[38;5;124m'\u001b[39m\u001b[38;5;124mb\u001b[39m\u001b[38;5;124m'\u001b[39m\n\u001b[1;32m    172\u001b[0m \u001b[38;5;28;01mif\u001b[39;00m fileobj \u001b[38;5;129;01mis\u001b[39;00m \u001b[38;5;28;01mNone\u001b[39;00m:\n\u001b[0;32m--> 173\u001b[0m     fileobj \u001b[38;5;241m=\u001b[39m \u001b[38;5;28mself\u001b[39m\u001b[38;5;241m.\u001b[39mmyfileobj \u001b[38;5;241m=\u001b[39m \u001b[43mbuiltins\u001b[49m\u001b[38;5;241;43m.\u001b[39;49m\u001b[43mopen\u001b[49m\u001b[43m(\u001b[49m\u001b[43mfilename\u001b[49m\u001b[43m,\u001b[49m\u001b[43m \u001b[49m\u001b[43mmode\u001b[49m\u001b[43m \u001b[49m\u001b[38;5;129;43;01mor\u001b[39;49;00m\u001b[43m \u001b[49m\u001b[38;5;124;43m'\u001b[39;49m\u001b[38;5;124;43mrb\u001b[39;49m\u001b[38;5;124;43m'\u001b[39;49m\u001b[43m)\u001b[49m\n\u001b[1;32m    174\u001b[0m \u001b[38;5;28;01mif\u001b[39;00m filename \u001b[38;5;129;01mis\u001b[39;00m \u001b[38;5;28;01mNone\u001b[39;00m:\n\u001b[1;32m    175\u001b[0m     filename \u001b[38;5;241m=\u001b[39m \u001b[38;5;28mgetattr\u001b[39m(fileobj, \u001b[38;5;124m'\u001b[39m\u001b[38;5;124mname\u001b[39m\u001b[38;5;124m'\u001b[39m, \u001b[38;5;124m'\u001b[39m\u001b[38;5;124m'\u001b[39m)\n",
      "\u001b[0;31mPermissionError\u001b[0m: [Errno 13] Permission denied: 'tpl-MNI152NLin6Asym_atlas-4S852Parcels_res-01_dseg.nii.gz'"
     ]
    }
   ],
   "source": [
    "import pandas as pd\n",
    "\n",
    "from utils import add_atlas_to_another, roi_data, tsv_to_config\n",
    "\n",
    "nlin6_subcortical_config = tsv_to_config(nlin6_subcortical_tsv)\n",
    "nlin6_subcortical_data = roi_data(nlin6_subcortical)\n",
    "\n",
    "for nlin6_schaefer in nlin6_schaefers:\n",
    "    resolution = nlin6_schaefer.split(\"desc-\")[1].split(\"Parcels\")[0]\n",
    "    # Get the image and the tsv\n",
    "    schaefer_data = roi_data(nlin6_schaefer)\n",
    "    schaefer_config = tsv_to_config(\n",
    "        f\"Schaefer/atlas-Schaefer2018v0143_desc-{resolution}ParcelsAllNetworks_dseg.tsv\"\n",
    "    )\n",
    "    combined_config_nlin6, combined_data_nlin6 = add_atlas_to_another(\n",
    "        schaefer_config,\n",
    "        schaefer_data,\n",
    "        nlin6_subcortical_config,\n",
    "        nlin6_subcortical_data,\n",
    "    )\n",
    "\n",
    "    subcortical_nlin6 = nb.Nifti1Image(\n",
    "        combined_data_nlin6, nlin6_subcortical_img.affine\n",
    "    )\n",
    "    new_nparcels = int(resolution) + n_subcortical_parcels\n",
    "    merged_file_name = f\"tpl-MNI152NLin6Asym_atlas-4S{new_nparcels}Parcels_res-01_dseg\"\n",
    "    subcortical_nlin6.to_filename(merged_file_name + \".nii.gz\")\n",
    "    nlin6_df = pd.DataFrame(\n",
    "        {\n",
    "            \"index\": combined_config_nlin6[\"node_ids\"],\n",
    "            \"name\": combined_config_nlin6[\"node_names\"],\n",
    "        },\n",
    "    )\n",
    "\n",
    "    # Check this data frame to ensure that the indexes and labels are the same\n",
    "    official_label_df = pd.read_table(f\"atlas-4S{new_nparcels}Parcels_dseg.tsv\")\n",
    "    assert (nlin6_df[\"index\"] == official_label_df[\"index\"]).all()\n",
    "    assert (nlin6_df[\"name\"] == official_label_df[\"label\"]).all()"
   ]
  },
  {
   "cell_type": "markdown",
   "id": "4712c8e2",
   "metadata": {},
   "source": [
    "### Creating the full volumetric atlas set: 2009c\n",
    "\n",
    "The Schaefer 2009c atlases will get the subcortical regions added to them\n"
   ]
  },
  {
   "cell_type": "code",
   "execution_count": 7,
   "id": "33c154ef",
   "metadata": {},
   "outputs": [],
   "source": [
    "nlin09c_subcortical_config = tsv_to_config(nlin09c_subcortical_tsv)\n",
    "nlin09c_subcortical_data = roi_data(nlin09c_subcortical)\n",
    "\n",
    "for nlin09c_schaefer in nlin09c_schaefers:\n",
    "    resolution = nlin09c_schaefer.split(\"desc-\")[1].split(\"Parcels\")[0]\n",
    "    # Get the image and the tsv\n",
    "    schaefer_data = roi_data(nlin09c_schaefer)\n",
    "    schaefer_config = tsv_to_config(\n",
    "        f\"Schaefer/atlas-Schaefer2018v0143_desc-{resolution}ParcelsAllNetworks_dseg.tsv\"\n",
    "    )\n",
    "    combined_config_nlin09c, combined_data_nlin09c = add_atlas_to_another(\n",
    "        schaefer_config,\n",
    "        schaefer_data,\n",
    "        nlin09c_subcortical_config,\n",
    "        nlin09c_subcortical_data,\n",
    "    )\n",
    "\n",
    "    subcortical_nlin09c = nb.Nifti1Image(\n",
    "        combined_data_nlin09c, nlin09c_subcortical_img.affine\n",
    "    )\n",
    "    new_nparcels = int(resolution) + n_subcortical_parcels\n",
    "    merged_file_name = (\n",
    "        f\"tpl-MNI152NLin2009cAsym_atlas-4S{new_nparcels}Parcels_res-01_dseg\"\n",
    "    )\n",
    "    subcortical_nlin09c.to_filename(merged_file_name + \".nii.gz\")\n",
    "    nlin09c_df = pd.DataFrame(\n",
    "        {\n",
    "            \"index\": combined_config_nlin09c[\"node_ids\"],\n",
    "            \"name\": combined_config_nlin09c[\"node_names\"],\n",
    "        },\n",
    "    )\n",
    "\n",
    "    # Check this data frame to ensure that the indexes and labels are the same\n",
    "    official_label_df = pd.read_table(f\"atlas-4S{new_nparcels}Parcels_dseg.tsv\")\n",
    "    assert (nlin09c_df[\"index\"] == official_label_df[\"index\"]).all()\n",
    "    assert (nlin09c_df[\"name\"] == official_label_df[\"label\"]).all()"
   ]
  }
 ],
 "metadata": {
  "kernelspec": {
   "display_name": "Python 3 (ipykernel)",
   "language": "python",
   "name": "python3"
  },
  "language_info": {
   "codemirror_mode": {
    "name": "ipython",
    "version": 3
   },
   "file_extension": ".py",
   "mimetype": "text/x-python",
   "name": "python",
   "nbconvert_exporter": "python",
   "pygments_lexer": "ipython3",
   "version": "3.8.12"
  },
  "vscode": {
   "interpreter": {
    "hash": "3d597f4c481aa0f25dceb95d2a0067e73c0966dcbd003d741d821a7208527ecf"
   }
  }
 },
 "nbformat": 4,
 "nbformat_minor": 5
}
