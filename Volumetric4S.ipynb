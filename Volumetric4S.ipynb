{
 "cells": [
  {
   "cell_type": "markdown",
   "id": "5b95a0e5",
   "metadata": {},
   "source": [
    "# Supplementing the Schaefer atlases with Subcortical Structures\n",
    "\n",
    "in `JointAtlas.ipynb` we downloaded and combined some subcortical atlases.\n",
    "Now we actually want to combine them with the volumetric Schaefer atlases to get 4S in volume space. "
   ]
  },
  {
   "cell_type": "code",
   "execution_count": null,
   "id": "e5ecd0b0",
   "metadata": {},
   "outputs": [],
   "source": [
    "import os\n",
    "import nibabel as nb\n",
    "\n",
    "tfhome = os.getenv(\"TEMPLATEFLOW_HOME\")\n",
    "\n",
    "nlin6_subcortical = (\n",
    "    \"subcortical_merged/tpl-MNI152NLin6Asym_atlas-SubcorticalMerged_res-01_dseg.nii.gz\"\n",
    ")\n",
    "nlin6_subcortical_tsv = (\n",
    "    \"subcortical_merged/tpl-MNI152NLin6Asym_atlas-SubcorticalMerged_res-01_dseg.tsv\"\n",
    ")\n",
    "nlin6_subcortical_img = nb.load(nlin6_subcortical)\n",
    "\n",
    "nlin09c_subcortical = (\n",
    "    \"subcortical_merged/tpl-MNI152NLin2009cAsym_atlas-SubcorticalMerged_res-01_dseg.nii.gz\"\n",
    ")\n",
    "nlin09c_subcortical_tsv = (\n",
    "    \"subcortical_merged/tpl-MNI152NLin2009cAsym_atlas-SubcorticalMerged_res-01_dseg.tsv\"\n",
    ")\n",
    "nlin09c_subcortical_img = nb.load(nlin09c_subcortical)\n",
    "\n",
    "n_subcortical_parcels = 56"
   ]
  },
  {
   "cell_type": "code",
   "execution_count": null,
   "id": "cfbfc2df",
   "metadata": {},
   "outputs": [],
   "source": [
    "from glob import glob\n",
    "\n",
    "from utils import check_grids\n",
    "\n",
    "nlin6_schaefers = glob(\n",
    "    \"Schaefer/tpl-MNI152NLin6Asym_atlas-Schaefer2018v0143_res-01_desc-*_dseg.nii.gz\"\n",
    ")\n",
    "nlin09c_schaefers = glob(\n",
    "    \"Schaefer/tpl-MNI152NLin2009cAsym_atlas-Schaefer2018v0143_res-01_desc-*_dseg.nii.gz\"\n",
    ")\n",
    "\n",
    "check_grids([nlin6_subcortical] + nlin6_schaefers)\n",
    "check_grids([nlin09c_subcortical] + nlin09c_schaefers)"
   ]
  },
  {
   "cell_type": "markdown",
   "id": "060258b1",
   "metadata": {},
   "source": [
    "Let's look at what one of these entries looks like:"
   ]
  },
  {
   "cell_type": "markdown",
   "id": "2608b3dd",
   "metadata": {},
   "source": [
    "## Combining the atlases\n",
    "\n",
    "We need to add the cerebellum, thalamus and subcortical regions into a single atlas. Below are some functions that help us add one atlas into another. We'll add these three together and then add them to all the other atlases that don't have any subcortical regions"
   ]
  },
  {
   "cell_type": "markdown",
   "id": "322473cb",
   "metadata": {},
   "source": [
    "This code worked in the other notebooks, no need to test here"
   ]
  },
  {
   "cell_type": "markdown",
   "id": "ccef3365",
   "metadata": {},
   "source": [
    "### Creating the full volumetric atlas set: NLin6\n",
    "\n",
    "The Shaefer NLin6 atlases will get the subcortical regions added to them"
   ]
  },
  {
   "cell_type": "code",
   "execution_count": null,
   "id": "71d307f1",
   "metadata": {},
   "outputs": [],
   "source": [
    "import pandas as pd\n",
    "\n",
    "from utils import add_atlas_to_another, roi_data, tsv_to_config\n",
    "\n",
    "nlin6_subcortical_config = tsv_to_config(nlin6_subcortical_tsv)\n",
    "nlin6_subcortical_data = roi_data(nlin6_subcortical)\n",
    "\n",
    "for nlin6_schaefer in nlin6_schaefers:\n",
    "    resolution = nlin6_schaefer.split(\"desc-\")[1].split(\"Parcels\")[0]\n",
    "    # Get the image and the tsv\n",
    "    schaefer_data = roi_data(nlin6_schaefer)\n",
    "    schaefer_config = tsv_to_config(\n",
    "        f\"Schaefer/atlas-Schaefer2018v0143_desc-{resolution}ParcelsAllNetworks_dseg.tsv\"\n",
    "    )\n",
    "    combined_config_nlin6, combined_data_nlin6 = add_atlas_to_another(\n",
    "        schaefer_config,\n",
    "        schaefer_data,\n",
    "        nlin6_subcortical_config,\n",
    "        nlin6_subcortical_data,\n",
    "    )\n",
    "\n",
    "    subcortical_nlin6 = nb.Nifti1Image(\n",
    "        combined_data_nlin6, nlin6_subcortical_img.affine\n",
    "    )\n",
    "    new_nparcels = int(resolution) + n_subcortical_parcels\n",
    "    merged_file_name = f\"tpl-MNI152NLin6Asym_atlas-4S{new_nparcels}Parcels_res-01_dseg\"\n",
    "    subcortical_nlin6.to_filename(merged_file_name + \".nii.gz\")\n",
    "    nlin6_df = pd.DataFrame(\n",
    "        {\n",
    "            \"index\": combined_config_nlin6[\"node_ids\"],\n",
    "            \"name\": combined_config_nlin6[\"node_names\"],\n",
    "        },\n",
    "    )\n",
    "\n",
    "    # Check this data frame to ensure that the indexes and labels are the same\n",
    "    official_label_df = pd.read_table(f\"atlas-4S{new_nparcels}Parcels_dseg.tsv\")\n",
    "    assert (nlin6_df[\"index\"] == official_label_df[\"index\"]).all()\n",
    "    assert (nlin6_df[\"name\"] == official_label_df[\"label\"]).all()"
   ]
  },
  {
   "cell_type": "markdown",
   "id": "4712c8e2",
   "metadata": {},
   "source": [
    "### Creating the full volumetric atlas set: 2009c\n",
    "\n",
    "The Schaefer 2009c atlases will get the subcortical regions added to them\n"
   ]
  },
  {
   "cell_type": "code",
   "execution_count": null,
   "id": "33c154ef",
   "metadata": {},
   "outputs": [],
   "source": [
    "nlin09c_subcortical_config = tsv_to_config(nlin09c_subcortical_tsv)\n",
    "nlin09c_subcortical_data = roi_data(nlin09c_subcortical)\n",
    "\n",
    "for nlin09c_schaefer in nlin09c_schaefers:\n",
    "    resolution = nlin09c_schaefer.split(\"desc-\")[1].split(\"Parcels\")[0]\n",
    "    # Get the image and the tsv\n",
    "    schaefer_data = roi_data(nlin09c_schaefer)\n",
    "    schaefer_config = tsv_to_config(\n",
    "        f\"Schaefer/atlas-Schaefer2018v0143_desc-{resolution}ParcelsAllNetworks_dseg.tsv\"\n",
    "    )\n",
    "    combined_config_nlin09c, combined_data_nlin09c = add_atlas_to_another(\n",
    "        schaefer_config,\n",
    "        schaefer_data,\n",
    "        nlin09c_subcortical_config,\n",
    "        nlin09c_subcortical_data,\n",
    "    )\n",
    "\n",
    "    subcortical_nlin09c = nb.Nifti1Image(\n",
    "        combined_data_nlin09c, nlin09c_subcortical_img.affine\n",
    "    )\n",
    "    new_nparcels = int(resolution) + n_subcortical_parcels\n",
    "    merged_file_name = (\n",
    "        f\"tpl-MNI152NLin2009cAsym_atlas-4S{new_nparcels}Parcels_res-01_dseg\"\n",
    "    )\n",
    "    subcortical_nlin09c.to_filename(merged_file_name + \".nii.gz\")\n",
    "    nlin09c_df = pd.DataFrame(\n",
    "        {\n",
    "            \"index\": combined_config_nlin09c[\"node_ids\"],\n",
    "            \"name\": combined_config_nlin09c[\"node_names\"],\n",
    "        },\n",
    "    )\n",
    "\n",
    "    # Check this data frame to ensure that the indexes and labels are the same\n",
    "    official_label_df = pd.read_table(f\"atlas-4S{new_nparcels}Parcels_dseg.tsv\")\n",
    "    assert (nlin09c_df[\"index\"] == official_label_df[\"index\"]).all()\n",
    "    assert (nlin09c_df[\"name\"] == official_label_df[\"label\"]).all()"
   ]
  }
 ],
 "metadata": {
  "kernelspec": {
   "display_name": "Python 3 (ipykernel)",
   "language": "python",
   "name": "python3"
  },
  "language_info": {
   "codemirror_mode": {
    "name": "ipython",
    "version": 3
   },
   "file_extension": ".py",
   "mimetype": "text/x-python",
   "name": "python",
   "nbconvert_exporter": "python",
   "pygments_lexer": "ipython3",
   "version": "3.8.12"
  },
  "vscode": {
   "interpreter": {
    "hash": "3d597f4c481aa0f25dceb95d2a0067e73c0966dcbd003d741d821a7208527ecf"
   }
  }
 },
 "nbformat": 4,
 "nbformat_minor": 5
}
